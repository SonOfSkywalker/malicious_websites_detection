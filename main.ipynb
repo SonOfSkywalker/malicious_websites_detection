{
 "cells": [
  {
   "cell_type": "markdown",
   "metadata": {},
   "source": [
    "<div style=\"background-image:url(https://www.datacenterknowledge.com/sites/datacenterknowledge.com/files/styles/article_featured_retina/public/cybersecurity%20security%20infosec%20art%20getty.jpg?itok=9LwGlPRR);background-size:cover;height:400px;color:white;border-radius:20px;\">\n",
    "    <div style=\"background-color:rgba(125,125,200,0.3);height:400px;border-radius:20px;\">\n",
    "        <br><br>\n",
    "        <div><h1 style=\"text-align:center;font-size:50px;\">AIC-4101C - Machine learning Project : Malicious and Benign Websites</h1></div>\n",
    "        <br>\n",
    "        <div><p style=\"text-align:center;color:grey;font-style:italic;font-size:30px;\">by Raphaël CANIN & Melisa KOCKAN</p></div>\n",
    "    </div>\n",
    "    \n",
    "</div>"
   ]
  },
  {
   "cell_type": "markdown",
   "metadata": {},
   "source": [
    "# I - Data analysis"
   ]
  },
  {
   "cell_type": "markdown",
   "metadata": {},
   "source": [
    "Before doing applying any algorithms to the data, we must pre-process it. Indeed, some values are missing, some others are strings or date... Also, maybe some of the columns are not relevant to identify malicious websites."
   ]
  },
  {
   "cell_type": "markdown",
   "metadata": {},
   "source": [
    "## A - Data import"
   ]
  },
  {
   "cell_type": "markdown",
   "metadata": {},
   "source": [
    "Our data is currently stored in a CSV file. We must import this file as an array using Pandas."
   ]
  },
  {
   "cell_type": "code",
   "execution_count": 1,
   "metadata": {},
   "outputs": [],
   "source": [
    "import numpy as np\n",
    "import os\n",
    "import pandas as pd\n",
    "import matplotlib.pyplot as plt"
   ]
  },
  {
   "cell_type": "markdown",
   "metadata": {},
   "source": [
    "### Read the CSV"
   ]
  },
  {
   "cell_type": "code",
   "execution_count": 2,
   "metadata": {},
   "outputs": [],
   "source": [
    "csv = pd.read_csv(\"train.csv\")\n",
    "csv_test = pd.read_csv(\"test.csv\")"
   ]
  },
  {
   "cell_type": "markdown",
   "metadata": {},
   "source": [
    "### Names of the differents columns"
   ]
  },
  {
   "cell_type": "markdown",
   "metadata": {},
   "source": [
    "#### Train information"
   ]
  },
  {
   "cell_type": "code",
   "execution_count": 3,
   "metadata": {
    "scrolled": false
   },
   "outputs": [
    {
     "name": "stdout",
     "output_type": "stream",
     "text": [
      "Index(['URL', 'URL_LENGTH', 'NUMBER_SPECIAL_CHARACTERS', 'CHARSET', 'SERVER',\n",
      "       'CONTENT_LENGTH', 'WHOIS_COUNTRY', 'WHOIS_STATEPRO', 'WHOIS_REGDATE',\n",
      "       'WHOIS_UPDATED_DATE', 'TCP_CONVERSATION_EXCHANGE',\n",
      "       'DIST_REMOTE_TCP_PORT', 'REMOTE_IPS', 'APP_BYTES', 'SOURCE_APP_PACKETS',\n",
      "       'REMOTE_APP_PACKETS', 'SOURCE_APP_BYTES', 'REMOTE_APP_BYTES',\n",
      "       'APP_PACKETS', 'DNS_QUERY_TIMES', 'Type'],\n",
      "      dtype='object')\n",
      "Number of columns :  21\n"
     ]
    }
   ],
   "source": [
    "print(csv.columns)\n",
    "print(\"Number of columns : \", len(csv.columns))"
   ]
  },
  {
   "cell_type": "markdown",
   "metadata": {},
   "source": [
    "#### Test information"
   ]
  },
  {
   "cell_type": "code",
   "execution_count": 4,
   "metadata": {
    "scrolled": true
   },
   "outputs": [
    {
     "name": "stdout",
     "output_type": "stream",
     "text": [
      "Index(['URL', 'URL_LENGTH', 'NUMBER_SPECIAL_CHARACTERS', 'CHARSET', 'SERVER',\n",
      "       'CONTENT_LENGTH', 'WHOIS_COUNTRY', 'WHOIS_STATEPRO', 'WHOIS_REGDATE',\n",
      "       'WHOIS_UPDATED_DATE', 'TCP_CONVERSATION_EXCHANGE',\n",
      "       'DIST_REMOTE_TCP_PORT', 'REMOTE_IPS', 'APP_BYTES', 'SOURCE_APP_PACKETS',\n",
      "       'REMOTE_APP_PACKETS', 'SOURCE_APP_BYTES', 'REMOTE_APP_BYTES',\n",
      "       'APP_PACKETS', 'DNS_QUERY_TIMES'],\n",
      "      dtype='object')\n",
      "Number of columns :  20\n"
     ]
    }
   ],
   "source": [
    "print(csv_test.columns)\n",
    "print(\"Number of columns : \", len(csv_test.columns))"
   ]
  },
  {
   "cell_type": "markdown",
   "metadata": {},
   "source": [
    "As explained in the subject, the test dataset does not contain the type column."
   ]
  },
  {
   "cell_type": "markdown",
   "metadata": {},
   "source": [
    "### Number of rows"
   ]
  },
  {
   "cell_type": "code",
   "execution_count": 5,
   "metadata": {
    "scrolled": true
   },
   "outputs": [
    {
     "name": "stdout",
     "output_type": "stream",
     "text": [
      "Number of rows in train dataset : 1431\n",
      "Number of rows in test dataset : 350\n"
     ]
    }
   ],
   "source": [
    "print(\"Number of rows in train dataset :\", len(csv))\n",
    "print(\"Number of rows in test dataset :\", len(csv_test))"
   ]
  },
  {
   "cell_type": "markdown",
   "metadata": {},
   "source": [
    "## B - Data Visualization & pre-process by column"
   ]
  },
  {
   "cell_type": "markdown",
   "metadata": {},
   "source": [
    "For each column, we will firstly visualize its content to check if it is relevant to solve our problem. In a second part, we will pre-process the relevant data into meaningful values."
   ]
  },
  {
   "cell_type": "markdown",
   "metadata": {},
   "source": [
    "### Last Column : benign or malicious classes"
   ]
  },
  {
   "cell_type": "code",
   "execution_count": 6,
   "metadata": {
    "scrolled": false
   },
   "outputs": [
    {
     "name": "stdout",
     "output_type": "stream",
     "text": [
      "0    0\n",
      "1    0\n",
      "2    0\n",
      "3    0\n",
      "4    0\n",
      "Name: Type, dtype: int64\n",
      "Length : 1431\n"
     ]
    }
   ],
   "source": [
    "websites_type = csv[\"Type\"]\n",
    "print(websites_type.head())\n",
    "print(\"Length :\", len(websites_type))"
   ]
  },
  {
   "cell_type": "markdown",
   "metadata": {},
   "source": [
    "The column \"type\" contains booleans which inform of the type of the website :\n",
    "- 0 if it is benign\n",
    "- 1 if it is malicious"
   ]
  },
  {
   "cell_type": "code",
   "execution_count": 7,
   "metadata": {
    "scrolled": false
   },
   "outputs": [
    {
     "name": "stdout",
     "output_type": "stream",
     "text": [
      "Number of benign websites : 1272\n",
      "Number of malicious websites : 159\n"
     ]
    }
   ],
   "source": [
    "print(\"Number of benign websites :\", len(websites_type.loc[websites_type == 0]))\n",
    "print(\"Number of malicious websites :\", len(websites_type.loc[websites_type == 1]))"
   ]
  },
  {
   "cell_type": "markdown",
   "metadata": {},
   "source": [
    "### Column 1 : URL"
   ]
  },
  {
   "cell_type": "code",
   "execution_count": 8,
   "metadata": {},
   "outputs": [
    {
     "name": "stdout",
     "output_type": "stream",
     "text": [
      "0    B0_2314\n",
      "1     B0_911\n",
      "2     B0_113\n",
      "3     B0_403\n",
      "4    B0_2064\n",
      "Name: URL, dtype: object\n",
      "Length : 1431\n"
     ]
    }
   ],
   "source": [
    "urls = csv[\"URL\"]\n",
    "print(urls.head())\n",
    "print(\"Length :\", len(urls))"
   ]
  },
  {
   "cell_type": "markdown",
   "metadata": {},
   "source": [
    "We notice that there are 2 types of URLs : \n",
    "- Type 1 : starts with M0_, M1_ or M4_\n",
    "- Type 2 : starts with B0_\n"
   ]
  },
  {
   "cell_type": "code",
   "execution_count": 9,
   "metadata": {},
   "outputs": [
    {
     "name": "stdout",
     "output_type": "stream",
     "text": [
      "Length type 1 : 159\n",
      "Length type 2 : 1272\n"
     ]
    }
   ],
   "source": [
    "urls_type = {\"M\": [], \"B0_\": []}\n",
    "\n",
    "for el in urls : \n",
    "    if (el.startswith(\"M\")):\n",
    "        urls_type[\"M\"].append(el)\n",
    "    elif (el.startswith(\"B0_\")):\n",
    "         urls_type[\"B0_\"].append(el)\n",
    "            \n",
    "\n",
    "    else:\n",
    "        print(\"Unknown type\")\n",
    "        print(el)\n",
    "            \n",
    "            \n",
    "print(\"Length type 1 :\",  len(urls_type[\"M\"]) )\n",
    "print(\"Length type 2 :\",  len(urls_type[\"B0_\"]) )"
   ]
  },
  {
   "cell_type": "markdown",
   "metadata": {},
   "source": [
    "It seems that the urls starting with M correspond to malicious websites and the ones starting with B are benign websites. Let's check this assumption :"
   ]
  },
  {
   "cell_type": "code",
   "execution_count": 10,
   "metadata": {},
   "outputs": [
    {
     "name": "stdout",
     "output_type": "stream",
     "text": [
      "% of malicious sites starting with M :  100.0 %\n",
      "% of benign sites starting with M :  0.0 %\n"
     ]
    }
   ],
   "source": [
    "total_malicious = len(csv.loc[(csv[\"Type\"] == 1)])\n",
    "\n",
    "m_malicious = len(csv.loc[(csv[\"URL\"].str.match('M')) & (csv[\"Type\"] == 1)])\n",
    "print(\"% of malicious sites starting with M : \", m_malicious/total_malicious * 100, \"%\")\n",
    "\n",
    "m_benign = len(csv.loc[(csv[\"URL\"].str.match('M')) & (csv[\"Type\"] == 0)])\n",
    "print(\"% of benign sites starting with M : \", m_benign/total_malicious * 100, \"%\")"
   ]
  },
  {
   "cell_type": "code",
   "execution_count": 11,
   "metadata": {},
   "outputs": [
    {
     "name": "stdout",
     "output_type": "stream",
     "text": [
      "% of malicious sites starting with B :  0.0 %\n",
      "% of benign sites starting with B out of total benign sites:  100.0 %\n"
     ]
    }
   ],
   "source": [
    "total_benign = len(csv.loc[(csv[\"Type\"] == 0)])\n",
    "\n",
    "b_malicious = len(csv.loc[(csv[\"URL\"].str.match('B')) & (csv[\"Type\"] == 1)])\n",
    "print(\"% of malicious sites starting with B : \", b_malicious/total_benign * 100, \"%\")\n",
    "\n",
    "b_benign = len(csv.loc[(csv[\"URL\"].str.match('B')) & (csv[\"Type\"] == 0)])\n",
    "print(\"% of benign sites starting with B out of total benign sites: \", b_benign/total_benign * 100, \"%\")"
   ]
  },
  {
   "cell_type": "markdown",
   "metadata": {},
   "source": [
    "It is now obvious that the M stands for malicious and B stands for benign. We can write a simple function that predict the website type from its url as following :"
   ]
  },
  {
   "cell_type": "code",
   "execution_count": 12,
   "metadata": {},
   "outputs": [],
   "source": [
    "def predict_from_url(url):\n",
    "    if url.startswith(\"M\"):\n",
    "        return(1) # Malicious\n",
    "    if url.startswith(\"B\"):\n",
    "        return(0) # Benign\n",
    "    return(\"Prediction is not possible\")"
   ]
  },
  {
   "cell_type": "markdown",
   "metadata": {},
   "source": [
    "Obviously, we will not use this for this project, the URLs where generated according to the website type. In real life, we have real URL and will not be able to use this method. We can however generate the missing column in the test set. Indeed, we do not have the type column in this dataset so we will not be able to compute the accuracy of our models on the test set. \n",
    "\n",
    "However, this will only be used at the end of this project to verify our models. We will of course use cross-validation to compute accuracy on the train set only."
   ]
  },
  {
   "cell_type": "code",
   "execution_count": 13,
   "metadata": {},
   "outputs": [],
   "source": [
    "test_types = []\n",
    "\n",
    "for el in csv_test['URL']:\n",
    "    test_types.append(predict_from_url(el))\n",
    "\n",
    "csv_test[\"Type\"] = test_types"
   ]
  },
  {
   "cell_type": "code",
   "execution_count": 14,
   "metadata": {},
   "outputs": [
    {
     "data": {
      "text/html": [
       "<div>\n",
       "<style scoped>\n",
       "    .dataframe tbody tr th:only-of-type {\n",
       "        vertical-align: middle;\n",
       "    }\n",
       "\n",
       "    .dataframe tbody tr th {\n",
       "        vertical-align: top;\n",
       "    }\n",
       "\n",
       "    .dataframe thead th {\n",
       "        text-align: right;\n",
       "    }\n",
       "</style>\n",
       "<table border=\"1\" class=\"dataframe\">\n",
       "  <thead>\n",
       "    <tr style=\"text-align: right;\">\n",
       "      <th></th>\n",
       "      <th>URL</th>\n",
       "      <th>URL_LENGTH</th>\n",
       "      <th>NUMBER_SPECIAL_CHARACTERS</th>\n",
       "      <th>CHARSET</th>\n",
       "      <th>SERVER</th>\n",
       "      <th>CONTENT_LENGTH</th>\n",
       "      <th>WHOIS_COUNTRY</th>\n",
       "      <th>WHOIS_STATEPRO</th>\n",
       "      <th>WHOIS_REGDATE</th>\n",
       "      <th>WHOIS_UPDATED_DATE</th>\n",
       "      <th>...</th>\n",
       "      <th>DIST_REMOTE_TCP_PORT</th>\n",
       "      <th>REMOTE_IPS</th>\n",
       "      <th>APP_BYTES</th>\n",
       "      <th>SOURCE_APP_PACKETS</th>\n",
       "      <th>REMOTE_APP_PACKETS</th>\n",
       "      <th>SOURCE_APP_BYTES</th>\n",
       "      <th>REMOTE_APP_BYTES</th>\n",
       "      <th>APP_PACKETS</th>\n",
       "      <th>DNS_QUERY_TIMES</th>\n",
       "      <th>Type</th>\n",
       "    </tr>\n",
       "  </thead>\n",
       "  <tbody>\n",
       "    <tr>\n",
       "      <th>0</th>\n",
       "      <td>M4_22</td>\n",
       "      <td>100</td>\n",
       "      <td>20</td>\n",
       "      <td>UTF-8</td>\n",
       "      <td>Apache</td>\n",
       "      <td>NaN</td>\n",
       "      <td>ES</td>\n",
       "      <td>Barcelona</td>\n",
       "      <td>17/09/2008 0:00</td>\n",
       "      <td>2/09/2016 0:00</td>\n",
       "      <td>...</td>\n",
       "      <td>0</td>\n",
       "      <td>0</td>\n",
       "      <td>0</td>\n",
       "      <td>0</td>\n",
       "      <td>3</td>\n",
       "      <td>186</td>\n",
       "      <td>0</td>\n",
       "      <td>0</td>\n",
       "      <td>0.0</td>\n",
       "      <td>1</td>\n",
       "    </tr>\n",
       "    <tr>\n",
       "      <th>1</th>\n",
       "      <td>B0_402</td>\n",
       "      <td>50</td>\n",
       "      <td>11</td>\n",
       "      <td>ISO-8859-1</td>\n",
       "      <td>None</td>\n",
       "      <td>1819.0</td>\n",
       "      <td>US</td>\n",
       "      <td>CA</td>\n",
       "      <td>2/11/2002 0:00</td>\n",
       "      <td>2/02/2017 0:00</td>\n",
       "      <td>...</td>\n",
       "      <td>27</td>\n",
       "      <td>5</td>\n",
       "      <td>5203</td>\n",
       "      <td>41</td>\n",
       "      <td>44</td>\n",
       "      <td>13097</td>\n",
       "      <td>5803</td>\n",
       "      <td>41</td>\n",
       "      <td>8.0</td>\n",
       "      <td>0</td>\n",
       "    </tr>\n",
       "    <tr>\n",
       "      <th>2</th>\n",
       "      <td>B0_438</td>\n",
       "      <td>28</td>\n",
       "      <td>7</td>\n",
       "      <td>UTF-8</td>\n",
       "      <td>GSE</td>\n",
       "      <td>6666.0</td>\n",
       "      <td>US</td>\n",
       "      <td>CA</td>\n",
       "      <td>31/07/2000 0:00</td>\n",
       "      <td>29/06/2016 0:00</td>\n",
       "      <td>...</td>\n",
       "      <td>5</td>\n",
       "      <td>11</td>\n",
       "      <td>6311</td>\n",
       "      <td>70</td>\n",
       "      <td>64</td>\n",
       "      <td>63634</td>\n",
       "      <td>6633</td>\n",
       "      <td>70</td>\n",
       "      <td>4.0</td>\n",
       "      <td>0</td>\n",
       "    </tr>\n",
       "    <tr>\n",
       "      <th>3</th>\n",
       "      <td>B0_759</td>\n",
       "      <td>43</td>\n",
       "      <td>7</td>\n",
       "      <td>UTF-8</td>\n",
       "      <td>GSE</td>\n",
       "      <td>20592.0</td>\n",
       "      <td>US</td>\n",
       "      <td>CA</td>\n",
       "      <td>31/07/2000 0:00</td>\n",
       "      <td>29/06/2016 0:00</td>\n",
       "      <td>...</td>\n",
       "      <td>5</td>\n",
       "      <td>13</td>\n",
       "      <td>6081</td>\n",
       "      <td>69</td>\n",
       "      <td>71</td>\n",
       "      <td>63457</td>\n",
       "      <td>6463</td>\n",
       "      <td>69</td>\n",
       "      <td>4.0</td>\n",
       "      <td>0</td>\n",
       "    </tr>\n",
       "    <tr>\n",
       "      <th>4</th>\n",
       "      <td>B0_280</td>\n",
       "      <td>47</td>\n",
       "      <td>11</td>\n",
       "      <td>utf-8</td>\n",
       "      <td>Apache/2.2.15 (Red Hat)</td>\n",
       "      <td>NaN</td>\n",
       "      <td>None</td>\n",
       "      <td>None</td>\n",
       "      <td>None</td>\n",
       "      <td>None</td>\n",
       "      <td>...</td>\n",
       "      <td>1</td>\n",
       "      <td>7</td>\n",
       "      <td>1552</td>\n",
       "      <td>21</td>\n",
       "      <td>20</td>\n",
       "      <td>2790</td>\n",
       "      <td>2000</td>\n",
       "      <td>21</td>\n",
       "      <td>6.0</td>\n",
       "      <td>0</td>\n",
       "    </tr>\n",
       "  </tbody>\n",
       "</table>\n",
       "<p>5 rows × 21 columns</p>\n",
       "</div>"
      ],
      "text/plain": [
       "      URL  URL_LENGTH  NUMBER_SPECIAL_CHARACTERS     CHARSET  \\\n",
       "0   M4_22         100                         20       UTF-8   \n",
       "1  B0_402          50                         11  ISO-8859-1   \n",
       "2  B0_438          28                          7       UTF-8   \n",
       "3  B0_759          43                          7       UTF-8   \n",
       "4  B0_280          47                         11       utf-8   \n",
       "\n",
       "                    SERVER  CONTENT_LENGTH WHOIS_COUNTRY WHOIS_STATEPRO  \\\n",
       "0                   Apache             NaN            ES      Barcelona   \n",
       "1                     None          1819.0            US             CA   \n",
       "2                      GSE          6666.0            US             CA   \n",
       "3                      GSE         20592.0            US             CA   \n",
       "4  Apache/2.2.15 (Red Hat)             NaN          None           None   \n",
       "\n",
       "     WHOIS_REGDATE WHOIS_UPDATED_DATE  ...  DIST_REMOTE_TCP_PORT  REMOTE_IPS  \\\n",
       "0  17/09/2008 0:00     2/09/2016 0:00  ...                     0           0   \n",
       "1   2/11/2002 0:00     2/02/2017 0:00  ...                    27           5   \n",
       "2  31/07/2000 0:00    29/06/2016 0:00  ...                     5          11   \n",
       "3  31/07/2000 0:00    29/06/2016 0:00  ...                     5          13   \n",
       "4             None               None  ...                     1           7   \n",
       "\n",
       "   APP_BYTES  SOURCE_APP_PACKETS  REMOTE_APP_PACKETS  SOURCE_APP_BYTES  \\\n",
       "0          0                   0                   3               186   \n",
       "1       5203                  41                  44             13097   \n",
       "2       6311                  70                  64             63634   \n",
       "3       6081                  69                  71             63457   \n",
       "4       1552                  21                  20              2790   \n",
       "\n",
       "   REMOTE_APP_BYTES  APP_PACKETS  DNS_QUERY_TIMES  Type  \n",
       "0                 0            0              0.0     1  \n",
       "1              5803           41              8.0     0  \n",
       "2              6633           70              4.0     0  \n",
       "3              6463           69              4.0     0  \n",
       "4              2000           21              6.0     0  \n",
       "\n",
       "[5 rows x 21 columns]"
      ]
     },
     "execution_count": 14,
     "metadata": {},
     "output_type": "execute_result"
    }
   ],
   "source": [
    "csv_test.head()"
   ]
  },
  {
   "cell_type": "markdown",
   "metadata": {},
   "source": [
    "### One method of data vizualisation : boxplot"
   ]
  },
  {
   "cell_type": "markdown",
   "metadata": {},
   "source": [
    "An interesting way of vizualising data is to use boxplot. Let's define a function that plot automatically a triple boxplot : 1 global, 1 about benign websites only and the last about malicious websites only."
   ]
  },
  {
   "cell_type": "code",
   "execution_count": 15,
   "metadata": {},
   "outputs": [],
   "source": [
    "def auto_boxplot(data, column, showfliers):\n",
    "    benign = data.loc[csv[\"Type\"]==0][column]\n",
    "    malicious = data.loc[csv[\"Type\"]==1][column]\n",
    "   \n",
    "\n",
    "    plt.figure()\n",
    "    plt.title(\"Characteristics of \" + column)\n",
    "\n",
    "    plt.boxplot([data[column], benign, malicious], labels =[\"Global\", \"Benign\", \"Malicious\"], showfliers = showfliers)\n",
    "    plt.show()"
   ]
  },
  {
   "cell_type": "markdown",
   "metadata": {},
   "source": [
    "#### An example"
   ]
  },
  {
   "cell_type": "code",
   "execution_count": 16,
   "metadata": {
    "scrolled": false
   },
   "outputs": [
    {
     "data": {
      "image/png": "[encoded data removed]",
      "text/plain": [
       "<Figure size 432x288 with 1 Axes>"
      ]
     },
     "metadata": {
      "needs_background": "light"
     },
     "output_type": "display_data"
    }
   ],
   "source": [
    "auto_boxplot(csv, \"NUMBER_SPECIAL_CHARACTERS\", False)"
   ]
  },
  {
   "cell_type": "markdown",
   "metadata": {},
   "source": [
    "### Detection and correction of outliers"
   ]
  },
  {
   "cell_type": "markdown",
   "metadata": {},
   "source": [
    "An outlier is a value that is not consistent with other measurements. It is necessary to remove them all because they distort the prediction models. For example, if we want to do a linear regression on the salary of a person according to his level of education, the presence of a billionaire in the data set would distort the trend line."
   ]
  },
  {
   "cell_type": "markdown",
   "metadata": {},
   "source": [
    "#### Boxplot method"
   ]
  },
  {
   "cell_type": "markdown",
   "metadata": {},
   "source": [
    "The boxplot is useful to spot outliers. Indeed, we can display the outliers on it as following :"
   ]
  },
  {
   "cell_type": "code",
   "execution_count": 17,
   "metadata": {
    "scrolled": true
   },
   "outputs": [
    {
     "data": {
      "image/png": "[encoded data removed]",
      "text/plain": [
       "<Figure size 432x288 with 1 Axes>"
      ]
     },
     "metadata": {
      "needs_background": "light"
     },
     "output_type": "display_data"
    }
   ],
   "source": [
    "auto_boxplot(csv, \"URL_LENGTH\", True)"
   ]
  },
  {
   "cell_type": "markdown",
   "metadata": {},
   "source": [
    "The graph above shows the outliers of the dataset. How are they classified ? It is very simple : a point is considered as an outlier if it is not in the interval : <br><br>\n",
    "<center>[Q1 - 1.5 * IQR, Q3 + 1.5 * IQR]</center>"
   ]
  },
  {
   "cell_type": "markdown",
   "metadata": {},
   "source": [
    "Let's create a function that automatically correct outliers as following : \n",
    "\n",
    "- If it is a <strong>malicious website</strong>, replace the value by the mean of this column of all the malicious websites (without taking the outliers into account).\n",
    "\n",
    "- If it is a <strong>benign website</strong>, replace the value by the mean of this column of all the benign websites (without taking the outliers into account)."
   ]
  },
  {
   "cell_type": "code",
   "execution_count": 18,
   "metadata": {},
   "outputs": [],
   "source": [
    "\n",
    "# Returns the input data with all the outliers removed\n",
    "def data_without_outliers(data):\n",
    "    Q1 = data.quantile(0.25)\n",
    "    Q3 = data.quantile(0.75)\n",
    "    IQR = Q3 - Q1\n",
    "    return data.loc[(data >= Q1 - 1.5 * IQR) & (data <= Q3 + 1.5 *IQR)]  \n",
    "\n",
    "# returns True if el is an outlier in data\n",
    "def is_outlier(data, el):\n",
    "    Q1 = data.quantile(0.25)\n",
    "    Q3 = data.quantile(0.75)\n",
    "    IQR = Q3 - Q1\n",
    "   \n",
    "    return (el < Q1 - 1.5 * IQR) or (el > Q3 + 1.5 *IQR)\n",
    "    \n",
    "\n",
    "def correct_outliers(csv, column):\n",
    "    res = csv.copy()\n",
    "    b = res.loc[csv[\"Type\"] == 0][column]\n",
    "    m = res.loc[csv[\"Type\"] == 1][column]\n",
    "    b_without_outliers = data_without_outliers(b)\n",
    "    m_without_outliers = data_without_outliers(m)\n",
    "    count = 0\n",
    "    \n",
    "    for index, row in res.iterrows():\n",
    "        is_malicious = (row['Type'] == 1) # True if row corresponds to a malicious website\n",
    "    \n",
    "        x = row[column]\n",
    "        \n",
    "        if is_malicious:\n",
    "            if is_outlier(m, x):\n",
    "                count += 1\n",
    "                res.at[index,column]= m_without_outliers.mean()\n",
    "                \n",
    "        else:\n",
    "            if is_outlier(b, x):\n",
    "                count += 1\n",
    "                res.at[index,column]= b_without_outliers.mean()\n",
    "\n",
    "    print(\"Done on\", str(column) + \".\", count, \"outliers processed.\")\n",
    "    return res\n"
   ]
  },
  {
   "cell_type": "code",
   "execution_count": 19,
   "metadata": {
    "scrolled": true
   },
   "outputs": [
    {
     "name": "stdout",
     "output_type": "stream",
     "text": [
      "Before correction\n"
     ]
    },
    {
     "data": {
      "image/png": "[encoded data removed]",
      "text/plain": [
       "<Figure size 432x288 with 1 Axes>"
      ]
     },
     "metadata": {
      "needs_background": "light"
     },
     "output_type": "display_data"
    },
    {
     "name": "stdout",
     "output_type": "stream",
     "text": [
      "After correction\n",
      "Done on URL_LENGTH. 48 outliers processed.\n"
     ]
    },
    {
     "data": {
      "image/png": "[encoded data removed]",
      "text/plain": [
       "<Figure size 432x288 with 1 Axes>"
      ]
     },
     "metadata": {
      "needs_background": "light"
     },
     "output_type": "display_data"
    }
   ],
   "source": [
    "print(\"Before correction\")\n",
    "auto_boxplot(csv, \"URL_LENGTH\", True)\n",
    "\n",
    "print(\"After correction\")\n",
    "auto_boxplot(correct_outliers(csv, \"URL_LENGTH\"), \"URL_LENGTH\", True)"
   ]
  },
  {
   "cell_type": "markdown",
   "metadata": {},
   "source": [
    "As we can see, we minimized the number of outliers. On the global boxplot, there is still some outliers as we corrected them according to their type. Also, some new outliers have been created on the benign data. Indeed, we modified quite a lot of values and Q1, Q3 and IQR might have been modified. So, some points that where previously on the limit of being outliers are now considered as outliers."
   ]
  },
  {
   "cell_type": "markdown",
   "metadata": {},
   "source": [
    "Let's check how much this correction improve the models' accuracy."
   ]
  },
  {
   "cell_type": "code",
   "execution_count": 20,
   "metadata": {},
   "outputs": [],
   "source": [
    "# Two simple test models\n",
    "from sklearn.neighbors import KNeighborsClassifier\n",
    "from sklearn.model_selection import train_test_split\n",
    "\n",
    "def KNN_accuracy(X, y):\n",
    "    X_train, X_test, y_train, y_test = train_test_split(X, y, test_size=0.33, shuffle=True)\n",
    "    \n",
    "    model = KNeighborsClassifier(n_neighbors=10).fit(X_train, y_train)\n",
    "    \n",
    "    return model.score(X_test, y_test)\n",
    "\n",
    "from sklearn.linear_model import LogisticRegression\n",
    "\n",
    "def LR_accuracy(X, y):\n",
    "    X_train, X_test, y_train, y_test = train_test_split(X, y, test_size=0.33, shuffle=True)\n",
    "    model = LogisticRegression(random_state=0).fit(X_train, y_train)\n",
    "    \n",
    "    return model.score(X_test, y_test)"
   ]
  },
  {
   "cell_type": "markdown",
   "metadata": {},
   "source": [
    "Let's compute the mean of the accuracy before and after the correction for each model on a certain number of tries (the train test split is random, so the accuracy will slighty change between tries) : "
   ]
  },
  {
   "cell_type": "code",
   "execution_count": 21,
   "metadata": {},
   "outputs": [
    {
     "name": "stdout",
     "output_type": "stream",
     "text": [
      "Done on URL_LENGTH. 48 outliers processed.\n",
      "KNN mean of the accuracy before correction : 0.8856236786469346\n",
      "KNN mean of the accuracy after correction  : 0.9150105708245242\n",
      "LR mean of the accuracy before correction : 0.8845665961945031\n",
      "LR mean of the accuracy after correction  : 0.8957716701902749\n"
     ]
    }
   ],
   "source": [
    "train = csv[\"URL_LENGTH\"].to_numpy().reshape(-1,1)\n",
    "train_labels = csv[\"Type\"]\n",
    "train_after = correct_outliers(csv, \"URL_LENGTH\")[\"URL_LENGTH\"].to_numpy().reshape(-1,1)\n",
    "\n",
    "n = 10 # number of tries\n",
    "\n",
    "KNN_accuracy_before = 0\n",
    "KNN_accuracy_after  = 0\n",
    "LR_accuracy_before  = 0\n",
    "LR_accuracy_after   = 0\n",
    "\n",
    "for i in range(n):\n",
    "    KNN_accuracy_before += KNN_accuracy(train, train_labels)\n",
    "    KNN_accuracy_after  += KNN_accuracy(train_after, train_labels)\n",
    "    LR_accuracy_before  += LR_accuracy(train, train_labels)\n",
    "    LR_accuracy_after   += LR_accuracy(train_after, train_labels)\n",
    "    \n",
    "print(\"KNN mean of the accuracy before correction :\", KNN_accuracy_before/n)\n",
    "print(\"KNN mean of the accuracy after correction  :\", KNN_accuracy_after/n)\n",
    "\n",
    "\n",
    "print(\"LR mean of the accuracy before correction :\", LR_accuracy_before/n)\n",
    "print(\"LR mean of the accuracy after correction  :\", LR_accuracy_after/n)"
   ]
  },
  {
   "cell_type": "markdown",
   "metadata": {},
   "source": [
    "As we can see, this correction slighty improves the accuracies of our models. It is thus useful."
   ]
  },
  {
   "cell_type": "markdown",
   "metadata": {},
   "source": [
    "This method is often used to correct outliers. However, it is not perfect as it doesn't take into account the correlations between columns for example. Let's check another method to correct missing data and outliers at the same time."
   ]
  },
  {
   "cell_type": "markdown",
   "metadata": {},
   "source": [
    "#### KNN Impute method"
   ]
  },
  {
   "cell_type": "markdown",
   "metadata": {},
   "source": [
    "We can also try to process outliers by using KNN to impute data. It estimates values by checking the ones of the k nearest neighbours. To do such things, we must set to NaN the outliers."
   ]
  },
  {
   "cell_type": "code",
   "execution_count": 22,
   "metadata": {},
   "outputs": [],
   "source": [
    "def outliers_to_nan(data, column):\n",
    "    res = data.copy()\n",
    "    b = res.loc[res[\"Type\"] == 0][column]\n",
    "    m = res.loc[res[\"Type\"] == 1][column]\n",
    "    count = 0 \n",
    "    for index, row in res.iterrows():\n",
    "        is_malicious = (row['Type'] == 1) # True if row corresponds to a malicious website\n",
    "    \n",
    "        x = row[column]\n",
    "        \n",
    "        if is_malicious:\n",
    "            if is_outlier(m, x):\n",
    "                res.loc[index,column]= np.nan\n",
    "                count += 1\n",
    "                \n",
    "                \n",
    "        else:\n",
    "            if is_outlier(b, x):   \n",
    "                res.loc[index,column]= np.nan\n",
    "                count += 1\n",
    "          \n",
    "    print(\"Done on\", str(column) + \".\", count, \"outliers processed.\")\n",
    "    return res"
   ]
  },
  {
   "cell_type": "markdown",
   "metadata": {},
   "source": [
    "Let's apply this function on all the numerical columns :"
   ]
  },
  {
   "cell_type": "code",
   "execution_count": 23,
   "metadata": {
    "scrolled": false
   },
   "outputs": [
    {
     "name": "stdout",
     "output_type": "stream",
     "text": [
      "Done on URL_LENGTH. 48 outliers processed.\n",
      "Done on NUMBER_SPECIAL_CHARACTERS. 68 outliers processed.\n",
      "Done on CONTENT_LENGTH. 88 outliers processed.\n",
      "Done on TCP_CONVERSATION_EXCHANGE. 67 outliers processed.\n",
      "Done on DIST_REMOTE_TCP_PORT. 143 outliers processed.\n",
      "Done on REMOTE_IPS. 18 outliers processed.\n",
      "Done on APP_BYTES. 71 outliers processed.\n",
      "Done on SOURCE_APP_PACKETS. 61 outliers processed.\n",
      "Done on REMOTE_APP_PACKETS. 66 outliers processed.\n",
      "Done on SOURCE_APP_BYTES. 217 outliers processed.\n",
      "Done on REMOTE_APP_BYTES. 60 outliers processed.\n",
      "Done on APP_PACKETS. 61 outliers processed.\n",
      "Done on DNS_QUERY_TIMES. 10 outliers processed.\n"
     ]
    }
   ],
   "source": [
    "corrected_data = csv.copy() # Data on which we will apply KNN Imputing\n",
    "normal_data = csv.copy() # Original Data\n",
    "from pandas.api.types import is_numeric_dtype\n",
    "\n",
    "# Numerical columns : \n",
    "num_col = []\n",
    "\n",
    "for el in corrected_data.columns:\n",
    "    if is_numeric_dtype(corrected_data[el]):\n",
    "        num_col.append(el)\n",
    "        \n",
    "for el in num_col:\n",
    "    if (el != \"Type\"):\n",
    "        corrected_data = outliers_to_nan(corrected_data, el)"
   ]
  },
  {
   "cell_type": "markdown",
   "metadata": {},
   "source": [
    "We now can use KNNImputer from SKlearn to complete the NaN in our new dataset."
   ]
  },
  {
   "cell_type": "code",
   "execution_count": 24,
   "metadata": {},
   "outputs": [],
   "source": [
    "from sklearn.impute import KNNImputer\n",
    "\n",
    "\n",
    "# start the KNN training\n",
    "model = KNNImputer(n_neighbors = 10,weights=\"uniform\").fit(corrected_data[num_col])\n",
    "new_data = model.fit_transform(corrected_data[num_col])\n",
    "new_data = pd.DataFrame(new_data,columns=num_col)\n",
    "\n",
    "for el in num_col:\n",
    "    corrected_data[el] = new_data[el]"
   ]
  },
  {
   "cell_type": "code",
   "execution_count": 25,
   "metadata": {},
   "outputs": [
    {
     "name": "stdout",
     "output_type": "stream",
     "text": [
      "Done on URL_LENGTH. 48 outliers processed.\n",
      "KNN mean of the accuracy before      correction : 0.8909090909090912\n",
      "KNN mean of the accuracy after  mean correction : 0.9141649048625793\n",
      "KNN mean of the accuracy after  KNN  correction : 0.9145877378435519\n",
      "LR  mean of the accuracy before      correction : 0.8885835095137421\n",
      "LR  mean of the accuracy after  mean correction : 0.8982381959126147\n",
      "LR  mean of the accuracy after  KNN  correction : 0.8933051444679353\n"
     ]
    }
   ],
   "source": [
    "train = normal_data[\"URL_LENGTH\"].to_numpy().reshape(-1,1)\n",
    "train_labels = csv[\"Type\"]\n",
    "train_after_knn = corrected_data[\"URL_LENGTH\"].to_numpy().reshape(-1,1)\n",
    "train_after_mean = correct_outliers(csv, \"URL_LENGTH\")[\"URL_LENGTH\"].to_numpy().reshape(-1,1)\n",
    "\n",
    "n = 30 # number of tries\n",
    "\n",
    "KNN_accuracy_before = 0\n",
    "KNN_accuracy_after_knn  = 0\n",
    "LR_accuracy_before  = 0\n",
    "LR_accuracy_after_knn   = 0\n",
    "KNN_accuracy_after_mean = 0\n",
    "LR_accuracy_after_mean = 0\n",
    "\n",
    "for i in range(n):\n",
    "    KNN_accuracy_before += KNN_accuracy(train, train_labels)\n",
    "    KNN_accuracy_after_knn  += KNN_accuracy(train_after_knn, train_labels)\n",
    "    KNN_accuracy_after_mean  += KNN_accuracy(train_after_mean, train_labels)\n",
    "    LR_accuracy_before  += LR_accuracy(train, train_labels)\n",
    "    LR_accuracy_after_knn   += LR_accuracy(train_after_knn, train_labels)\n",
    "    LR_accuracy_after_mean   += LR_accuracy(train_after_mean, train_labels)\n",
    "    \n",
    "print(\"KNN mean of the accuracy before      correction :\", KNN_accuracy_before/n)\n",
    "print(\"KNN mean of the accuracy after  mean correction :\", KNN_accuracy_after_mean/n)\n",
    "print(\"KNN mean of the accuracy after  KNN  correction :\", KNN_accuracy_after_knn/n)\n",
    "\n",
    "\n",
    "\n",
    "print(\"LR  mean of the accuracy before      correction :\", LR_accuracy_before/n)\n",
    "print(\"LR  mean of the accuracy after  mean correction :\", LR_accuracy_after_mean/n)\n",
    "print(\"LR  mean of the accuracy after  KNN  correction :\", LR_accuracy_after_knn/n)"
   ]
  },
  {
   "cell_type": "markdown",
   "metadata": {},
   "source": [
    "As we can see, KNN Imputation does not improve our outliers correction. We will thus use the mean to correct our outliers. Let's define our new dataset using this method."
   ]
  },
  {
   "cell_type": "code",
   "execution_count": 26,
   "metadata": {
    "scrolled": true
   },
   "outputs": [
    {
     "name": "stdout",
     "output_type": "stream",
     "text": [
      "Done on URL_LENGTH. 48 outliers processed.\n",
      "Done on NUMBER_SPECIAL_CHARACTERS. 68 outliers processed.\n",
      "Done on CONTENT_LENGTH. 88 outliers processed.\n",
      "Done on TCP_CONVERSATION_EXCHANGE. 67 outliers processed.\n",
      "Done on DIST_REMOTE_TCP_PORT. 143 outliers processed.\n",
      "Done on REMOTE_IPS. 18 outliers processed.\n",
      "Done on APP_BYTES. 71 outliers processed.\n",
      "Done on SOURCE_APP_PACKETS. 61 outliers processed.\n",
      "Done on REMOTE_APP_PACKETS. 66 outliers processed.\n",
      "Done on SOURCE_APP_BYTES. 217 outliers processed.\n",
      "Done on REMOTE_APP_BYTES. 60 outliers processed.\n",
      "Done on APP_PACKETS. 61 outliers processed.\n",
      "Done on DNS_QUERY_TIMES. 10 outliers processed.\n"
     ]
    }
   ],
   "source": [
    "data = csv.copy() # Data on which we will apply mean correction\n",
    "\n",
    "from pandas.api.types import is_numeric_dtype\n",
    "\n",
    "# Numerical columns : \n",
    "num_col = []\n",
    "\n",
    "# Getting the numerical columns\n",
    "for el in data.columns:\n",
    "    if is_numeric_dtype(data[el]):\n",
    "        num_col.append(el)\n",
    "        \n",
    "for el in num_col:\n",
    "    if (el != \"Type\"):\n",
    "        data = correct_outliers(data, el)   "
   ]
  },
  {
   "cell_type": "code",
   "execution_count": 27,
   "metadata": {},
   "outputs": [
    {
     "data": {
      "text/html": [
       "<div>\n",
       "<style scoped>\n",
       "    .dataframe tbody tr th:only-of-type {\n",
       "        vertical-align: middle;\n",
       "    }\n",
       "\n",
       "    .dataframe tbody tr th {\n",
       "        vertical-align: top;\n",
       "    }\n",
       "\n",
       "    .dataframe thead th {\n",
       "        text-align: right;\n",
       "    }\n",
       "</style>\n",
       "<table border=\"1\" class=\"dataframe\">\n",
       "  <thead>\n",
       "    <tr style=\"text-align: right;\">\n",
       "      <th></th>\n",
       "      <th>URL</th>\n",
       "      <th>URL_LENGTH</th>\n",
       "      <th>NUMBER_SPECIAL_CHARACTERS</th>\n",
       "      <th>CHARSET</th>\n",
       "      <th>SERVER</th>\n",
       "      <th>CONTENT_LENGTH</th>\n",
       "      <th>WHOIS_COUNTRY</th>\n",
       "      <th>WHOIS_STATEPRO</th>\n",
       "      <th>WHOIS_REGDATE</th>\n",
       "      <th>WHOIS_UPDATED_DATE</th>\n",
       "      <th>...</th>\n",
       "      <th>DIST_REMOTE_TCP_PORT</th>\n",
       "      <th>REMOTE_IPS</th>\n",
       "      <th>APP_BYTES</th>\n",
       "      <th>SOURCE_APP_PACKETS</th>\n",
       "      <th>REMOTE_APP_PACKETS</th>\n",
       "      <th>SOURCE_APP_BYTES</th>\n",
       "      <th>REMOTE_APP_BYTES</th>\n",
       "      <th>APP_PACKETS</th>\n",
       "      <th>DNS_QUERY_TIMES</th>\n",
       "      <th>Type</th>\n",
       "    </tr>\n",
       "  </thead>\n",
       "  <tbody>\n",
       "    <tr>\n",
       "      <th>0</th>\n",
       "      <td>B0_2314</td>\n",
       "      <td>16</td>\n",
       "      <td>6</td>\n",
       "      <td>UTF-8</td>\n",
       "      <td>Apache/2.4.10</td>\n",
       "      <td>15087.000000</td>\n",
       "      <td>None</td>\n",
       "      <td>None</td>\n",
       "      <td>None</td>\n",
       "      <td>None</td>\n",
       "      <td>...</td>\n",
       "      <td>7</td>\n",
       "      <td>4</td>\n",
       "      <td>1230</td>\n",
       "      <td>17</td>\n",
       "      <td>19</td>\n",
       "      <td>1265</td>\n",
       "      <td>1230</td>\n",
       "      <td>17</td>\n",
       "      <td>0.0</td>\n",
       "      <td>0</td>\n",
       "    </tr>\n",
       "    <tr>\n",
       "      <th>1</th>\n",
       "      <td>B0_911</td>\n",
       "      <td>16</td>\n",
       "      <td>6</td>\n",
       "      <td>us-ascii</td>\n",
       "      <td>Microsoft-HTTPAPI/2.0</td>\n",
       "      <td>324.000000</td>\n",
       "      <td>None</td>\n",
       "      <td>None</td>\n",
       "      <td>None</td>\n",
       "      <td>None</td>\n",
       "      <td>...</td>\n",
       "      <td>0</td>\n",
       "      <td>0</td>\n",
       "      <td>0</td>\n",
       "      <td>0</td>\n",
       "      <td>0</td>\n",
       "      <td>0</td>\n",
       "      <td>0</td>\n",
       "      <td>0</td>\n",
       "      <td>0.0</td>\n",
       "      <td>0</td>\n",
       "    </tr>\n",
       "    <tr>\n",
       "      <th>2</th>\n",
       "      <td>B0_113</td>\n",
       "      <td>17</td>\n",
       "      <td>6</td>\n",
       "      <td>ISO-8859-1</td>\n",
       "      <td>nginx</td>\n",
       "      <td>162.000000</td>\n",
       "      <td>US</td>\n",
       "      <td>AK</td>\n",
       "      <td>7/10/1997 4:00</td>\n",
       "      <td>12/09/2013 0:45</td>\n",
       "      <td>...</td>\n",
       "      <td>2</td>\n",
       "      <td>3</td>\n",
       "      <td>3812</td>\n",
       "      <td>39</td>\n",
       "      <td>37</td>\n",
       "      <td>18784</td>\n",
       "      <td>4380</td>\n",
       "      <td>39</td>\n",
       "      <td>8.0</td>\n",
       "      <td>0</td>\n",
       "    </tr>\n",
       "    <tr>\n",
       "      <th>3</th>\n",
       "      <td>B0_403</td>\n",
       "      <td>17</td>\n",
       "      <td>6</td>\n",
       "      <td>UTF-8</td>\n",
       "      <td>None</td>\n",
       "      <td>5305.320635</td>\n",
       "      <td>US</td>\n",
       "      <td>TX</td>\n",
       "      <td>12/05/1996 0:00</td>\n",
       "      <td>11/04/2017 0:00</td>\n",
       "      <td>...</td>\n",
       "      <td>2</td>\n",
       "      <td>5</td>\n",
       "      <td>4278</td>\n",
       "      <td>61</td>\n",
       "      <td>62</td>\n",
       "      <td>3524</td>\n",
       "      <td>4586</td>\n",
       "      <td>61</td>\n",
       "      <td>4.0</td>\n",
       "      <td>0</td>\n",
       "    </tr>\n",
       "    <tr>\n",
       "      <th>4</th>\n",
       "      <td>B0_2064</td>\n",
       "      <td>18</td>\n",
       "      <td>7</td>\n",
       "      <td>UTF-8</td>\n",
       "      <td>nginx</td>\n",
       "      <td>NaN</td>\n",
       "      <td>SC</td>\n",
       "      <td>Mahe</td>\n",
       "      <td>3/08/2016 14:30</td>\n",
       "      <td>3/10/2016 3:45</td>\n",
       "      <td>...</td>\n",
       "      <td>6</td>\n",
       "      <td>9</td>\n",
       "      <td>894</td>\n",
       "      <td>11</td>\n",
       "      <td>13</td>\n",
       "      <td>838</td>\n",
       "      <td>894</td>\n",
       "      <td>11</td>\n",
       "      <td>0.0</td>\n",
       "      <td>0</td>\n",
       "    </tr>\n",
       "    <tr>\n",
       "      <th>...</th>\n",
       "      <td>...</td>\n",
       "      <td>...</td>\n",
       "      <td>...</td>\n",
       "      <td>...</td>\n",
       "      <td>...</td>\n",
       "      <td>...</td>\n",
       "      <td>...</td>\n",
       "      <td>...</td>\n",
       "      <td>...</td>\n",
       "      <td>...</td>\n",
       "      <td>...</td>\n",
       "      <td>...</td>\n",
       "      <td>...</td>\n",
       "      <td>...</td>\n",
       "      <td>...</td>\n",
       "      <td>...</td>\n",
       "      <td>...</td>\n",
       "      <td>...</td>\n",
       "      <td>...</td>\n",
       "      <td>...</td>\n",
       "      <td>...</td>\n",
       "    </tr>\n",
       "    <tr>\n",
       "      <th>1426</th>\n",
       "      <td>M4_45</td>\n",
       "      <td>194</td>\n",
       "      <td>17</td>\n",
       "      <td>UTF-8</td>\n",
       "      <td>Apache</td>\n",
       "      <td>NaN</td>\n",
       "      <td>ES</td>\n",
       "      <td>Barcelona</td>\n",
       "      <td>17/09/2008 0:00</td>\n",
       "      <td>2/09/2016 0:00</td>\n",
       "      <td>...</td>\n",
       "      <td>0</td>\n",
       "      <td>0</td>\n",
       "      <td>0</td>\n",
       "      <td>0</td>\n",
       "      <td>3</td>\n",
       "      <td>186</td>\n",
       "      <td>0</td>\n",
       "      <td>0</td>\n",
       "      <td>0.0</td>\n",
       "      <td>1</td>\n",
       "    </tr>\n",
       "    <tr>\n",
       "      <th>1427</th>\n",
       "      <td>M4_48</td>\n",
       "      <td>194</td>\n",
       "      <td>16</td>\n",
       "      <td>UTF-8</td>\n",
       "      <td>Apache</td>\n",
       "      <td>NaN</td>\n",
       "      <td>ES</td>\n",
       "      <td>Barcelona</td>\n",
       "      <td>17/09/2008 0:00</td>\n",
       "      <td>2/09/2016 0:00</td>\n",
       "      <td>...</td>\n",
       "      <td>0</td>\n",
       "      <td>0</td>\n",
       "      <td>0</td>\n",
       "      <td>0</td>\n",
       "      <td>3</td>\n",
       "      <td>186</td>\n",
       "      <td>0</td>\n",
       "      <td>0</td>\n",
       "      <td>0.0</td>\n",
       "      <td>1</td>\n",
       "    </tr>\n",
       "    <tr>\n",
       "      <th>1428</th>\n",
       "      <td>B0_162</td>\n",
       "      <td>52</td>\n",
       "      <td>10</td>\n",
       "      <td>utf-8</td>\n",
       "      <td>Apache/2.2.16 (Debian)</td>\n",
       "      <td>8904.000000</td>\n",
       "      <td>US</td>\n",
       "      <td>FL</td>\n",
       "      <td>15/02/1999 0:00</td>\n",
       "      <td>15/07/2015 0:00</td>\n",
       "      <td>...</td>\n",
       "      <td>2</td>\n",
       "      <td>6</td>\n",
       "      <td>1237</td>\n",
       "      <td>13</td>\n",
       "      <td>13</td>\n",
       "      <td>3524</td>\n",
       "      <td>6945</td>\n",
       "      <td>13</td>\n",
       "      <td>4.0</td>\n",
       "      <td>0</td>\n",
       "    </tr>\n",
       "    <tr>\n",
       "      <th>1429</th>\n",
       "      <td>B0_1152</td>\n",
       "      <td>52</td>\n",
       "      <td>10</td>\n",
       "      <td>ISO-8859-1</td>\n",
       "      <td>cloudflare-nginx</td>\n",
       "      <td>NaN</td>\n",
       "      <td>US</td>\n",
       "      <td>CA</td>\n",
       "      <td>1/04/1998 0:00</td>\n",
       "      <td>9/12/2016 0:00</td>\n",
       "      <td>...</td>\n",
       "      <td>0</td>\n",
       "      <td>0</td>\n",
       "      <td>0</td>\n",
       "      <td>0</td>\n",
       "      <td>0</td>\n",
       "      <td>0</td>\n",
       "      <td>0</td>\n",
       "      <td>0</td>\n",
       "      <td>0.0</td>\n",
       "      <td>0</td>\n",
       "    </tr>\n",
       "    <tr>\n",
       "      <th>1430</th>\n",
       "      <td>B0_676</td>\n",
       "      <td>52</td>\n",
       "      <td>10</td>\n",
       "      <td>utf-8</td>\n",
       "      <td>Microsoft-IIS/8.5</td>\n",
       "      <td>24435.000000</td>\n",
       "      <td>US</td>\n",
       "      <td>Wisconsin</td>\n",
       "      <td>14/11/2008 0:00</td>\n",
       "      <td>20/11/2013 0:00</td>\n",
       "      <td>...</td>\n",
       "      <td>6</td>\n",
       "      <td>11</td>\n",
       "      <td>2314</td>\n",
       "      <td>25</td>\n",
       "      <td>28</td>\n",
       "      <td>3039</td>\n",
       "      <td>2776</td>\n",
       "      <td>25</td>\n",
       "      <td>6.0</td>\n",
       "      <td>0</td>\n",
       "    </tr>\n",
       "  </tbody>\n",
       "</table>\n",
       "<p>1431 rows × 21 columns</p>\n",
       "</div>"
      ],
      "text/plain": [
       "          URL  URL_LENGTH  NUMBER_SPECIAL_CHARACTERS     CHARSET  \\\n",
       "0     B0_2314          16                          6       UTF-8   \n",
       "1      B0_911          16                          6    us-ascii   \n",
       "2      B0_113          17                          6  ISO-8859-1   \n",
       "3      B0_403          17                          6       UTF-8   \n",
       "4     B0_2064          18                          7       UTF-8   \n",
       "...       ...         ...                        ...         ...   \n",
       "1426    M4_45         194                         17       UTF-8   \n",
       "1427    M4_48         194                         16       UTF-8   \n",
       "1428   B0_162          52                         10       utf-8   \n",
       "1429  B0_1152          52                         10  ISO-8859-1   \n",
       "1430   B0_676          52                         10       utf-8   \n",
       "\n",
       "                      SERVER  CONTENT_LENGTH WHOIS_COUNTRY WHOIS_STATEPRO  \\\n",
       "0              Apache/2.4.10    15087.000000          None           None   \n",
       "1      Microsoft-HTTPAPI/2.0      324.000000          None           None   \n",
       "2                      nginx      162.000000            US             AK   \n",
       "3                       None     5305.320635            US             TX   \n",
       "4                      nginx             NaN            SC           Mahe   \n",
       "...                      ...             ...           ...            ...   \n",
       "1426                  Apache             NaN            ES      Barcelona   \n",
       "1427                  Apache             NaN            ES      Barcelona   \n",
       "1428  Apache/2.2.16 (Debian)     8904.000000            US             FL   \n",
       "1429        cloudflare-nginx             NaN            US             CA   \n",
       "1430       Microsoft-IIS/8.5    24435.000000            US      Wisconsin   \n",
       "\n",
       "        WHOIS_REGDATE WHOIS_UPDATED_DATE  ...  DIST_REMOTE_TCP_PORT  \\\n",
       "0                None               None  ...                     7   \n",
       "1                None               None  ...                     0   \n",
       "2      7/10/1997 4:00    12/09/2013 0:45  ...                     2   \n",
       "3     12/05/1996 0:00    11/04/2017 0:00  ...                     2   \n",
       "4     3/08/2016 14:30     3/10/2016 3:45  ...                     6   \n",
       "...               ...                ...  ...                   ...   \n",
       "1426  17/09/2008 0:00     2/09/2016 0:00  ...                     0   \n",
       "1427  17/09/2008 0:00     2/09/2016 0:00  ...                     0   \n",
       "1428  15/02/1999 0:00    15/07/2015 0:00  ...                     2   \n",
       "1429   1/04/1998 0:00     9/12/2016 0:00  ...                     0   \n",
       "1430  14/11/2008 0:00    20/11/2013 0:00  ...                     6   \n",
       "\n",
       "      REMOTE_IPS  APP_BYTES  SOURCE_APP_PACKETS  REMOTE_APP_PACKETS  \\\n",
       "0              4       1230                  17                  19   \n",
       "1              0          0                   0                   0   \n",
       "2              3       3812                  39                  37   \n",
       "3              5       4278                  61                  62   \n",
       "4              9        894                  11                  13   \n",
       "...          ...        ...                 ...                 ...   \n",
       "1426           0          0                   0                   3   \n",
       "1427           0          0                   0                   3   \n",
       "1428           6       1237                  13                  13   \n",
       "1429           0          0                   0                   0   \n",
       "1430          11       2314                  25                  28   \n",
       "\n",
       "      SOURCE_APP_BYTES  REMOTE_APP_BYTES  APP_PACKETS  DNS_QUERY_TIMES  Type  \n",
       "0                 1265              1230           17              0.0     0  \n",
       "1                    0                 0            0              0.0     0  \n",
       "2                18784              4380           39              8.0     0  \n",
       "3                 3524              4586           61              4.0     0  \n",
       "4                  838               894           11              0.0     0  \n",
       "...                ...               ...          ...              ...   ...  \n",
       "1426               186                 0            0              0.0     1  \n",
       "1427               186                 0            0              0.0     1  \n",
       "1428              3524              6945           13              4.0     0  \n",
       "1429                 0                 0            0              0.0     0  \n",
       "1430              3039              2776           25              6.0     0  \n",
       "\n",
       "[1431 rows x 21 columns]"
      ]
     },
     "execution_count": 27,
     "metadata": {},
     "output_type": "execute_result"
    }
   ],
   "source": [
    "data"
   ]
  },
  {
   "cell_type": "markdown",
   "metadata": {},
   "source": [
    "### Missing data"
   ]
  },
  {
   "cell_type": "markdown",
   "metadata": {},
   "source": [
    "Sometimes, some values are missing (NaN or 0) in the dataset. We then get three choices (not exhaustive) : \n",
    "\n",
    "- Removing the entire row. It is not optimal as we can lose a lot of data quite fast. \n",
    "\n",
    "- Replacing the value by the mean of the column. It is the method we use above. This is still a rather archaic method that takes only one column into account to modify the values.\n",
    "\n",
    "- Using a imputing model. It estimates the missing values. \n",
    "\n",
    "Let's check that last method."
   ]
  },
  {
   "cell_type": "code",
   "execution_count": 28,
   "metadata": {},
   "outputs": [],
   "source": [
    "import math\n",
    "def correct_missing(data, column, change_zeros = True):\n",
    "    res = data.copy()\n",
    "    b = res.loc[(res[\"Type\"] == 0)][column]\n",
    "    m = res.loc[(res[\"Type\"] == 1)][column]\n",
    "\n",
    "    count_m = 0\n",
    "    count_b = 0\n",
    "    \n",
    "    for index, row in res.iterrows():\n",
    "        is_malicious = (row['Type'] == 1) # True if row corresponds to a malicious website\n",
    "    \n",
    "        x = row[column]\n",
    "        \n",
    "        if is_malicious:\n",
    "            if math.isnan(x) or (x==0 and change_zeros):\n",
    "                count_b += 1\n",
    "                res.at[index,column]= np.floor(m.mean())\n",
    "                \n",
    "        else:\n",
    "            if math.isnan(x) or (x==0 and change_zeros):\n",
    "                count_m += 1\n",
    "                res.at[index,column]= np.floor(b.mean())\n",
    "\n",
    "    print(\"Done on\", str(column) + \".\", count_m, \"malicious and\", count_b, \"benign missing processed.\")\n",
    "    return res\n"
   ]
  },
  {
   "cell_type": "code",
   "execution_count": 29,
   "metadata": {},
   "outputs": [
    {
     "name": "stdout",
     "output_type": "stream",
     "text": [
      "Done on CONTENT_LENGTH. 568 malicious and 80 benign missing processed.\n"
     ]
    },
    {
     "data": {
      "text/html": [
       "<div>\n",
       "<style scoped>\n",
       "    .dataframe tbody tr th:only-of-type {\n",
       "        vertical-align: middle;\n",
       "    }\n",
       "\n",
       "    .dataframe tbody tr th {\n",
       "        vertical-align: top;\n",
       "    }\n",
       "\n",
       "    .dataframe thead th {\n",
       "        text-align: right;\n",
       "    }\n",
       "</style>\n",
       "<table border=\"1\" class=\"dataframe\">\n",
       "  <thead>\n",
       "    <tr style=\"text-align: right;\">\n",
       "      <th></th>\n",
       "      <th>URL</th>\n",
       "      <th>URL_LENGTH</th>\n",
       "      <th>NUMBER_SPECIAL_CHARACTERS</th>\n",
       "      <th>CHARSET</th>\n",
       "      <th>SERVER</th>\n",
       "      <th>CONTENT_LENGTH</th>\n",
       "      <th>WHOIS_COUNTRY</th>\n",
       "      <th>WHOIS_STATEPRO</th>\n",
       "      <th>WHOIS_REGDATE</th>\n",
       "      <th>WHOIS_UPDATED_DATE</th>\n",
       "      <th>...</th>\n",
       "      <th>DIST_REMOTE_TCP_PORT</th>\n",
       "      <th>REMOTE_IPS</th>\n",
       "      <th>APP_BYTES</th>\n",
       "      <th>SOURCE_APP_PACKETS</th>\n",
       "      <th>REMOTE_APP_PACKETS</th>\n",
       "      <th>SOURCE_APP_BYTES</th>\n",
       "      <th>REMOTE_APP_BYTES</th>\n",
       "      <th>APP_PACKETS</th>\n",
       "      <th>DNS_QUERY_TIMES</th>\n",
       "      <th>Type</th>\n",
       "    </tr>\n",
       "  </thead>\n",
       "  <tbody>\n",
       "    <tr>\n",
       "      <th>0</th>\n",
       "      <td>B0_2314</td>\n",
       "      <td>16</td>\n",
       "      <td>6</td>\n",
       "      <td>UTF-8</td>\n",
       "      <td>Apache/2.4.10</td>\n",
       "      <td>15087.000000</td>\n",
       "      <td>None</td>\n",
       "      <td>None</td>\n",
       "      <td>None</td>\n",
       "      <td>None</td>\n",
       "      <td>...</td>\n",
       "      <td>7</td>\n",
       "      <td>4</td>\n",
       "      <td>1230</td>\n",
       "      <td>17</td>\n",
       "      <td>19</td>\n",
       "      <td>1265</td>\n",
       "      <td>1230</td>\n",
       "      <td>17</td>\n",
       "      <td>0.0</td>\n",
       "      <td>0</td>\n",
       "    </tr>\n",
       "    <tr>\n",
       "      <th>1</th>\n",
       "      <td>B0_911</td>\n",
       "      <td>16</td>\n",
       "      <td>6</td>\n",
       "      <td>us-ascii</td>\n",
       "      <td>Microsoft-HTTPAPI/2.0</td>\n",
       "      <td>324.000000</td>\n",
       "      <td>None</td>\n",
       "      <td>None</td>\n",
       "      <td>None</td>\n",
       "      <td>None</td>\n",
       "      <td>...</td>\n",
       "      <td>0</td>\n",
       "      <td>0</td>\n",
       "      <td>0</td>\n",
       "      <td>0</td>\n",
       "      <td>0</td>\n",
       "      <td>0</td>\n",
       "      <td>0</td>\n",
       "      <td>0</td>\n",
       "      <td>0.0</td>\n",
       "      <td>0</td>\n",
       "    </tr>\n",
       "    <tr>\n",
       "      <th>2</th>\n",
       "      <td>B0_113</td>\n",
       "      <td>17</td>\n",
       "      <td>6</td>\n",
       "      <td>ISO-8859-1</td>\n",
       "      <td>nginx</td>\n",
       "      <td>162.000000</td>\n",
       "      <td>US</td>\n",
       "      <td>AK</td>\n",
       "      <td>7/10/1997 4:00</td>\n",
       "      <td>12/09/2013 0:45</td>\n",
       "      <td>...</td>\n",
       "      <td>2</td>\n",
       "      <td>3</td>\n",
       "      <td>3812</td>\n",
       "      <td>39</td>\n",
       "      <td>37</td>\n",
       "      <td>18784</td>\n",
       "      <td>4380</td>\n",
       "      <td>39</td>\n",
       "      <td>8.0</td>\n",
       "      <td>0</td>\n",
       "    </tr>\n",
       "    <tr>\n",
       "      <th>3</th>\n",
       "      <td>B0_403</td>\n",
       "      <td>17</td>\n",
       "      <td>6</td>\n",
       "      <td>UTF-8</td>\n",
       "      <td>None</td>\n",
       "      <td>5305.320635</td>\n",
       "      <td>US</td>\n",
       "      <td>TX</td>\n",
       "      <td>12/05/1996 0:00</td>\n",
       "      <td>11/04/2017 0:00</td>\n",
       "      <td>...</td>\n",
       "      <td>2</td>\n",
       "      <td>5</td>\n",
       "      <td>4278</td>\n",
       "      <td>61</td>\n",
       "      <td>62</td>\n",
       "      <td>3524</td>\n",
       "      <td>4586</td>\n",
       "      <td>61</td>\n",
       "      <td>4.0</td>\n",
       "      <td>0</td>\n",
       "    </tr>\n",
       "    <tr>\n",
       "      <th>4</th>\n",
       "      <td>B0_2064</td>\n",
       "      <td>18</td>\n",
       "      <td>7</td>\n",
       "      <td>UTF-8</td>\n",
       "      <td>nginx</td>\n",
       "      <td>5305.000000</td>\n",
       "      <td>SC</td>\n",
       "      <td>Mahe</td>\n",
       "      <td>3/08/2016 14:30</td>\n",
       "      <td>3/10/2016 3:45</td>\n",
       "      <td>...</td>\n",
       "      <td>6</td>\n",
       "      <td>9</td>\n",
       "      <td>894</td>\n",
       "      <td>11</td>\n",
       "      <td>13</td>\n",
       "      <td>838</td>\n",
       "      <td>894</td>\n",
       "      <td>11</td>\n",
       "      <td>0.0</td>\n",
       "      <td>0</td>\n",
       "    </tr>\n",
       "    <tr>\n",
       "      <th>...</th>\n",
       "      <td>...</td>\n",
       "      <td>...</td>\n",
       "      <td>...</td>\n",
       "      <td>...</td>\n",
       "      <td>...</td>\n",
       "      <td>...</td>\n",
       "      <td>...</td>\n",
       "      <td>...</td>\n",
       "      <td>...</td>\n",
       "      <td>...</td>\n",
       "      <td>...</td>\n",
       "      <td>...</td>\n",
       "      <td>...</td>\n",
       "      <td>...</td>\n",
       "      <td>...</td>\n",
       "      <td>...</td>\n",
       "      <td>...</td>\n",
       "      <td>...</td>\n",
       "      <td>...</td>\n",
       "      <td>...</td>\n",
       "      <td>...</td>\n",
       "    </tr>\n",
       "    <tr>\n",
       "      <th>1426</th>\n",
       "      <td>M4_45</td>\n",
       "      <td>194</td>\n",
       "      <td>17</td>\n",
       "      <td>UTF-8</td>\n",
       "      <td>Apache</td>\n",
       "      <td>970.000000</td>\n",
       "      <td>ES</td>\n",
       "      <td>Barcelona</td>\n",
       "      <td>17/09/2008 0:00</td>\n",
       "      <td>2/09/2016 0:00</td>\n",
       "      <td>...</td>\n",
       "      <td>0</td>\n",
       "      <td>0</td>\n",
       "      <td>0</td>\n",
       "      <td>0</td>\n",
       "      <td>3</td>\n",
       "      <td>186</td>\n",
       "      <td>0</td>\n",
       "      <td>0</td>\n",
       "      <td>0.0</td>\n",
       "      <td>1</td>\n",
       "    </tr>\n",
       "    <tr>\n",
       "      <th>1427</th>\n",
       "      <td>M4_48</td>\n",
       "      <td>194</td>\n",
       "      <td>16</td>\n",
       "      <td>UTF-8</td>\n",
       "      <td>Apache</td>\n",
       "      <td>970.000000</td>\n",
       "      <td>ES</td>\n",
       "      <td>Barcelona</td>\n",
       "      <td>17/09/2008 0:00</td>\n",
       "      <td>2/09/2016 0:00</td>\n",
       "      <td>...</td>\n",
       "      <td>0</td>\n",
       "      <td>0</td>\n",
       "      <td>0</td>\n",
       "      <td>0</td>\n",
       "      <td>3</td>\n",
       "      <td>186</td>\n",
       "      <td>0</td>\n",
       "      <td>0</td>\n",
       "      <td>0.0</td>\n",
       "      <td>1</td>\n",
       "    </tr>\n",
       "    <tr>\n",
       "      <th>1428</th>\n",
       "      <td>B0_162</td>\n",
       "      <td>52</td>\n",
       "      <td>10</td>\n",
       "      <td>utf-8</td>\n",
       "      <td>Apache/2.2.16 (Debian)</td>\n",
       "      <td>8904.000000</td>\n",
       "      <td>US</td>\n",
       "      <td>FL</td>\n",
       "      <td>15/02/1999 0:00</td>\n",
       "      <td>15/07/2015 0:00</td>\n",
       "      <td>...</td>\n",
       "      <td>2</td>\n",
       "      <td>6</td>\n",
       "      <td>1237</td>\n",
       "      <td>13</td>\n",
       "      <td>13</td>\n",
       "      <td>3524</td>\n",
       "      <td>6945</td>\n",
       "      <td>13</td>\n",
       "      <td>4.0</td>\n",
       "      <td>0</td>\n",
       "    </tr>\n",
       "    <tr>\n",
       "      <th>1429</th>\n",
       "      <td>B0_1152</td>\n",
       "      <td>52</td>\n",
       "      <td>10</td>\n",
       "      <td>ISO-8859-1</td>\n",
       "      <td>cloudflare-nginx</td>\n",
       "      <td>5305.000000</td>\n",
       "      <td>US</td>\n",
       "      <td>CA</td>\n",
       "      <td>1/04/1998 0:00</td>\n",
       "      <td>9/12/2016 0:00</td>\n",
       "      <td>...</td>\n",
       "      <td>0</td>\n",
       "      <td>0</td>\n",
       "      <td>0</td>\n",
       "      <td>0</td>\n",
       "      <td>0</td>\n",
       "      <td>0</td>\n",
       "      <td>0</td>\n",
       "      <td>0</td>\n",
       "      <td>0.0</td>\n",
       "      <td>0</td>\n",
       "    </tr>\n",
       "    <tr>\n",
       "      <th>1430</th>\n",
       "      <td>B0_676</td>\n",
       "      <td>52</td>\n",
       "      <td>10</td>\n",
       "      <td>utf-8</td>\n",
       "      <td>Microsoft-IIS/8.5</td>\n",
       "      <td>24435.000000</td>\n",
       "      <td>US</td>\n",
       "      <td>Wisconsin</td>\n",
       "      <td>14/11/2008 0:00</td>\n",
       "      <td>20/11/2013 0:00</td>\n",
       "      <td>...</td>\n",
       "      <td>6</td>\n",
       "      <td>11</td>\n",
       "      <td>2314</td>\n",
       "      <td>25</td>\n",
       "      <td>28</td>\n",
       "      <td>3039</td>\n",
       "      <td>2776</td>\n",
       "      <td>25</td>\n",
       "      <td>6.0</td>\n",
       "      <td>0</td>\n",
       "    </tr>\n",
       "  </tbody>\n",
       "</table>\n",
       "<p>1431 rows × 21 columns</p>\n",
       "</div>"
      ],
      "text/plain": [
       "          URL  URL_LENGTH  NUMBER_SPECIAL_CHARACTERS     CHARSET  \\\n",
       "0     B0_2314          16                          6       UTF-8   \n",
       "1      B0_911          16                          6    us-ascii   \n",
       "2      B0_113          17                          6  ISO-8859-1   \n",
       "3      B0_403          17                          6       UTF-8   \n",
       "4     B0_2064          18                          7       UTF-8   \n",
       "...       ...         ...                        ...         ...   \n",
       "1426    M4_45         194                         17       UTF-8   \n",
       "1427    M4_48         194                         16       UTF-8   \n",
       "1428   B0_162          52                         10       utf-8   \n",
       "1429  B0_1152          52                         10  ISO-8859-1   \n",
       "1430   B0_676          52                         10       utf-8   \n",
       "\n",
       "                      SERVER  CONTENT_LENGTH WHOIS_COUNTRY WHOIS_STATEPRO  \\\n",
       "0              Apache/2.4.10    15087.000000          None           None   \n",
       "1      Microsoft-HTTPAPI/2.0      324.000000          None           None   \n",
       "2                      nginx      162.000000            US             AK   \n",
       "3                       None     5305.320635            US             TX   \n",
       "4                      nginx     5305.000000            SC           Mahe   \n",
       "...                      ...             ...           ...            ...   \n",
       "1426                  Apache      970.000000            ES      Barcelona   \n",
       "1427                  Apache      970.000000            ES      Barcelona   \n",
       "1428  Apache/2.2.16 (Debian)     8904.000000            US             FL   \n",
       "1429        cloudflare-nginx     5305.000000            US             CA   \n",
       "1430       Microsoft-IIS/8.5    24435.000000            US      Wisconsin   \n",
       "\n",
       "        WHOIS_REGDATE WHOIS_UPDATED_DATE  ...  DIST_REMOTE_TCP_PORT  \\\n",
       "0                None               None  ...                     7   \n",
       "1                None               None  ...                     0   \n",
       "2      7/10/1997 4:00    12/09/2013 0:45  ...                     2   \n",
       "3     12/05/1996 0:00    11/04/2017 0:00  ...                     2   \n",
       "4     3/08/2016 14:30     3/10/2016 3:45  ...                     6   \n",
       "...               ...                ...  ...                   ...   \n",
       "1426  17/09/2008 0:00     2/09/2016 0:00  ...                     0   \n",
       "1427  17/09/2008 0:00     2/09/2016 0:00  ...                     0   \n",
       "1428  15/02/1999 0:00    15/07/2015 0:00  ...                     2   \n",
       "1429   1/04/1998 0:00     9/12/2016 0:00  ...                     0   \n",
       "1430  14/11/2008 0:00    20/11/2013 0:00  ...                     6   \n",
       "\n",
       "      REMOTE_IPS  APP_BYTES  SOURCE_APP_PACKETS  REMOTE_APP_PACKETS  \\\n",
       "0              4       1230                  17                  19   \n",
       "1              0          0                   0                   0   \n",
       "2              3       3812                  39                  37   \n",
       "3              5       4278                  61                  62   \n",
       "4              9        894                  11                  13   \n",
       "...          ...        ...                 ...                 ...   \n",
       "1426           0          0                   0                   3   \n",
       "1427           0          0                   0                   3   \n",
       "1428           6       1237                  13                  13   \n",
       "1429           0          0                   0                   0   \n",
       "1430          11       2314                  25                  28   \n",
       "\n",
       "      SOURCE_APP_BYTES  REMOTE_APP_BYTES  APP_PACKETS  DNS_QUERY_TIMES  Type  \n",
       "0                 1265              1230           17              0.0     0  \n",
       "1                    0                 0            0              0.0     0  \n",
       "2                18784              4380           39              8.0     0  \n",
       "3                 3524              4586           61              4.0     0  \n",
       "4                  838               894           11              0.0     0  \n",
       "...                ...               ...          ...              ...   ...  \n",
       "1426               186                 0            0              0.0     1  \n",
       "1427               186                 0            0              0.0     1  \n",
       "1428              3524              6945           13              4.0     0  \n",
       "1429                 0                 0            0              0.0     0  \n",
       "1430              3039              2776           25              6.0     0  \n",
       "\n",
       "[1431 rows x 21 columns]"
      ]
     },
     "execution_count": 29,
     "metadata": {},
     "output_type": "execute_result"
    }
   ],
   "source": [
    "correct_missing(data, \"CONTENT_LENGTH\")"
   ]
  },
  {
   "cell_type": "code",
   "execution_count": 30,
   "metadata": {},
   "outputs": [
    {
     "name": "stdout",
     "output_type": "stream",
     "text": [
      "Done on URL_LENGTH. 0 malicious and 0 benign missing processed.\n",
      "Done on NUMBER_SPECIAL_CHARACTERS. 0 malicious and 0 benign missing processed.\n",
      "Done on CONTENT_LENGTH. 568 malicious and 80 benign missing processed.\n",
      "Done on TCP_CONVERSATION_EXCHANGE. 476 malicious and 41 benign missing processed.\n",
      "Done on DIST_REMOTE_TCP_PORT. 616 malicious and 120 benign missing processed.\n",
      "Done on REMOTE_IPS. 476 malicious and 41 benign missing processed.\n",
      "Done on APP_BYTES. 476 malicious and 41 benign missing processed.\n",
      "Done on SOURCE_APP_PACKETS. 476 malicious and 41 benign missing processed.\n",
      "Done on REMOTE_APP_PACKETS. 474 malicious and 0 benign missing processed.\n",
      "Done on SOURCE_APP_BYTES. 474 malicious and 0 benign missing processed.\n",
      "Done on REMOTE_APP_BYTES. 476 malicious and 41 benign missing processed.\n",
      "Done on APP_PACKETS. 476 malicious and 41 benign missing processed.\n",
      "Done on DNS_QUERY_TIMES. 1 malicious and 0 benign missing processed.\n"
     ]
    }
   ],
   "source": [
    "mod_nan_data = data.copy() # Data on which we will apply mean correction\n",
    "\n",
    "from pandas.api.types import is_numeric_dtype\n",
    "\n",
    "# Numerical columns : \n",
    "num_col = []\n",
    "\n",
    "# Getting the numerical columns\n",
    "for el in data.columns:\n",
    "    if is_numeric_dtype(data[el]):\n",
    "        num_col.append(el)\n",
    "        \n",
    "for el in num_col:\n",
    "    if (el == \"DNS_QUERY_TIMES\"):\n",
    "        mod_nan_data = correct_missing(mod_nan_data, el, change_zeros = False) \n",
    "        \n",
    "    elif (el != \"Type\"):\n",
    "        mod_nan_data = correct_missing(mod_nan_data, el)   \n",
    "        "
   ]
  },
  {
   "cell_type": "code",
   "execution_count": 31,
   "metadata": {
    "scrolled": true
   },
   "outputs": [
    {
     "data": {
      "text/plain": [
       "URL                          0\n",
       "URL_LENGTH                   0\n",
       "NUMBER_SPECIAL_CHARACTERS    0\n",
       "CHARSET                      0\n",
       "SERVER                       1\n",
       "CONTENT_LENGTH               0\n",
       "WHOIS_COUNTRY                0\n",
       "WHOIS_STATEPRO               0\n",
       "WHOIS_REGDATE                0\n",
       "WHOIS_UPDATED_DATE           0\n",
       "TCP_CONVERSATION_EXCHANGE    0\n",
       "DIST_REMOTE_TCP_PORT         0\n",
       "REMOTE_IPS                   0\n",
       "APP_BYTES                    0\n",
       "SOURCE_APP_PACKETS           0\n",
       "REMOTE_APP_PACKETS           0\n",
       "SOURCE_APP_BYTES             0\n",
       "REMOTE_APP_BYTES             0\n",
       "APP_PACKETS                  0\n",
       "DNS_QUERY_TIMES              0\n",
       "Type                         0\n",
       "dtype: int64"
      ]
     },
     "execution_count": 31,
     "metadata": {},
     "output_type": "execute_result"
    }
   ],
   "source": [
    "mod_nan_data.isna().sum()"
   ]
  },
  {
   "cell_type": "markdown",
   "metadata": {},
   "source": [
    "We now have a dataset without NaN or 0 in numerical fields."
   ]
  },
  {
   "cell_type": "code",
   "execution_count": 32,
   "metadata": {},
   "outputs": [
    {
     "name": "stdout",
     "output_type": "stream",
     "text": [
      "KNN mean of the accuracy after nan suppression : 0.9297297297297298\n",
      "KNN mean of the accuracy after nan correction  : 0.9638477801268496\n",
      "LR  mean of the accuracy after nan suppression : 0.8978120978120979\n",
      "LR  mean of the accuracy after nan correction  : 0.9638477801268496\n"
     ]
    }
   ],
   "source": [
    "train = data.dropna()[\"CONTENT_LENGTH\"].to_numpy().reshape(-1,1)\n",
    "train_labels = data.dropna()[\"Type\"]\n",
    "train_after_unnan = mod_nan_data[\"CONTENT_LENGTH\"].to_numpy().reshape(-1,1)\n",
    "train_labels_unnan = mod_nan_data[\"Type\"]\n",
    "\n",
    "n = 30 # number of tries\n",
    "\n",
    "KNN_accuracy_before = 0\n",
    "KNN_accuracy_after  = 0\n",
    "LR_accuracy_before  = 0\n",
    "LR_accuracy_after   = 0\n",
    "\n",
    "\n",
    "for i in range(n):\n",
    "    KNN_accuracy_before += KNN_accuracy(train, train_labels)\n",
    "    KNN_accuracy_after  += KNN_accuracy(train_after_unnan, train_labels_unnan)\n",
    "  \n",
    "    LR_accuracy_before  += LR_accuracy(train, train_labels)\n",
    "    LR_accuracy_after   += LR_accuracy(train_after_unnan, train_labels_unnan)\n",
    "   \n",
    "    \n",
    "print(\"KNN mean of the accuracy after nan suppression :\", KNN_accuracy_before/n)\n",
    "print(\"KNN mean of the accuracy after nan correction  :\", KNN_accuracy_after/n)\n",
    "\n",
    "\n",
    "\n",
    "print(\"LR  mean of the accuracy after nan suppression :\", LR_accuracy_before/n)\n",
    "print(\"LR  mean of the accuracy after nan correction  :\", KNN_accuracy_after/n)\n"
   ]
  },
  {
   "cell_type": "markdown",
   "metadata": {},
   "source": [
    "This method is clearly better than just deleting the rows with NaN values. Let's define our new dataset for the rest of the project : "
   ]
  },
  {
   "cell_type": "code",
   "execution_count": 33,
   "metadata": {},
   "outputs": [],
   "source": [
    "data = mod_nan_data.copy()"
   ]
  },
  {
   "cell_type": "markdown",
   "metadata": {},
   "source": [
    "### Study of the categorical columns"
   ]
  },
  {
   "cell_type": "code",
   "execution_count": 34,
   "metadata": {},
   "outputs": [
    {
     "name": "stdout",
     "output_type": "stream",
     "text": [
      "['URL', 'CHARSET', 'SERVER', 'WHOIS_COUNTRY', 'WHOIS_STATEPRO', 'WHOIS_REGDATE', 'WHOIS_UPDATED_DATE']\n"
     ]
    }
   ],
   "source": [
    "mod_nan_data = data.copy() # Data on which we will replace all the None of our categorical columns\n",
    "\n",
    "# Visualizing all the categorical columns\n",
    "cat_col = []\n",
    "for el in data.columns:\n",
    "    if is_numeric_dtype(data[el])==False:\n",
    "        cat_col.append(el)  \n",
    "print(cat_col)\n"
   ]
  },
  {
   "cell_type": "markdown",
   "metadata": {},
   "source": [
    "For each categorical column, we are going to replace the None by the most frequent value\n",
    "However, since our data contains a majority of benign website, we are going to calculate the most frequent value for the malicious website and another one for the benign websites."
   ]
  },
  {
   "cell_type": "code",
   "execution_count": 35,
   "metadata": {},
   "outputs": [],
   "source": [
    "\"\"\" The function below returns, for a given categorical column, the list of the most repeated value \n",
    "for the benin and for the malicious websites\"\"\"\n",
    "def mostrepeated(data, column,n):\n",
    "    res = data.copy()\n",
    "    b = res.loc[res[\"Type\"] == 0][column]\n",
    "    m = res.loc[res[\"Type\"] == 1][column]\n",
    "    benin=b.value_counts()[:n].index.tolist()\n",
    "    malice=m.value_counts()[:n].index.tolist()\n",
    "    return benin,malice\n",
    "   \n",
    "\"\"\" The function below replaces the None of a column for which we calculated the most repeated value \n",
    "beforehand thanks to the previous function\"\"\"\n",
    "def correct_None(data, column,benin,malice):\n",
    "    count_b = 0\n",
    "    count_m = 0\n",
    "    if(benin[0]=='None' or benin[0]=='none'):\n",
    "        most_freq_benin=benin[1]\n",
    "    else:\n",
    "        most_freq_benin=benin[0]\n",
    "    \n",
    "    if(malice[0]=='None' or benin[1]=='none'):\n",
    "        most_freq_malice=malice[1]\n",
    "    else:\n",
    "        most_freq_malice=malice[0]\n",
    "    \n",
    "    for index, row in data.iterrows():\n",
    "        is_malicious = (row['Type'] == 1) # True if row corresponds to a malicious website\n",
    "        x = row[column]\n",
    "        \n",
    "        if is_malicious:\n",
    "            if x=='None'or x=='none':\n",
    "                count_m += 1\n",
    "                data.at[index,column]= most_freq_malice\n",
    "            elif type(x)==type(1.0):\n",
    "                if math.isnan(x):\n",
    "                    count_m += 1\n",
    "                    data.at[index,column]= most_freq_malice\n",
    "        else:\n",
    "            if x=='None' or x=='none':\n",
    "                count_b += 1\n",
    "                data.at[index,column]= most_freq_benin\n",
    "                \n",
    "            elif type(x)==type(1.0):\n",
    "                if math.isnan(x):\n",
    "                    count_b += 1\n",
    "                    data.at[index,column]= most_freq_benin\n",
    "    print(\"Done on \", str(column) + \".\", count_m, \"malicious and\", count_b, \"benign None processed.\" )\n",
    "    return data"
   ]
  },
  {
   "cell_type": "markdown",
   "metadata": {},
   "source": [
    "###### However, we need to preprocess each column before using these two methods !"
   ]
  },
  {
   "cell_type": "markdown",
   "metadata": {},
   "source": [
    "### Column Server"
   ]
  },
  {
   "cell_type": "markdown",
   "metadata": {},
   "source": [
    "Let's take a look at this column"
   ]
  },
  {
   "cell_type": "code",
   "execution_count": 36,
   "metadata": {},
   "outputs": [
    {
     "name": "stdout",
     "output_type": "stream",
     "text": [
      "0                Apache/2.4.10\n",
      "1        Microsoft-HTTPAPI/2.0\n",
      "2                        nginx\n",
      "3                         None\n",
      "4                        nginx\n",
      "                 ...          \n",
      "1426                    Apache\n",
      "1427                    Apache\n",
      "1428    Apache/2.2.16 (Debian)\n",
      "1429          cloudflare-nginx\n",
      "1430         Microsoft-IIS/8.5\n",
      "Name: SERVER, Length: 1431, dtype: object\n"
     ]
    }
   ],
   "source": [
    "Server = data[\"SERVER\"].copy()\n",
    "print(Server)"
   ]
  },
  {
   "cell_type": "markdown",
   "metadata": {},
   "source": [
    "Let's create a function named columnserver which will preprocess the server column\n",
    "by visualizing our column's data, we see that a lot of server are repeated but not with the same version ; however, this criteria didn't seem relevant to keep. "
   ]
  },
  {
   "cell_type": "code",
   "execution_count": 37,
   "metadata": {
    "scrolled": false
   },
   "outputs": [
    {
     "name": "stdout",
     "output_type": "stream",
     "text": [
      "<bound method NDFrame.head of 0                Apache/2.4.10\n",
      "1        Microsoft-HTTPAPI/2.0\n",
      "2                        nginx\n",
      "3                         None\n",
      "4                        nginx\n",
      "                 ...          \n",
      "1426                    Apache\n",
      "1427                    Apache\n",
      "1428    Apache/2.2.16 (Debian)\n",
      "1429          cloudflare-nginx\n",
      "1430         Microsoft-IIS/8.5\n",
      "Name: SERVER, Length: 1431, dtype: object>\n",
      "\n",
      "<bound method NDFrame.head of 0                  Apache\n",
      "1       Microsoft-HTTPAPI\n",
      "2                   nginx\n",
      "3                    None\n",
      "4                   nginx\n",
      "              ...        \n",
      "1426               Apache\n",
      "1427               Apache\n",
      "1428               Apache\n",
      "1429     cloudflare-nginx\n",
      "1430        Microsoft-IIS\n",
      "Name: SERVER, Length: 1431, dtype: object>\n"
     ]
    }
   ],
   "source": [
    "def columnserver(data):\n",
    "    for index, row in data.iterrows():\n",
    "            x = row['SERVER']\n",
    "            if(type(x) is str):# we're checking because we had a float exception value\n",
    "                divided=x.split('/') #we've noticed that most of the versions are given after using /\n",
    "                data.at[index,'SERVER']=divided[0] # so we split the string and only keep the name\n",
    "                \n",
    "                dividedpoint=x.split('.') # for one of the outliers, the version was given after a .\n",
    "                if(len(dividedpoint)>1):\n",
    "                    if(dividedpoint[1]==\"codfw\"):\n",
    "                        data.at[index,'SERVER']=\"codfw\"\n",
    "    return data\n",
    "\n",
    "#Taking a look at what we have done so far\n",
    "columnserver(mod_nan_data)\n",
    "print(data['SERVER'].head)\n",
    "print(\"\")\n",
    "print(mod_nan_data['SERVER'].head)"
   ]
  },
  {
   "cell_type": "code",
   "execution_count": 38,
   "metadata": {},
   "outputs": [
    {
     "name": "stdout",
     "output_type": "stream",
     "text": [
      "['Apache', 'nginx', 'None', 'Microsoft-HTTPAPI', 'cloudflare-nginx', 'codfw', 'Microsoft-IIS', 'GSE', 'Server', 'YouTubeFrontEnd', 'ATS', 'Apache-Coyote', 'openresty', 'LiteSpeed', 'Varnish', 'ebay server', 'AmazonS3', 'Jetty(9.0.z-SNAPSHOT)', 'nginx + Phusion Passenger', 'Pizza', 'DMS', 'Pagely Gateway', 'AkamaiGHost', 'Squeegit', 'squid']\n",
      "['Apache', 'nginx', 'Microsoft-IIS', 'cloudflare-nginx', 'Microsoft-HTTPAPI', 'Proxy Pandeiro UOL', 'DOSarrest', 'lighttpd', 'PWS', 'nxfps', 'marrakesh 1.12.2']\n"
     ]
    }
   ],
   "source": [
    "benin,malice = mostrepeated(mod_nan_data,'SERVER',25)\n",
    "print(benin)\n",
    "print(malice)"
   ]
  },
  {
   "cell_type": "markdown",
   "metadata": {},
   "source": [
    "The versions details disappeared, we can now replace all the None of the Server column"
   ]
  },
  {
   "cell_type": "code",
   "execution_count": 39,
   "metadata": {
    "scrolled": false
   },
   "outputs": [
    {
     "name": "stdout",
     "output_type": "stream",
     "text": [
      "Done on  SERVER. 0 malicious and 129 benign None processed.\n"
     ]
    },
    {
     "data": {
      "text/plain": [
       "<bound method NDFrame.head of 0                  Apache\n",
       "1       Microsoft-HTTPAPI\n",
       "2                   nginx\n",
       "3                  Apache\n",
       "4                   nginx\n",
       "              ...        \n",
       "1426               Apache\n",
       "1427               Apache\n",
       "1428               Apache\n",
       "1429     cloudflare-nginx\n",
       "1430        Microsoft-IIS\n",
       "Name: SERVER, Length: 1431, dtype: object>"
      ]
     },
     "execution_count": 39,
     "metadata": {},
     "output_type": "execute_result"
    }
   ],
   "source": [
    "mod_nan_data = correct_None(mod_nan_data, 'SERVER', benin, malice) \n",
    "mod_nan_data['SERVER'].head"
   ]
  },
  {
   "cell_type": "code",
   "execution_count": 40,
   "metadata": {},
   "outputs": [
    {
     "data": {
      "text/plain": [
       "Apache               641\n",
       "nginx                263\n",
       "Microsoft-HTTPAPI     92\n",
       "cloudflare-nginx      68\n",
       "Microsoft-IIS         66\n",
       "                    ... \n",
       "ECD (fll               1\n",
       "fbs                    1\n",
       "gunicorn               1\n",
       "PWS                    1\n",
       "IdeaWebServer          1\n",
       "Name: SERVER, Length: 66, dtype: int64"
      ]
     },
     "execution_count": 40,
     "metadata": {},
     "output_type": "execute_result"
    }
   ],
   "source": [
    "mod_nan_data['SERVER'].value_counts()"
   ]
  },
  {
   "cell_type": "markdown",
   "metadata": {},
   "source": [
    "### Column Charset"
   ]
  },
  {
   "cell_type": "markdown",
   "metadata": {},
   "source": [
    "Let's display all the differents values of this column"
   ]
  },
  {
   "cell_type": "code",
   "execution_count": 41,
   "metadata": {},
   "outputs": [
    {
     "name": "stdout",
     "output_type": "stream",
     "text": [
      "0         UTF-8\n",
      "1      us-ascii\n",
      "2    ISO-8859-1\n",
      "3         UTF-8\n",
      "4         UTF-8\n",
      "Name: CHARSET, dtype: object\n",
      "Length : 1431\n"
     ]
    }
   ],
   "source": [
    "charsets = data[\"CHARSET\"].copy()\n",
    "print(charsets.head())\n",
    "print(\"Length :\", len(charsets))"
   ]
  },
  {
   "cell_type": "markdown",
   "metadata": {},
   "source": [
    "As we can see, some of the values are similar but are spelled differently (UTF-8 and utf-8, for example).\n"
   ]
  },
  {
   "cell_type": "code",
   "execution_count": 42,
   "metadata": {},
   "outputs": [
    {
     "data": {
      "text/plain": [
       "UTF-8           540\n",
       "ISO-8859-1      350\n",
       "utf-8           297\n",
       "us-ascii        124\n",
       "iso-8859-1      111\n",
       "None              6\n",
       "windows-1251      1\n",
       "ISO-8859          1\n",
       "windows-1252      1\n",
       "Name: CHARSET, dtype: int64"
      ]
     },
     "execution_count": 42,
     "metadata": {},
     "output_type": "execute_result"
    }
   ],
   "source": [
    "mod_nan_data['CHARSET'].value_counts()"
   ]
  },
  {
   "cell_type": "markdown",
   "metadata": {},
   "source": [
    "We also have outliers and missing values : \n",
    "- none\n",
    "- windows-1252\n",
    "- windows-1251"
   ]
  },
  {
   "cell_type": "markdown",
   "metadata": {},
   "source": [
    "Let's create a function named columncharset which will preprocess the charset column.\n",
    "This function will lower all the charset and prevent the use of different names for a same value"
   ]
  },
  {
   "cell_type": "code",
   "execution_count": 43,
   "metadata": {
    "scrolled": true
   },
   "outputs": [
    {
     "data": {
      "text/plain": [
       "utf-8       837\n",
       "iso-8859    462\n",
       "us-ascii    124\n",
       "none          8\n",
       "Name: CHARSET, dtype: int64"
      ]
     },
     "execution_count": 43,
     "metadata": {},
     "output_type": "execute_result"
    }
   ],
   "source": [
    "def columncharset(data):\n",
    "    for index, row in data.iterrows():\n",
    "            x = row['CHARSET']\n",
    "            if(type(x) is str):\n",
    "                if(x.lower()==\"iso-8859-1\"):\n",
    "                    data.at[index,'CHARSET']=\"iso-8859\"\n",
    "                elif(x.lower()==\"windows-1251\" or x.lower()==\"windows-1252\"):\n",
    "                    data.at[index,'CHARSET']=\"none\" \n",
    "                    #To treat the case of this outlier, we treat it as a none value\n",
    "                elif(type(x)==type(1.0)):\n",
    "                    if math.isnan(x):\n",
    "                        data.at[index,'CHARSET']=\"none\"\n",
    "                else:\n",
    "                    data.at[index,'CHARSET']=x.lower()#to lower the string\n",
    "\n",
    "    return data\n",
    "        \n",
    "columncharset(mod_nan_data)\n",
    "mod_nan_data['CHARSET'].value_counts()"
   ]
  },
  {
   "cell_type": "code",
   "execution_count": 44,
   "metadata": {
    "scrolled": false
   },
   "outputs": [
    {
     "name": "stdout",
     "output_type": "stream",
     "text": [
      "['utf-8', 'iso-8859', 'us-ascii', 'none']\n",
      "['utf-8', 'iso-8859', 'us-ascii', 'none']\n"
     ]
    }
   ],
   "source": [
    "#most repeated values for benign and malicious website\n",
    "benin,malice=mostrepeated(mod_nan_data,'CHARSET',25)\n",
    "print(benin)\n",
    "print(malice)"
   ]
  },
  {
   "cell_type": "markdown",
   "metadata": {},
   "source": [
    "We can now replace all the None"
   ]
  },
  {
   "cell_type": "code",
   "execution_count": 45,
   "metadata": {
    "scrolled": true
   },
   "outputs": [
    {
     "name": "stdout",
     "output_type": "stream",
     "text": [
      "Done on  CHARSET. 2 malicious and 6 benign None processed.\n"
     ]
    }
   ],
   "source": [
    "mod_nan_data = correct_None(mod_nan_data, 'CHARSET', benin, malice) "
   ]
  },
  {
   "cell_type": "code",
   "execution_count": 46,
   "metadata": {
    "scrolled": true
   },
   "outputs": [
    {
     "data": {
      "text/plain": [
       "utf-8       845\n",
       "iso-8859    462\n",
       "us-ascii    124\n",
       "Name: CHARSET, dtype: int64"
      ]
     },
     "execution_count": 46,
     "metadata": {},
     "output_type": "execute_result"
    }
   ],
   "source": [
    "mod_nan_data['CHARSET'].value_counts()"
   ]
  },
  {
   "cell_type": "markdown",
   "metadata": {},
   "source": [
    "As we can see, the values are spread evenly between benign and malicious websites. It seems that this column does not give crucial information. We can ignore it."
   ]
  },
  {
   "cell_type": "code",
   "execution_count": 47,
   "metadata": {},
   "outputs": [],
   "source": [
    "data = mod_nan_data.copy()"
   ]
  },
  {
   "cell_type": "markdown",
   "metadata": {},
   "source": [
    "### Country column"
   ]
  },
  {
   "cell_type": "code",
   "execution_count": 48,
   "metadata": {},
   "outputs": [
    {
     "name": "stdout",
     "output_type": "stream",
     "text": [
      "0    None\n",
      "1    None\n",
      "2      US\n",
      "3      US\n",
      "4      SC\n",
      "Name: WHOIS_COUNTRY, dtype: object\n",
      "Length : 1431\n"
     ]
    }
   ],
   "source": [
    "Countries = data[\"WHOIS_COUNTRY\"].copy()\n",
    "print(Countries.head())\n",
    "print(\"Length :\", len(charsets))"
   ]
  },
  {
   "cell_type": "code",
   "execution_count": 49,
   "metadata": {},
   "outputs": [
    {
     "data": {
      "text/plain": [
       "US                896\n",
       "None              211\n",
       "CA                 76\n",
       "ES                 42\n",
       "AU                 30\n",
       "GB                 17\n",
       "PA                 15\n",
       "JP                 11\n",
       "CN                 10\n",
       "IN                 10\n",
       "CZ                  8\n",
       "UK                  8\n",
       "NL                  6\n",
       "CH                  6\n",
       "FR                  6\n",
       "[u'GB'; u'UK']      5\n",
       "KR                  5\n",
       "ru                  4\n",
       "PH                  4\n",
       "BS                  4\n",
       "AT                  4\n",
       "us                  3\n",
       "TR                  3\n",
       "HK                  3\n",
       "BE                  3\n",
       "DE                  3\n",
       "KY                  3\n",
       "SE                  3\n",
       "SC                  3\n",
       "UA                  2\n",
       "Cyprus              2\n",
       "UY                  2\n",
       "KG                  2\n",
       "BR                  2\n",
       "NO                  2\n",
       "IL                  2\n",
       "SI                  2\n",
       "RU                  2\n",
       "LU                  1\n",
       "LV                  1\n",
       "United Kingdom      1\n",
       "PK                  1\n",
       "IT                  1\n",
       "se                  1\n",
       "BY                  1\n",
       "AE                  1\n",
       "IE                  1\n",
       "UG                  1\n",
       "TH                  1\n",
       "Name: WHOIS_COUNTRY, dtype: int64"
      ]
     },
     "execution_count": 49,
     "metadata": {},
     "output_type": "execute_result"
    }
   ],
   "source": [
    "Countries.value_counts()"
   ]
  },
  {
   "cell_type": "markdown",
   "metadata": {},
   "source": [
    "The preprocessing function columncountries replaces the outlier United Kingdom by UK, uppers every string to keep the same format, and treats the case \"[u'GB'; u'UK']\" by replacing it either by UK or by GB with a probability of 1/2 for each "
   ]
  },
  {
   "cell_type": "code",
   "execution_count": 50,
   "metadata": {},
   "outputs": [
    {
     "data": {
      "text/plain": [
       "US        899\n",
       "None      211\n",
       "CA         76\n",
       "ES         42\n",
       "AU         30\n",
       "GB         17\n",
       "PA         15\n",
       "UK         14\n",
       "JP         11\n",
       "CN         10\n",
       "IN         10\n",
       "CZ          8\n",
       "FR          6\n",
       "NL          6\n",
       "CH          6\n",
       "RU          6\n",
       "KR          5\n",
       "AT          4\n",
       "BS          4\n",
       "PH          4\n",
       "SE          4\n",
       "KY          3\n",
       "TR          3\n",
       "SC          3\n",
       "DE          3\n",
       "HK          3\n",
       "BE          3\n",
       "SI          2\n",
       "UA          2\n",
       "UY          2\n",
       "CYPRUS      2\n",
       "NO          2\n",
       "KG          2\n",
       "IL          2\n",
       "BR          2\n",
       "LU          1\n",
       "TH          1\n",
       "PK          1\n",
       "IT          1\n",
       "BY          1\n",
       "AE          1\n",
       "IE          1\n",
       "UG          1\n",
       "LV          1\n",
       "Name: WHOIS_COUNTRY, dtype: int64"
      ]
     },
     "execution_count": 50,
     "metadata": {},
     "output_type": "execute_result"
    }
   ],
   "source": [
    "def columncountries(data):\n",
    "    res = data.copy()\n",
    "    for index, row in res.iterrows():\n",
    "            x = row['WHOIS_COUNTRY']\n",
    "            if(type(x) is str):\n",
    "                if(x=='United Kingdom'):  \n",
    "                    x='UK'\n",
    "                    res.at[index,'WHOIS_COUNTRY']=x\n",
    "\n",
    "                elif(\"\"\"[u'GB'; u'UK']\"\"\" in x):\n",
    "                \n",
    "                    pb=np.random.randint(1,2)\n",
    "                    if(pb==1):\n",
    "                        res.at[index,'WHOIS_COUNTRY']='UK'\n",
    "                    else:\n",
    "                        res.at[index,'WHOIS_COUNTRY']='GB'\n",
    "                    \n",
    "                if(x!='None'):\n",
    "                    res.at[index,'WHOIS_COUNTRY'] = res.at[index,'WHOIS_COUNTRY'].upper()\n",
    "           \n",
    "    return res\n",
    "        \n",
    "new_data = columncountries(data)\n",
    "new_data['WHOIS_COUNTRY'].value_counts()"
   ]
  },
  {
   "cell_type": "code",
   "execution_count": 51,
   "metadata": {
    "scrolled": true
   },
   "outputs": [
    {
     "name": "stdout",
     "output_type": "stream",
     "text": [
      "['US', 'None', 'CA', 'AU', 'PA', 'GB', 'UK', 'JP', 'IN', 'CN', 'CH', 'NL', 'FR', 'AT', 'BS', 'PH', 'SE', 'KY', 'SC', 'BE', 'TR', 'HK', 'KR', 'IL', 'CYPRUS']\n",
      "['ES', 'None', 'US', 'CZ', 'RU', 'GB', 'CN', 'CA', 'BR', 'PA', 'KR', 'UA', 'UY', 'UG', 'IN', 'FR', 'PK', 'DE', 'UK']\n"
     ]
    }
   ],
   "source": [
    "benin,malice = mostrepeated(new_data,'WHOIS_COUNTRY',25)\n",
    "print(benin)\n",
    "print(malice)"
   ]
  },
  {
   "cell_type": "markdown",
   "metadata": {},
   "source": [
    "We can now replace all our None values"
   ]
  },
  {
   "cell_type": "code",
   "execution_count": 52,
   "metadata": {},
   "outputs": [
    {
     "name": "stdout",
     "output_type": "stream",
     "text": [
      "Done on  WHOIS_COUNTRY. 40 malicious and 171 benign None processed.\n"
     ]
    }
   ],
   "source": [
    "new_data = correct_None(new_data, 'WHOIS_COUNTRY', benin, malice) "
   ]
  },
  {
   "cell_type": "code",
   "execution_count": 53,
   "metadata": {
    "scrolled": true
   },
   "outputs": [
    {
     "data": {
      "text/plain": [
       "US        1070\n",
       "ES          82\n",
       "CA          76\n",
       "AU          30\n",
       "GB          17\n",
       "PA          15\n",
       "UK          14\n",
       "JP          11\n",
       "CN          10\n",
       "IN          10\n",
       "CZ           8\n",
       "NL           6\n",
       "CH           6\n",
       "RU           6\n",
       "FR           6\n",
       "KR           5\n",
       "BS           4\n",
       "PH           4\n",
       "AT           4\n",
       "SE           4\n",
       "KY           3\n",
       "SC           3\n",
       "BE           3\n",
       "TR           3\n",
       "HK           3\n",
       "DE           3\n",
       "CYPRUS       2\n",
       "UY           2\n",
       "UA           2\n",
       "KG           2\n",
       "BR           2\n",
       "NO           2\n",
       "IL           2\n",
       "SI           2\n",
       "LU           1\n",
       "LV           1\n",
       "PK           1\n",
       "IT           1\n",
       "BY           1\n",
       "AE           1\n",
       "IE           1\n",
       "UG           1\n",
       "TH           1\n",
       "Name: WHOIS_COUNTRY, dtype: int64"
      ]
     },
     "execution_count": 53,
     "metadata": {},
     "output_type": "execute_result"
    }
   ],
   "source": [
    "new_data['WHOIS_COUNTRY'].value_counts()"
   ]
  },
  {
   "cell_type": "code",
   "execution_count": 54,
   "metadata": {},
   "outputs": [
    {
     "data": {
      "text/plain": [
       "ES    81\n",
       "US    40\n",
       "CZ     7\n",
       "RU     6\n",
       "GB     4\n",
       "CN     3\n",
       "BR     2\n",
       "UA     2\n",
       "KR     2\n",
       "PA     2\n",
       "UY     2\n",
       "CA     2\n",
       "FR     1\n",
       "UG     1\n",
       "IN     1\n",
       "PK     1\n",
       "DE     1\n",
       "UK     1\n",
       "Name: WHOIS_COUNTRY, dtype: int64"
      ]
     },
     "execution_count": 54,
     "metadata": {},
     "output_type": "execute_result"
    }
   ],
   "source": [
    "new_data.loc[new_data['Type'] == 1 ][\"WHOIS_COUNTRY\"].value_counts()"
   ]
  },
  {
   "cell_type": "code",
   "execution_count": 55,
   "metadata": {},
   "outputs": [],
   "source": [
    "data = new_data.copy()"
   ]
  },
  {
   "cell_type": "markdown",
   "metadata": {},
   "source": [
    "### Statepro column"
   ]
  },
  {
   "cell_type": "code",
   "execution_count": 56,
   "metadata": {},
   "outputs": [
    {
     "name": "stdout",
     "output_type": "stream",
     "text": [
      "0    None\n",
      "1    None\n",
      "2      AK\n",
      "3      TX\n",
      "4    Mahe\n",
      "Name: WHOIS_STATEPRO, dtype: object\n",
      "Length : 1431\n"
     ]
    }
   ],
   "source": [
    "Statepro = data[\"WHOIS_STATEPRO\"].copy()\n",
    "print(Statepro.head())\n",
    "print(\"Length :\", len(Statepro))"
   ]
  },
  {
   "cell_type": "code",
   "execution_count": 57,
   "metadata": {},
   "outputs": [
    {
     "data": {
      "text/plain": [
       "CA            301\n",
       "None          260\n",
       "NY             64\n",
       "Arizona        51\n",
       "FL             50\n",
       "             ... \n",
       "Vic             1\n",
       "New Jersey      1\n",
       "Alicante        1\n",
       "SK              1\n",
       "Paris           1\n",
       "Name: WHOIS_STATEPRO, Length: 182, dtype: int64"
      ]
     },
     "execution_count": 57,
     "metadata": {},
     "output_type": "execute_result"
    }
   ],
   "source": [
    "Statepro.value_counts()"
   ]
  },
  {
   "cell_type": "markdown",
   "metadata": {},
   "source": [
    "For this preprocessing function, we only upper every state to prevent the use of different format for a same state"
   ]
  },
  {
   "cell_type": "code",
   "execution_count": 58,
   "metadata": {},
   "outputs": [
    {
     "data": {
      "text/plain": [
       "CA            301\n",
       "None          260\n",
       "NY             64\n",
       "Arizona        51\n",
       "FL             50\n",
       "             ... \n",
       "Vic             1\n",
       "New Jersey      1\n",
       "Alicante        1\n",
       "SK              1\n",
       "Paris           1\n",
       "Name: WHOIS_STATEPRO, Length: 182, dtype: int64"
      ]
     },
     "execution_count": 58,
     "metadata": {},
     "output_type": "execute_result"
    }
   ],
   "source": [
    "def columnstatepro(data):\n",
    "    res = data.copy()\n",
    "    for index, row in res.iterrows():\n",
    "            x = row['WHOIS_STATEPRO']\n",
    "            if(type(x) is str):\n",
    "                if(x!='None'):\n",
    "                    res.at[index,'WHOIS_STATEPRO']=x.upper()\n",
    "    return res\n",
    "        \n",
    "columnstatepro(data)\n",
    "data['WHOIS_STATEPRO'].value_counts()"
   ]
  },
  {
   "cell_type": "code",
   "execution_count": 59,
   "metadata": {
    "scrolled": true
   },
   "outputs": [
    {
     "name": "stdout",
     "output_type": "stream",
     "text": [
      "['CA', 'None', 'NY', 'Arizona', 'FL', 'WA', 'ON', 'California', 'UT', 'NV', 'CO', 'IL', 'PA', 'MA', 'MO', 'NJ', 'PANAMA', 'Ohio', 'TX', 'Queensland', 'New York', 'VA', 'Texas', 'UK', 'GA']\n",
      "['None', 'Barcelona', 'California', 'Utah', 'PRAHA', 'WC1N', 'Krasnoyarsk', 'PA', 'Washington', 'Montevideo', 'WA', 'PANAMA', 'Arizona', 'ON', 'CA', 'MD', 'MOSCOW', 'Massachusetts', 'FL', 'AZ', 'MA', 'UTAH', 'Punjab', 'ALABAMA', 'Bei Jing']\n"
     ]
    }
   ],
   "source": [
    "benin,malice=mostrepeated(data,'WHOIS_STATEPRO',25)\n",
    "print(benin)\n",
    "print(malice)"
   ]
  },
  {
   "cell_type": "markdown",
   "metadata": {},
   "source": [
    "We can now replace all our None value"
   ]
  },
  {
   "cell_type": "code",
   "execution_count": 60,
   "metadata": {},
   "outputs": [
    {
     "name": "stdout",
     "output_type": "stream",
     "text": [
      "Done on  WHOIS_STATEPRO. 47 malicious and 213 benign None processed.\n"
     ]
    }
   ],
   "source": [
    "new_data = correct_None(data, 'WHOIS_STATEPRO', benin, malice) "
   ]
  },
  {
   "cell_type": "code",
   "execution_count": 61,
   "metadata": {},
   "outputs": [
    {
     "data": {
      "text/plain": [
       "CA                 514\n",
       "Barcelona           88\n",
       "NY                  64\n",
       "Arizona             51\n",
       "FL                  50\n",
       "                  ... \n",
       "Peterborough         1\n",
       "6110021              1\n",
       "NEW SOUTH WALES      1\n",
       "Indiana              1\n",
       "Paris                1\n",
       "Name: WHOIS_STATEPRO, Length: 181, dtype: int64"
      ]
     },
     "execution_count": 61,
     "metadata": {},
     "output_type": "execute_result"
    }
   ],
   "source": [
    "new_data['WHOIS_STATEPRO'].value_counts()"
   ]
  },
  {
   "cell_type": "code",
   "execution_count": 62,
   "metadata": {},
   "outputs": [
    {
     "data": {
      "text/html": [
       "<div>\n",
       "<style scoped>\n",
       "    .dataframe tbody tr th:only-of-type {\n",
       "        vertical-align: middle;\n",
       "    }\n",
       "\n",
       "    .dataframe tbody tr th {\n",
       "        vertical-align: top;\n",
       "    }\n",
       "\n",
       "    .dataframe thead th {\n",
       "        text-align: right;\n",
       "    }\n",
       "</style>\n",
       "<table border=\"1\" class=\"dataframe\">\n",
       "  <thead>\n",
       "    <tr style=\"text-align: right;\">\n",
       "      <th></th>\n",
       "      <th>URL</th>\n",
       "      <th>URL_LENGTH</th>\n",
       "      <th>NUMBER_SPECIAL_CHARACTERS</th>\n",
       "      <th>CHARSET</th>\n",
       "      <th>SERVER</th>\n",
       "      <th>CONTENT_LENGTH</th>\n",
       "      <th>WHOIS_COUNTRY</th>\n",
       "      <th>WHOIS_STATEPRO</th>\n",
       "      <th>WHOIS_REGDATE</th>\n",
       "      <th>WHOIS_UPDATED_DATE</th>\n",
       "      <th>...</th>\n",
       "      <th>DIST_REMOTE_TCP_PORT</th>\n",
       "      <th>REMOTE_IPS</th>\n",
       "      <th>APP_BYTES</th>\n",
       "      <th>SOURCE_APP_PACKETS</th>\n",
       "      <th>REMOTE_APP_PACKETS</th>\n",
       "      <th>SOURCE_APP_BYTES</th>\n",
       "      <th>REMOTE_APP_BYTES</th>\n",
       "      <th>APP_PACKETS</th>\n",
       "      <th>DNS_QUERY_TIMES</th>\n",
       "      <th>Type</th>\n",
       "    </tr>\n",
       "  </thead>\n",
       "  <tbody>\n",
       "    <tr>\n",
       "      <th>0</th>\n",
       "      <td>B0_2314</td>\n",
       "      <td>16</td>\n",
       "      <td>6</td>\n",
       "      <td>utf-8</td>\n",
       "      <td>Apache</td>\n",
       "      <td>15087.000000</td>\n",
       "      <td>US</td>\n",
       "      <td>CA</td>\n",
       "      <td>None</td>\n",
       "      <td>None</td>\n",
       "      <td>...</td>\n",
       "      <td>7</td>\n",
       "      <td>4</td>\n",
       "      <td>1230</td>\n",
       "      <td>17</td>\n",
       "      <td>19</td>\n",
       "      <td>1265</td>\n",
       "      <td>1230</td>\n",
       "      <td>17</td>\n",
       "      <td>0.0</td>\n",
       "      <td>0</td>\n",
       "    </tr>\n",
       "    <tr>\n",
       "      <th>1</th>\n",
       "      <td>B0_911</td>\n",
       "      <td>16</td>\n",
       "      <td>6</td>\n",
       "      <td>us-ascii</td>\n",
       "      <td>Microsoft-HTTPAPI</td>\n",
       "      <td>324.000000</td>\n",
       "      <td>US</td>\n",
       "      <td>CA</td>\n",
       "      <td>None</td>\n",
       "      <td>None</td>\n",
       "      <td>...</td>\n",
       "      <td>2</td>\n",
       "      <td>2</td>\n",
       "      <td>1237</td>\n",
       "      <td>13</td>\n",
       "      <td>13</td>\n",
       "      <td>3524</td>\n",
       "      <td>1436</td>\n",
       "      <td>13</td>\n",
       "      <td>0.0</td>\n",
       "      <td>0</td>\n",
       "    </tr>\n",
       "    <tr>\n",
       "      <th>2</th>\n",
       "      <td>B0_113</td>\n",
       "      <td>17</td>\n",
       "      <td>6</td>\n",
       "      <td>iso-8859</td>\n",
       "      <td>nginx</td>\n",
       "      <td>162.000000</td>\n",
       "      <td>US</td>\n",
       "      <td>AK</td>\n",
       "      <td>7/10/1997 4:00</td>\n",
       "      <td>12/09/2013 0:45</td>\n",
       "      <td>...</td>\n",
       "      <td>2</td>\n",
       "      <td>3</td>\n",
       "      <td>3812</td>\n",
       "      <td>39</td>\n",
       "      <td>37</td>\n",
       "      <td>18784</td>\n",
       "      <td>4380</td>\n",
       "      <td>39</td>\n",
       "      <td>8.0</td>\n",
       "      <td>0</td>\n",
       "    </tr>\n",
       "    <tr>\n",
       "      <th>3</th>\n",
       "      <td>B0_403</td>\n",
       "      <td>17</td>\n",
       "      <td>6</td>\n",
       "      <td>utf-8</td>\n",
       "      <td>Apache</td>\n",
       "      <td>5305.320635</td>\n",
       "      <td>US</td>\n",
       "      <td>TX</td>\n",
       "      <td>12/05/1996 0:00</td>\n",
       "      <td>11/04/2017 0:00</td>\n",
       "      <td>...</td>\n",
       "      <td>2</td>\n",
       "      <td>5</td>\n",
       "      <td>4278</td>\n",
       "      <td>61</td>\n",
       "      <td>62</td>\n",
       "      <td>3524</td>\n",
       "      <td>4586</td>\n",
       "      <td>61</td>\n",
       "      <td>4.0</td>\n",
       "      <td>0</td>\n",
       "    </tr>\n",
       "    <tr>\n",
       "      <th>4</th>\n",
       "      <td>B0_2064</td>\n",
       "      <td>18</td>\n",
       "      <td>7</td>\n",
       "      <td>utf-8</td>\n",
       "      <td>nginx</td>\n",
       "      <td>5305.000000</td>\n",
       "      <td>SC</td>\n",
       "      <td>Mahe</td>\n",
       "      <td>3/08/2016 14:30</td>\n",
       "      <td>3/10/2016 3:45</td>\n",
       "      <td>...</td>\n",
       "      <td>6</td>\n",
       "      <td>9</td>\n",
       "      <td>894</td>\n",
       "      <td>11</td>\n",
       "      <td>13</td>\n",
       "      <td>838</td>\n",
       "      <td>894</td>\n",
       "      <td>11</td>\n",
       "      <td>0.0</td>\n",
       "      <td>0</td>\n",
       "    </tr>\n",
       "    <tr>\n",
       "      <th>...</th>\n",
       "      <td>...</td>\n",
       "      <td>...</td>\n",
       "      <td>...</td>\n",
       "      <td>...</td>\n",
       "      <td>...</td>\n",
       "      <td>...</td>\n",
       "      <td>...</td>\n",
       "      <td>...</td>\n",
       "      <td>...</td>\n",
       "      <td>...</td>\n",
       "      <td>...</td>\n",
       "      <td>...</td>\n",
       "      <td>...</td>\n",
       "      <td>...</td>\n",
       "      <td>...</td>\n",
       "      <td>...</td>\n",
       "      <td>...</td>\n",
       "      <td>...</td>\n",
       "      <td>...</td>\n",
       "      <td>...</td>\n",
       "      <td>...</td>\n",
       "    </tr>\n",
       "    <tr>\n",
       "      <th>1426</th>\n",
       "      <td>M4_45</td>\n",
       "      <td>194</td>\n",
       "      <td>17</td>\n",
       "      <td>utf-8</td>\n",
       "      <td>Apache</td>\n",
       "      <td>970.000000</td>\n",
       "      <td>ES</td>\n",
       "      <td>Barcelona</td>\n",
       "      <td>17/09/2008 0:00</td>\n",
       "      <td>2/09/2016 0:00</td>\n",
       "      <td>...</td>\n",
       "      <td>0</td>\n",
       "      <td>2</td>\n",
       "      <td>1257</td>\n",
       "      <td>14</td>\n",
       "      <td>3</td>\n",
       "      <td>186</td>\n",
       "      <td>1470</td>\n",
       "      <td>14</td>\n",
       "      <td>0.0</td>\n",
       "      <td>1</td>\n",
       "    </tr>\n",
       "    <tr>\n",
       "      <th>1427</th>\n",
       "      <td>M4_48</td>\n",
       "      <td>194</td>\n",
       "      <td>16</td>\n",
       "      <td>utf-8</td>\n",
       "      <td>Apache</td>\n",
       "      <td>970.000000</td>\n",
       "      <td>ES</td>\n",
       "      <td>Barcelona</td>\n",
       "      <td>17/09/2008 0:00</td>\n",
       "      <td>2/09/2016 0:00</td>\n",
       "      <td>...</td>\n",
       "      <td>0</td>\n",
       "      <td>2</td>\n",
       "      <td>1257</td>\n",
       "      <td>14</td>\n",
       "      <td>3</td>\n",
       "      <td>186</td>\n",
       "      <td>1470</td>\n",
       "      <td>14</td>\n",
       "      <td>0.0</td>\n",
       "      <td>1</td>\n",
       "    </tr>\n",
       "    <tr>\n",
       "      <th>1428</th>\n",
       "      <td>B0_162</td>\n",
       "      <td>52</td>\n",
       "      <td>10</td>\n",
       "      <td>utf-8</td>\n",
       "      <td>Apache</td>\n",
       "      <td>8904.000000</td>\n",
       "      <td>US</td>\n",
       "      <td>FL</td>\n",
       "      <td>15/02/1999 0:00</td>\n",
       "      <td>15/07/2015 0:00</td>\n",
       "      <td>...</td>\n",
       "      <td>2</td>\n",
       "      <td>6</td>\n",
       "      <td>1237</td>\n",
       "      <td>13</td>\n",
       "      <td>13</td>\n",
       "      <td>3524</td>\n",
       "      <td>6945</td>\n",
       "      <td>13</td>\n",
       "      <td>4.0</td>\n",
       "      <td>0</td>\n",
       "    </tr>\n",
       "    <tr>\n",
       "      <th>1429</th>\n",
       "      <td>B0_1152</td>\n",
       "      <td>52</td>\n",
       "      <td>10</td>\n",
       "      <td>iso-8859</td>\n",
       "      <td>cloudflare-nginx</td>\n",
       "      <td>5305.000000</td>\n",
       "      <td>US</td>\n",
       "      <td>CA</td>\n",
       "      <td>1/04/1998 0:00</td>\n",
       "      <td>9/12/2016 0:00</td>\n",
       "      <td>...</td>\n",
       "      <td>2</td>\n",
       "      <td>2</td>\n",
       "      <td>1237</td>\n",
       "      <td>13</td>\n",
       "      <td>13</td>\n",
       "      <td>3524</td>\n",
       "      <td>1436</td>\n",
       "      <td>13</td>\n",
       "      <td>0.0</td>\n",
       "      <td>0</td>\n",
       "    </tr>\n",
       "    <tr>\n",
       "      <th>1430</th>\n",
       "      <td>B0_676</td>\n",
       "      <td>52</td>\n",
       "      <td>10</td>\n",
       "      <td>utf-8</td>\n",
       "      <td>Microsoft-IIS</td>\n",
       "      <td>24435.000000</td>\n",
       "      <td>US</td>\n",
       "      <td>Wisconsin</td>\n",
       "      <td>14/11/2008 0:00</td>\n",
       "      <td>20/11/2013 0:00</td>\n",
       "      <td>...</td>\n",
       "      <td>6</td>\n",
       "      <td>11</td>\n",
       "      <td>2314</td>\n",
       "      <td>25</td>\n",
       "      <td>28</td>\n",
       "      <td>3039</td>\n",
       "      <td>2776</td>\n",
       "      <td>25</td>\n",
       "      <td>6.0</td>\n",
       "      <td>0</td>\n",
       "    </tr>\n",
       "  </tbody>\n",
       "</table>\n",
       "<p>1431 rows × 21 columns</p>\n",
       "</div>"
      ],
      "text/plain": [
       "          URL  URL_LENGTH  NUMBER_SPECIAL_CHARACTERS   CHARSET  \\\n",
       "0     B0_2314          16                          6     utf-8   \n",
       "1      B0_911          16                          6  us-ascii   \n",
       "2      B0_113          17                          6  iso-8859   \n",
       "3      B0_403          17                          6     utf-8   \n",
       "4     B0_2064          18                          7     utf-8   \n",
       "...       ...         ...                        ...       ...   \n",
       "1426    M4_45         194                         17     utf-8   \n",
       "1427    M4_48         194                         16     utf-8   \n",
       "1428   B0_162          52                         10     utf-8   \n",
       "1429  B0_1152          52                         10  iso-8859   \n",
       "1430   B0_676          52                         10     utf-8   \n",
       "\n",
       "                 SERVER  CONTENT_LENGTH WHOIS_COUNTRY WHOIS_STATEPRO  \\\n",
       "0                Apache    15087.000000            US             CA   \n",
       "1     Microsoft-HTTPAPI      324.000000            US             CA   \n",
       "2                 nginx      162.000000            US             AK   \n",
       "3                Apache     5305.320635            US             TX   \n",
       "4                 nginx     5305.000000            SC           Mahe   \n",
       "...                 ...             ...           ...            ...   \n",
       "1426             Apache      970.000000            ES      Barcelona   \n",
       "1427             Apache      970.000000            ES      Barcelona   \n",
       "1428             Apache     8904.000000            US             FL   \n",
       "1429   cloudflare-nginx     5305.000000            US             CA   \n",
       "1430      Microsoft-IIS    24435.000000            US      Wisconsin   \n",
       "\n",
       "        WHOIS_REGDATE WHOIS_UPDATED_DATE  ...  DIST_REMOTE_TCP_PORT  \\\n",
       "0                None               None  ...                     7   \n",
       "1                None               None  ...                     2   \n",
       "2      7/10/1997 4:00    12/09/2013 0:45  ...                     2   \n",
       "3     12/05/1996 0:00    11/04/2017 0:00  ...                     2   \n",
       "4     3/08/2016 14:30     3/10/2016 3:45  ...                     6   \n",
       "...               ...                ...  ...                   ...   \n",
       "1426  17/09/2008 0:00     2/09/2016 0:00  ...                     0   \n",
       "1427  17/09/2008 0:00     2/09/2016 0:00  ...                     0   \n",
       "1428  15/02/1999 0:00    15/07/2015 0:00  ...                     2   \n",
       "1429   1/04/1998 0:00     9/12/2016 0:00  ...                     2   \n",
       "1430  14/11/2008 0:00    20/11/2013 0:00  ...                     6   \n",
       "\n",
       "      REMOTE_IPS  APP_BYTES  SOURCE_APP_PACKETS  REMOTE_APP_PACKETS  \\\n",
       "0              4       1230                  17                  19   \n",
       "1              2       1237                  13                  13   \n",
       "2              3       3812                  39                  37   \n",
       "3              5       4278                  61                  62   \n",
       "4              9        894                  11                  13   \n",
       "...          ...        ...                 ...                 ...   \n",
       "1426           2       1257                  14                   3   \n",
       "1427           2       1257                  14                   3   \n",
       "1428           6       1237                  13                  13   \n",
       "1429           2       1237                  13                  13   \n",
       "1430          11       2314                  25                  28   \n",
       "\n",
       "      SOURCE_APP_BYTES  REMOTE_APP_BYTES  APP_PACKETS  DNS_QUERY_TIMES  Type  \n",
       "0                 1265              1230           17              0.0     0  \n",
       "1                 3524              1436           13              0.0     0  \n",
       "2                18784              4380           39              8.0     0  \n",
       "3                 3524              4586           61              4.0     0  \n",
       "4                  838               894           11              0.0     0  \n",
       "...                ...               ...          ...              ...   ...  \n",
       "1426               186              1470           14              0.0     1  \n",
       "1427               186              1470           14              0.0     1  \n",
       "1428              3524              6945           13              4.0     0  \n",
       "1429              3524              1436           13              0.0     0  \n",
       "1430              3039              2776           25              6.0     0  \n",
       "\n",
       "[1431 rows x 21 columns]"
      ]
     },
     "execution_count": 62,
     "metadata": {},
     "output_type": "execute_result"
    }
   ],
   "source": [
    "new_data"
   ]
  },
  {
   "cell_type": "code",
   "execution_count": null,
   "metadata": {},
   "outputs": [],
   "source": []
  },
  {
   "cell_type": "markdown",
   "metadata": {},
   "source": [
    "### Column 2 : URL_LENGTH"
   ]
  },
  {
   "cell_type": "code",
   "execution_count": 63,
   "metadata": {},
   "outputs": [
    {
     "name": "stdout",
     "output_type": "stream",
     "text": [
      "0    16\n",
      "1    16\n",
      "2    17\n",
      "3    17\n",
      "4    18\n",
      "Name: URL_LENGTH, dtype: int64\n",
      "Length : 1431\n"
     ]
    }
   ],
   "source": [
    "url_lengths = data[\"URL_LENGTH\"].copy()\n",
    "print(url_lengths.head())\n",
    "print(\"Length :\", len(url_lengths))"
   ]
  },
  {
   "cell_type": "code",
   "execution_count": 64,
   "metadata": {
    "scrolled": true
   },
   "outputs": [
    {
     "name": "stdout",
     "output_type": "stream",
     "text": [
      "count    1431.000000\n",
      "mean       53.990915\n",
      "std        22.773265\n",
      "min        16.000000\n",
      "25%        39.000000\n",
      "50%        49.000000\n",
      "75%        64.000000\n",
      "max       194.000000\n",
      "Name: URL_LENGTH, dtype: float64\n"
     ]
    }
   ],
   "source": [
    "print(url_lengths.describe())"
   ]
  },
  {
   "cell_type": "markdown",
   "metadata": {},
   "source": [
    "Let's see if there are some major differences between an url length from a malicious website and one from a benign website."
   ]
  },
  {
   "cell_type": "code",
   "execution_count": 65,
   "metadata": {
    "scrolled": false
   },
   "outputs": [
    {
     "data": {
      "image/png": "[encoded data removed]",
      "text/plain": [
       "<Figure size 432x288 with 1 Axes>"
      ]
     },
     "metadata": {
      "needs_background": "light"
     },
     "output_type": "display_data"
    }
   ],
   "source": [
    "url_len_m = data.loc[csv[\"Type\"]==1][\"URL_LENGTH\"] # Malicious url lengths\n",
    "url_len_b = data.loc[csv[\"Type\"]==0][\"URL_LENGTH\"] # Benign url lengths\n",
    "\n",
    "plt.figure()\n",
    "plt.title(\"Characteristics of URL LENGTH\")\n",
    "\n",
    "plt.boxplot([url_len_m, url_len_b], labels =[\"Malicious\", \"Benign\"], showfliers = False)\n",
    "plt.show()"
   ]
  },
  {
   "cell_type": "markdown",
   "metadata": {},
   "source": [
    "### Column 3 : NUMBER_SPECIAL_CHARACTERS"
   ]
  },
  {
   "cell_type": "code",
   "execution_count": 66,
   "metadata": {},
   "outputs": [
    {
     "name": "stdout",
     "output_type": "stream",
     "text": [
      "0    6\n",
      "1    6\n",
      "2    6\n",
      "3    6\n",
      "4    7\n",
      "Name: NUMBER_SPECIAL_CHARACTERS, dtype: int64\n",
      "Length : 1431\n"
     ]
    }
   ],
   "source": [
    "spec_chars = data[\"NUMBER_SPECIAL_CHARACTERS\"].copy()\n",
    "print(spec_chars.head())\n",
    "print(\"Length :\", len(spec_chars))"
   ]
  },
  {
   "cell_type": "code",
   "execution_count": 67,
   "metadata": {},
   "outputs": [
    {
     "name": "stdout",
     "output_type": "stream",
     "text": [
      "count    1431.000000\n",
      "mean       10.462614\n",
      "std         3.536399\n",
      "min         6.000000\n",
      "25%         8.000000\n",
      "50%        10.000000\n",
      "75%        12.000000\n",
      "max        31.000000\n",
      "Name: NUMBER_SPECIAL_CHARACTERS, dtype: float64\n"
     ]
    }
   ],
   "source": [
    "print(spec_chars.describe())"
   ]
  },
  {
   "cell_type": "code",
   "execution_count": 68,
   "metadata": {
    "scrolled": true
   },
   "outputs": [
    {
     "data": {
      "image/png": "[encoded data removed]",
      "text/plain": [
       "<Figure size 432x288 with 1 Axes>"
      ]
     },
     "metadata": {
      "needs_background": "light"
     },
     "output_type": "display_data"
    }
   ],
   "source": [
    "spec_chars_m = data.loc[csv[\"Type\"]==1][\"NUMBER_SPECIAL_CHARACTERS\"] # Malicious url lengths\n",
    "spec_chars_b = data.loc[csv[\"Type\"]==0][\"NUMBER_SPECIAL_CHARACTERS\"] # Benign url lengths\n",
    "\n",
    "plt.figure()\n",
    "plt.title(\"Characteristics of URL LENGTH\")\n",
    "\n",
    "plt.boxplot([spec_chars_m, spec_chars_b], labels =[\"Malicious\", \"Benign\"], showfliers = False)\n",
    "plt.show()\n"
   ]
  },
  {
   "cell_type": "markdown",
   "metadata": {},
   "source": [
    "There is some obvious differences between the malicious and benign data, this column will be useful."
   ]
  },
  {
   "cell_type": "markdown",
   "metadata": {},
   "source": [
    "### Columns 9 & 10 : WHOIS_...DATE"
   ]
  },
  {
   "cell_type": "markdown",
   "metadata": {},
   "source": [
    "WHOIS is an internet protocol that allows to obtain some information on a server, such as the registration date (WHOIS_REGDATE) or the last update (WHOIS_UPDATED_DATE).\n",
    "\n",
    "WHOIS_REGDATE and WHOIS_UPDATED_DATE are dates. There are not numerical data or categorical data for now. The best option is to convert these date into a timestamp which represents the number of seconds elapsed since January 1, 1970 (start of Unix time). We will thus get for each date a numerical value that we will be abke to process."
   ]
  },
  {
   "cell_type": "code",
   "execution_count": 69,
   "metadata": {},
   "outputs": [],
   "source": [
    "# Function to convert a date in a float \n",
    "\n",
    "from datetime import datetime\n",
    "import pandas as pd\n",
    "from dateutil import parser\n",
    "\n",
    "def date2float(date_string):\n",
    "    try:\n",
    "        \n",
    "        date2 = parser.parse(date_string)\n",
    "\n",
    "        return date2.timestamp()\n",
    "\n",
    "    except ValueError:\n",
    "        return 0.0\n",
    "\n",
    "# To obtain the hours from a date\n",
    "def date2hours(date_string):\n",
    "    try:\n",
    "        date2 = parser.parse(date_string)\n",
    "        return date2.hour + date2.minute/60\n",
    "    except ValueError:\n",
    "        return 0.0"
   ]
  },
  {
   "cell_type": "code",
   "execution_count": 70,
   "metadata": {},
   "outputs": [
    {
     "name": "stdout",
     "output_type": "stream",
     "text": [
      "     WHOIS_REGDATE WHOIS_UPDATED_DATE\n",
      "0             None               None\n",
      "1             None               None\n",
      "2   7/10/1997 4:00    12/09/2013 0:45\n",
      "3  12/05/1996 0:00    11/04/2017 0:00\n",
      "4  3/08/2016 14:30     3/10/2016 3:45\n",
      "Length : 1431\n"
     ]
    }
   ],
   "source": [
    "dates = data[[\"WHOIS_REGDATE\", \"WHOIS_UPDATED_DATE\"]].copy()\n",
    "print(dates.head())\n",
    "print(\"Length :\", len(dates))"
   ]
  },
  {
   "cell_type": "markdown",
   "metadata": {},
   "source": [
    "For each row, we convert the date into a float. If it None, we put 0.0 as value."
   ]
  },
  {
   "cell_type": "code",
   "execution_count": 71,
   "metadata": {},
   "outputs": [],
   "source": [
    "mod_date = data.copy() # Data on which we will replace all the None\n",
    "\n",
    "for index, row in dates.iterrows():\n",
    "    x = row[\"WHOIS_REGDATE\"]\n",
    "    if x!=\"None\":\n",
    "        mod_date.loc[index, \"WHOIS_REGDATE\"] = date2float(x)\n",
    "    else:\n",
    "        mod_date.loc[index, \"WHOIS_REGDATE\"] = 0.0\n",
    "        \n",
    "    x = row[\"WHOIS_UPDATED_DATE\"]\n",
    "    if x!=\"None\":\n",
    "        mod_date.loc[index, \"WHOIS_UPDATED_DATE\"] = date2float(x)\n",
    "    \n",
    "    else:\n",
    "        mod_date.loc[index, \"WHOIS_UPDATED_DATE\"] = 0.0\n",
    "        "
   ]
  },
  {
   "cell_type": "code",
   "execution_count": 72,
   "metadata": {},
   "outputs": [
    {
     "data": {
      "text/html": [
       "<div>\n",
       "<style scoped>\n",
       "    .dataframe tbody tr th:only-of-type {\n",
       "        vertical-align: middle;\n",
       "    }\n",
       "\n",
       "    .dataframe tbody tr th {\n",
       "        vertical-align: top;\n",
       "    }\n",
       "\n",
       "    .dataframe thead th {\n",
       "        text-align: right;\n",
       "    }\n",
       "</style>\n",
       "<table border=\"1\" class=\"dataframe\">\n",
       "  <thead>\n",
       "    <tr style=\"text-align: right;\">\n",
       "      <th></th>\n",
       "      <th>URL</th>\n",
       "      <th>URL_LENGTH</th>\n",
       "      <th>NUMBER_SPECIAL_CHARACTERS</th>\n",
       "      <th>CHARSET</th>\n",
       "      <th>SERVER</th>\n",
       "      <th>CONTENT_LENGTH</th>\n",
       "      <th>WHOIS_COUNTRY</th>\n",
       "      <th>WHOIS_STATEPRO</th>\n",
       "      <th>WHOIS_REGDATE</th>\n",
       "      <th>WHOIS_UPDATED_DATE</th>\n",
       "      <th>...</th>\n",
       "      <th>DIST_REMOTE_TCP_PORT</th>\n",
       "      <th>REMOTE_IPS</th>\n",
       "      <th>APP_BYTES</th>\n",
       "      <th>SOURCE_APP_PACKETS</th>\n",
       "      <th>REMOTE_APP_PACKETS</th>\n",
       "      <th>SOURCE_APP_BYTES</th>\n",
       "      <th>REMOTE_APP_BYTES</th>\n",
       "      <th>APP_PACKETS</th>\n",
       "      <th>DNS_QUERY_TIMES</th>\n",
       "      <th>Type</th>\n",
       "    </tr>\n",
       "  </thead>\n",
       "  <tbody>\n",
       "    <tr>\n",
       "      <th>0</th>\n",
       "      <td>B0_2314</td>\n",
       "      <td>16</td>\n",
       "      <td>6</td>\n",
       "      <td>utf-8</td>\n",
       "      <td>Apache</td>\n",
       "      <td>15087.000000</td>\n",
       "      <td>US</td>\n",
       "      <td>CA</td>\n",
       "      <td>0.0</td>\n",
       "      <td>0.0</td>\n",
       "      <td>...</td>\n",
       "      <td>7</td>\n",
       "      <td>4</td>\n",
       "      <td>1230</td>\n",
       "      <td>17</td>\n",
       "      <td>19</td>\n",
       "      <td>1265</td>\n",
       "      <td>1230</td>\n",
       "      <td>17</td>\n",
       "      <td>0.0</td>\n",
       "      <td>0</td>\n",
       "    </tr>\n",
       "    <tr>\n",
       "      <th>1</th>\n",
       "      <td>B0_911</td>\n",
       "      <td>16</td>\n",
       "      <td>6</td>\n",
       "      <td>us-ascii</td>\n",
       "      <td>Microsoft-HTTPAPI</td>\n",
       "      <td>324.000000</td>\n",
       "      <td>US</td>\n",
       "      <td>CA</td>\n",
       "      <td>0.0</td>\n",
       "      <td>0.0</td>\n",
       "      <td>...</td>\n",
       "      <td>2</td>\n",
       "      <td>2</td>\n",
       "      <td>1237</td>\n",
       "      <td>13</td>\n",
       "      <td>13</td>\n",
       "      <td>3524</td>\n",
       "      <td>1436</td>\n",
       "      <td>13</td>\n",
       "      <td>0.0</td>\n",
       "      <td>0</td>\n",
       "    </tr>\n",
       "    <tr>\n",
       "      <th>2</th>\n",
       "      <td>B0_113</td>\n",
       "      <td>17</td>\n",
       "      <td>6</td>\n",
       "      <td>iso-8859</td>\n",
       "      <td>nginx</td>\n",
       "      <td>162.000000</td>\n",
       "      <td>US</td>\n",
       "      <td>AK</td>\n",
       "      <td>868500000.0</td>\n",
       "      <td>1386546300.0</td>\n",
       "      <td>...</td>\n",
       "      <td>2</td>\n",
       "      <td>3</td>\n",
       "      <td>3812</td>\n",
       "      <td>39</td>\n",
       "      <td>37</td>\n",
       "      <td>18784</td>\n",
       "      <td>4380</td>\n",
       "      <td>39</td>\n",
       "      <td>8.0</td>\n",
       "      <td>0</td>\n",
       "    </tr>\n",
       "    <tr>\n",
       "      <th>3</th>\n",
       "      <td>B0_403</td>\n",
       "      <td>17</td>\n",
       "      <td>6</td>\n",
       "      <td>utf-8</td>\n",
       "      <td>Apache</td>\n",
       "      <td>5305.320635</td>\n",
       "      <td>US</td>\n",
       "      <td>TX</td>\n",
       "      <td>849740400.0</td>\n",
       "      <td>1509750000.0</td>\n",
       "      <td>...</td>\n",
       "      <td>2</td>\n",
       "      <td>5</td>\n",
       "      <td>4278</td>\n",
       "      <td>61</td>\n",
       "      <td>62</td>\n",
       "      <td>3524</td>\n",
       "      <td>4586</td>\n",
       "      <td>61</td>\n",
       "      <td>4.0</td>\n",
       "      <td>0</td>\n",
       "    </tr>\n",
       "    <tr>\n",
       "      <th>4</th>\n",
       "      <td>B0_2064</td>\n",
       "      <td>18</td>\n",
       "      <td>7</td>\n",
       "      <td>utf-8</td>\n",
       "      <td>nginx</td>\n",
       "      <td>5305.000000</td>\n",
       "      <td>SC</td>\n",
       "      <td>Mahe</td>\n",
       "      <td>1457443800.0</td>\n",
       "      <td>1457577900.0</td>\n",
       "      <td>...</td>\n",
       "      <td>6</td>\n",
       "      <td>9</td>\n",
       "      <td>894</td>\n",
       "      <td>11</td>\n",
       "      <td>13</td>\n",
       "      <td>838</td>\n",
       "      <td>894</td>\n",
       "      <td>11</td>\n",
       "      <td>0.0</td>\n",
       "      <td>0</td>\n",
       "    </tr>\n",
       "    <tr>\n",
       "      <th>...</th>\n",
       "      <td>...</td>\n",
       "      <td>...</td>\n",
       "      <td>...</td>\n",
       "      <td>...</td>\n",
       "      <td>...</td>\n",
       "      <td>...</td>\n",
       "      <td>...</td>\n",
       "      <td>...</td>\n",
       "      <td>...</td>\n",
       "      <td>...</td>\n",
       "      <td>...</td>\n",
       "      <td>...</td>\n",
       "      <td>...</td>\n",
       "      <td>...</td>\n",
       "      <td>...</td>\n",
       "      <td>...</td>\n",
       "      <td>...</td>\n",
       "      <td>...</td>\n",
       "      <td>...</td>\n",
       "      <td>...</td>\n",
       "      <td>...</td>\n",
       "    </tr>\n",
       "    <tr>\n",
       "      <th>1426</th>\n",
       "      <td>M4_45</td>\n",
       "      <td>194</td>\n",
       "      <td>17</td>\n",
       "      <td>utf-8</td>\n",
       "      <td>Apache</td>\n",
       "      <td>970.000000</td>\n",
       "      <td>ES</td>\n",
       "      <td>Barcelona</td>\n",
       "      <td>1221602400.0</td>\n",
       "      <td>1454972400.0</td>\n",
       "      <td>...</td>\n",
       "      <td>0</td>\n",
       "      <td>2</td>\n",
       "      <td>1257</td>\n",
       "      <td>14</td>\n",
       "      <td>3</td>\n",
       "      <td>186</td>\n",
       "      <td>1470</td>\n",
       "      <td>14</td>\n",
       "      <td>0.0</td>\n",
       "      <td>1</td>\n",
       "    </tr>\n",
       "    <tr>\n",
       "      <th>1427</th>\n",
       "      <td>M4_48</td>\n",
       "      <td>194</td>\n",
       "      <td>16</td>\n",
       "      <td>utf-8</td>\n",
       "      <td>Apache</td>\n",
       "      <td>970.000000</td>\n",
       "      <td>ES</td>\n",
       "      <td>Barcelona</td>\n",
       "      <td>1221602400.0</td>\n",
       "      <td>1454972400.0</td>\n",
       "      <td>...</td>\n",
       "      <td>0</td>\n",
       "      <td>2</td>\n",
       "      <td>1257</td>\n",
       "      <td>14</td>\n",
       "      <td>3</td>\n",
       "      <td>186</td>\n",
       "      <td>1470</td>\n",
       "      <td>14</td>\n",
       "      <td>0.0</td>\n",
       "      <td>1</td>\n",
       "    </tr>\n",
       "    <tr>\n",
       "      <th>1428</th>\n",
       "      <td>B0_162</td>\n",
       "      <td>52</td>\n",
       "      <td>10</td>\n",
       "      <td>utf-8</td>\n",
       "      <td>Apache</td>\n",
       "      <td>8904.000000</td>\n",
       "      <td>US</td>\n",
       "      <td>FL</td>\n",
       "      <td>919033200.0</td>\n",
       "      <td>1436911200.0</td>\n",
       "      <td>...</td>\n",
       "      <td>2</td>\n",
       "      <td>6</td>\n",
       "      <td>1237</td>\n",
       "      <td>13</td>\n",
       "      <td>13</td>\n",
       "      <td>3524</td>\n",
       "      <td>6945</td>\n",
       "      <td>13</td>\n",
       "      <td>4.0</td>\n",
       "      <td>0</td>\n",
       "    </tr>\n",
       "    <tr>\n",
       "      <th>1429</th>\n",
       "      <td>B0_1152</td>\n",
       "      <td>52</td>\n",
       "      <td>10</td>\n",
       "      <td>iso-8859</td>\n",
       "      <td>cloudflare-nginx</td>\n",
       "      <td>5305.000000</td>\n",
       "      <td>US</td>\n",
       "      <td>CA</td>\n",
       "      <td>883868400.0</td>\n",
       "      <td>1473631200.0</td>\n",
       "      <td>...</td>\n",
       "      <td>2</td>\n",
       "      <td>2</td>\n",
       "      <td>1237</td>\n",
       "      <td>13</td>\n",
       "      <td>13</td>\n",
       "      <td>3524</td>\n",
       "      <td>1436</td>\n",
       "      <td>13</td>\n",
       "      <td>0.0</td>\n",
       "      <td>0</td>\n",
       "    </tr>\n",
       "    <tr>\n",
       "      <th>1430</th>\n",
       "      <td>B0_676</td>\n",
       "      <td>52</td>\n",
       "      <td>10</td>\n",
       "      <td>utf-8</td>\n",
       "      <td>Microsoft-IIS</td>\n",
       "      <td>24435.000000</td>\n",
       "      <td>US</td>\n",
       "      <td>Wisconsin</td>\n",
       "      <td>1226617200.0</td>\n",
       "      <td>1384902000.0</td>\n",
       "      <td>...</td>\n",
       "      <td>6</td>\n",
       "      <td>11</td>\n",
       "      <td>2314</td>\n",
       "      <td>25</td>\n",
       "      <td>28</td>\n",
       "      <td>3039</td>\n",
       "      <td>2776</td>\n",
       "      <td>25</td>\n",
       "      <td>6.0</td>\n",
       "      <td>0</td>\n",
       "    </tr>\n",
       "  </tbody>\n",
       "</table>\n",
       "<p>1431 rows × 21 columns</p>\n",
       "</div>"
      ],
      "text/plain": [
       "          URL  URL_LENGTH  NUMBER_SPECIAL_CHARACTERS   CHARSET  \\\n",
       "0     B0_2314          16                          6     utf-8   \n",
       "1      B0_911          16                          6  us-ascii   \n",
       "2      B0_113          17                          6  iso-8859   \n",
       "3      B0_403          17                          6     utf-8   \n",
       "4     B0_2064          18                          7     utf-8   \n",
       "...       ...         ...                        ...       ...   \n",
       "1426    M4_45         194                         17     utf-8   \n",
       "1427    M4_48         194                         16     utf-8   \n",
       "1428   B0_162          52                         10     utf-8   \n",
       "1429  B0_1152          52                         10  iso-8859   \n",
       "1430   B0_676          52                         10     utf-8   \n",
       "\n",
       "                 SERVER  CONTENT_LENGTH WHOIS_COUNTRY WHOIS_STATEPRO  \\\n",
       "0                Apache    15087.000000            US             CA   \n",
       "1     Microsoft-HTTPAPI      324.000000            US             CA   \n",
       "2                 nginx      162.000000            US             AK   \n",
       "3                Apache     5305.320635            US             TX   \n",
       "4                 nginx     5305.000000            SC           Mahe   \n",
       "...                 ...             ...           ...            ...   \n",
       "1426             Apache      970.000000            ES      Barcelona   \n",
       "1427             Apache      970.000000            ES      Barcelona   \n",
       "1428             Apache     8904.000000            US             FL   \n",
       "1429   cloudflare-nginx     5305.000000            US             CA   \n",
       "1430      Microsoft-IIS    24435.000000            US      Wisconsin   \n",
       "\n",
       "     WHOIS_REGDATE WHOIS_UPDATED_DATE  ...  DIST_REMOTE_TCP_PORT  REMOTE_IPS  \\\n",
       "0              0.0                0.0  ...                     7           4   \n",
       "1              0.0                0.0  ...                     2           2   \n",
       "2      868500000.0       1386546300.0  ...                     2           3   \n",
       "3      849740400.0       1509750000.0  ...                     2           5   \n",
       "4     1457443800.0       1457577900.0  ...                     6           9   \n",
       "...            ...                ...  ...                   ...         ...   \n",
       "1426  1221602400.0       1454972400.0  ...                     0           2   \n",
       "1427  1221602400.0       1454972400.0  ...                     0           2   \n",
       "1428   919033200.0       1436911200.0  ...                     2           6   \n",
       "1429   883868400.0       1473631200.0  ...                     2           2   \n",
       "1430  1226617200.0       1384902000.0  ...                     6          11   \n",
       "\n",
       "      APP_BYTES  SOURCE_APP_PACKETS  REMOTE_APP_PACKETS  SOURCE_APP_BYTES  \\\n",
       "0          1230                  17                  19              1265   \n",
       "1          1237                  13                  13              3524   \n",
       "2          3812                  39                  37             18784   \n",
       "3          4278                  61                  62              3524   \n",
       "4           894                  11                  13               838   \n",
       "...         ...                 ...                 ...               ...   \n",
       "1426       1257                  14                   3               186   \n",
       "1427       1257                  14                   3               186   \n",
       "1428       1237                  13                  13              3524   \n",
       "1429       1237                  13                  13              3524   \n",
       "1430       2314                  25                  28              3039   \n",
       "\n",
       "      REMOTE_APP_BYTES  APP_PACKETS  DNS_QUERY_TIMES  Type  \n",
       "0                 1230           17              0.0     0  \n",
       "1                 1436           13              0.0     0  \n",
       "2                 4380           39              8.0     0  \n",
       "3                 4586           61              4.0     0  \n",
       "4                  894           11              0.0     0  \n",
       "...                ...          ...              ...   ...  \n",
       "1426              1470           14              0.0     1  \n",
       "1427              1470           14              0.0     1  \n",
       "1428              6945           13              4.0     0  \n",
       "1429              1436           13              0.0     0  \n",
       "1430              2776           25              6.0     0  \n",
       "\n",
       "[1431 rows x 21 columns]"
      ]
     },
     "execution_count": 72,
     "metadata": {},
     "output_type": "execute_result"
    }
   ],
   "source": [
    "mod_date"
   ]
  },
  {
   "cell_type": "markdown",
   "metadata": {},
   "source": [
    "The following code will correct all the 0.0 (None) and set them to the mean of benign or malicious, following the case."
   ]
  },
  {
   "cell_type": "code",
   "execution_count": 73,
   "metadata": {
    "scrolled": false
   },
   "outputs": [
    {
     "name": "stdout",
     "output_type": "stream",
     "text": [
      "Done on WHOIS_REGDATE. 57 malicious and 35 benign missing processed.\n",
      "Done on WHOIS_UPDATED_DATE. 58 malicious and 38 benign missing processed.\n"
     ]
    },
    {
     "data": {
      "text/html": [
       "<div>\n",
       "<style scoped>\n",
       "    .dataframe tbody tr th:only-of-type {\n",
       "        vertical-align: middle;\n",
       "    }\n",
       "\n",
       "    .dataframe tbody tr th {\n",
       "        vertical-align: top;\n",
       "    }\n",
       "\n",
       "    .dataframe thead th {\n",
       "        text-align: right;\n",
       "    }\n",
       "</style>\n",
       "<table border=\"1\" class=\"dataframe\">\n",
       "  <thead>\n",
       "    <tr style=\"text-align: right;\">\n",
       "      <th></th>\n",
       "      <th>URL</th>\n",
       "      <th>URL_LENGTH</th>\n",
       "      <th>NUMBER_SPECIAL_CHARACTERS</th>\n",
       "      <th>CHARSET</th>\n",
       "      <th>SERVER</th>\n",
       "      <th>CONTENT_LENGTH</th>\n",
       "      <th>WHOIS_COUNTRY</th>\n",
       "      <th>WHOIS_STATEPRO</th>\n",
       "      <th>WHOIS_REGDATE</th>\n",
       "      <th>WHOIS_UPDATED_DATE</th>\n",
       "      <th>...</th>\n",
       "      <th>DIST_REMOTE_TCP_PORT</th>\n",
       "      <th>REMOTE_IPS</th>\n",
       "      <th>APP_BYTES</th>\n",
       "      <th>SOURCE_APP_PACKETS</th>\n",
       "      <th>REMOTE_APP_PACKETS</th>\n",
       "      <th>SOURCE_APP_BYTES</th>\n",
       "      <th>REMOTE_APP_BYTES</th>\n",
       "      <th>APP_PACKETS</th>\n",
       "      <th>DNS_QUERY_TIMES</th>\n",
       "      <th>Type</th>\n",
       "    </tr>\n",
       "  </thead>\n",
       "  <tbody>\n",
       "    <tr>\n",
       "      <th>0</th>\n",
       "      <td>B0_2314</td>\n",
       "      <td>16</td>\n",
       "      <td>6</td>\n",
       "      <td>utf-8</td>\n",
       "      <td>Apache</td>\n",
       "      <td>15087.000000</td>\n",
       "      <td>US</td>\n",
       "      <td>CA</td>\n",
       "      <td>958191896.0</td>\n",
       "      <td>1392814909.0</td>\n",
       "      <td>...</td>\n",
       "      <td>7</td>\n",
       "      <td>4</td>\n",
       "      <td>1230</td>\n",
       "      <td>17</td>\n",
       "      <td>19</td>\n",
       "      <td>1265</td>\n",
       "      <td>1230</td>\n",
       "      <td>17</td>\n",
       "      <td>0.0</td>\n",
       "      <td>0</td>\n",
       "    </tr>\n",
       "    <tr>\n",
       "      <th>1</th>\n",
       "      <td>B0_911</td>\n",
       "      <td>16</td>\n",
       "      <td>6</td>\n",
       "      <td>us-ascii</td>\n",
       "      <td>Microsoft-HTTPAPI</td>\n",
       "      <td>324.000000</td>\n",
       "      <td>US</td>\n",
       "      <td>CA</td>\n",
       "      <td>958191896.0</td>\n",
       "      <td>1392814909.0</td>\n",
       "      <td>...</td>\n",
       "      <td>2</td>\n",
       "      <td>2</td>\n",
       "      <td>1237</td>\n",
       "      <td>13</td>\n",
       "      <td>13</td>\n",
       "      <td>3524</td>\n",
       "      <td>1436</td>\n",
       "      <td>13</td>\n",
       "      <td>0.0</td>\n",
       "      <td>0</td>\n",
       "    </tr>\n",
       "    <tr>\n",
       "      <th>2</th>\n",
       "      <td>B0_113</td>\n",
       "      <td>17</td>\n",
       "      <td>6</td>\n",
       "      <td>iso-8859</td>\n",
       "      <td>nginx</td>\n",
       "      <td>162.000000</td>\n",
       "      <td>US</td>\n",
       "      <td>AK</td>\n",
       "      <td>868500000.0</td>\n",
       "      <td>1386546300.0</td>\n",
       "      <td>...</td>\n",
       "      <td>2</td>\n",
       "      <td>3</td>\n",
       "      <td>3812</td>\n",
       "      <td>39</td>\n",
       "      <td>37</td>\n",
       "      <td>18784</td>\n",
       "      <td>4380</td>\n",
       "      <td>39</td>\n",
       "      <td>8.0</td>\n",
       "      <td>0</td>\n",
       "    </tr>\n",
       "    <tr>\n",
       "      <th>3</th>\n",
       "      <td>B0_403</td>\n",
       "      <td>17</td>\n",
       "      <td>6</td>\n",
       "      <td>utf-8</td>\n",
       "      <td>Apache</td>\n",
       "      <td>5305.320635</td>\n",
       "      <td>US</td>\n",
       "      <td>TX</td>\n",
       "      <td>849740400.0</td>\n",
       "      <td>1509750000.0</td>\n",
       "      <td>...</td>\n",
       "      <td>2</td>\n",
       "      <td>5</td>\n",
       "      <td>4278</td>\n",
       "      <td>61</td>\n",
       "      <td>62</td>\n",
       "      <td>3524</td>\n",
       "      <td>4586</td>\n",
       "      <td>61</td>\n",
       "      <td>4.0</td>\n",
       "      <td>0</td>\n",
       "    </tr>\n",
       "    <tr>\n",
       "      <th>4</th>\n",
       "      <td>B0_2064</td>\n",
       "      <td>18</td>\n",
       "      <td>7</td>\n",
       "      <td>utf-8</td>\n",
       "      <td>nginx</td>\n",
       "      <td>5305.000000</td>\n",
       "      <td>SC</td>\n",
       "      <td>Mahe</td>\n",
       "      <td>1457443800.0</td>\n",
       "      <td>1457577900.0</td>\n",
       "      <td>...</td>\n",
       "      <td>6</td>\n",
       "      <td>9</td>\n",
       "      <td>894</td>\n",
       "      <td>11</td>\n",
       "      <td>13</td>\n",
       "      <td>838</td>\n",
       "      <td>894</td>\n",
       "      <td>11</td>\n",
       "      <td>0.0</td>\n",
       "      <td>0</td>\n",
       "    </tr>\n",
       "    <tr>\n",
       "      <th>...</th>\n",
       "      <td>...</td>\n",
       "      <td>...</td>\n",
       "      <td>...</td>\n",
       "      <td>...</td>\n",
       "      <td>...</td>\n",
       "      <td>...</td>\n",
       "      <td>...</td>\n",
       "      <td>...</td>\n",
       "      <td>...</td>\n",
       "      <td>...</td>\n",
       "      <td>...</td>\n",
       "      <td>...</td>\n",
       "      <td>...</td>\n",
       "      <td>...</td>\n",
       "      <td>...</td>\n",
       "      <td>...</td>\n",
       "      <td>...</td>\n",
       "      <td>...</td>\n",
       "      <td>...</td>\n",
       "      <td>...</td>\n",
       "      <td>...</td>\n",
       "    </tr>\n",
       "    <tr>\n",
       "      <th>1426</th>\n",
       "      <td>M4_45</td>\n",
       "      <td>194</td>\n",
       "      <td>17</td>\n",
       "      <td>utf-8</td>\n",
       "      <td>Apache</td>\n",
       "      <td>970.000000</td>\n",
       "      <td>ES</td>\n",
       "      <td>Barcelona</td>\n",
       "      <td>1221602400.0</td>\n",
       "      <td>1454972400.0</td>\n",
       "      <td>...</td>\n",
       "      <td>0</td>\n",
       "      <td>2</td>\n",
       "      <td>1257</td>\n",
       "      <td>14</td>\n",
       "      <td>3</td>\n",
       "      <td>186</td>\n",
       "      <td>1470</td>\n",
       "      <td>14</td>\n",
       "      <td>0.0</td>\n",
       "      <td>1</td>\n",
       "    </tr>\n",
       "    <tr>\n",
       "      <th>1427</th>\n",
       "      <td>M4_48</td>\n",
       "      <td>194</td>\n",
       "      <td>16</td>\n",
       "      <td>utf-8</td>\n",
       "      <td>Apache</td>\n",
       "      <td>970.000000</td>\n",
       "      <td>ES</td>\n",
       "      <td>Barcelona</td>\n",
       "      <td>1221602400.0</td>\n",
       "      <td>1454972400.0</td>\n",
       "      <td>...</td>\n",
       "      <td>0</td>\n",
       "      <td>2</td>\n",
       "      <td>1257</td>\n",
       "      <td>14</td>\n",
       "      <td>3</td>\n",
       "      <td>186</td>\n",
       "      <td>1470</td>\n",
       "      <td>14</td>\n",
       "      <td>0.0</td>\n",
       "      <td>1</td>\n",
       "    </tr>\n",
       "    <tr>\n",
       "      <th>1428</th>\n",
       "      <td>B0_162</td>\n",
       "      <td>52</td>\n",
       "      <td>10</td>\n",
       "      <td>utf-8</td>\n",
       "      <td>Apache</td>\n",
       "      <td>8904.000000</td>\n",
       "      <td>US</td>\n",
       "      <td>FL</td>\n",
       "      <td>919033200.0</td>\n",
       "      <td>1436911200.0</td>\n",
       "      <td>...</td>\n",
       "      <td>2</td>\n",
       "      <td>6</td>\n",
       "      <td>1237</td>\n",
       "      <td>13</td>\n",
       "      <td>13</td>\n",
       "      <td>3524</td>\n",
       "      <td>6945</td>\n",
       "      <td>13</td>\n",
       "      <td>4.0</td>\n",
       "      <td>0</td>\n",
       "    </tr>\n",
       "    <tr>\n",
       "      <th>1429</th>\n",
       "      <td>B0_1152</td>\n",
       "      <td>52</td>\n",
       "      <td>10</td>\n",
       "      <td>iso-8859</td>\n",
       "      <td>cloudflare-nginx</td>\n",
       "      <td>5305.000000</td>\n",
       "      <td>US</td>\n",
       "      <td>CA</td>\n",
       "      <td>883868400.0</td>\n",
       "      <td>1473631200.0</td>\n",
       "      <td>...</td>\n",
       "      <td>2</td>\n",
       "      <td>2</td>\n",
       "      <td>1237</td>\n",
       "      <td>13</td>\n",
       "      <td>13</td>\n",
       "      <td>3524</td>\n",
       "      <td>1436</td>\n",
       "      <td>13</td>\n",
       "      <td>0.0</td>\n",
       "      <td>0</td>\n",
       "    </tr>\n",
       "    <tr>\n",
       "      <th>1430</th>\n",
       "      <td>B0_676</td>\n",
       "      <td>52</td>\n",
       "      <td>10</td>\n",
       "      <td>utf-8</td>\n",
       "      <td>Microsoft-IIS</td>\n",
       "      <td>24435.000000</td>\n",
       "      <td>US</td>\n",
       "      <td>Wisconsin</td>\n",
       "      <td>1226617200.0</td>\n",
       "      <td>1384902000.0</td>\n",
       "      <td>...</td>\n",
       "      <td>6</td>\n",
       "      <td>11</td>\n",
       "      <td>2314</td>\n",
       "      <td>25</td>\n",
       "      <td>28</td>\n",
       "      <td>3039</td>\n",
       "      <td>2776</td>\n",
       "      <td>25</td>\n",
       "      <td>6.0</td>\n",
       "      <td>0</td>\n",
       "    </tr>\n",
       "  </tbody>\n",
       "</table>\n",
       "<p>1431 rows × 21 columns</p>\n",
       "</div>"
      ],
      "text/plain": [
       "          URL  URL_LENGTH  NUMBER_SPECIAL_CHARACTERS   CHARSET  \\\n",
       "0     B0_2314          16                          6     utf-8   \n",
       "1      B0_911          16                          6  us-ascii   \n",
       "2      B0_113          17                          6  iso-8859   \n",
       "3      B0_403          17                          6     utf-8   \n",
       "4     B0_2064          18                          7     utf-8   \n",
       "...       ...         ...                        ...       ...   \n",
       "1426    M4_45         194                         17     utf-8   \n",
       "1427    M4_48         194                         16     utf-8   \n",
       "1428   B0_162          52                         10     utf-8   \n",
       "1429  B0_1152          52                         10  iso-8859   \n",
       "1430   B0_676          52                         10     utf-8   \n",
       "\n",
       "                 SERVER  CONTENT_LENGTH WHOIS_COUNTRY WHOIS_STATEPRO  \\\n",
       "0                Apache    15087.000000            US             CA   \n",
       "1     Microsoft-HTTPAPI      324.000000            US             CA   \n",
       "2                 nginx      162.000000            US             AK   \n",
       "3                Apache     5305.320635            US             TX   \n",
       "4                 nginx     5305.000000            SC           Mahe   \n",
       "...                 ...             ...           ...            ...   \n",
       "1426             Apache      970.000000            ES      Barcelona   \n",
       "1427             Apache      970.000000            ES      Barcelona   \n",
       "1428             Apache     8904.000000            US             FL   \n",
       "1429   cloudflare-nginx     5305.000000            US             CA   \n",
       "1430      Microsoft-IIS    24435.000000            US      Wisconsin   \n",
       "\n",
       "     WHOIS_REGDATE WHOIS_UPDATED_DATE  ...  DIST_REMOTE_TCP_PORT  REMOTE_IPS  \\\n",
       "0      958191896.0       1392814909.0  ...                     7           4   \n",
       "1      958191896.0       1392814909.0  ...                     2           2   \n",
       "2      868500000.0       1386546300.0  ...                     2           3   \n",
       "3      849740400.0       1509750000.0  ...                     2           5   \n",
       "4     1457443800.0       1457577900.0  ...                     6           9   \n",
       "...            ...                ...  ...                   ...         ...   \n",
       "1426  1221602400.0       1454972400.0  ...                     0           2   \n",
       "1427  1221602400.0       1454972400.0  ...                     0           2   \n",
       "1428   919033200.0       1436911200.0  ...                     2           6   \n",
       "1429   883868400.0       1473631200.0  ...                     2           2   \n",
       "1430  1226617200.0       1384902000.0  ...                     6          11   \n",
       "\n",
       "      APP_BYTES  SOURCE_APP_PACKETS  REMOTE_APP_PACKETS  SOURCE_APP_BYTES  \\\n",
       "0          1230                  17                  19              1265   \n",
       "1          1237                  13                  13              3524   \n",
       "2          3812                  39                  37             18784   \n",
       "3          4278                  61                  62              3524   \n",
       "4           894                  11                  13               838   \n",
       "...         ...                 ...                 ...               ...   \n",
       "1426       1257                  14                   3               186   \n",
       "1427       1257                  14                   3               186   \n",
       "1428       1237                  13                  13              3524   \n",
       "1429       1237                  13                  13              3524   \n",
       "1430       2314                  25                  28              3039   \n",
       "\n",
       "      REMOTE_APP_BYTES  APP_PACKETS  DNS_QUERY_TIMES  Type  \n",
       "0                 1230           17              0.0     0  \n",
       "1                 1436           13              0.0     0  \n",
       "2                 4380           39              8.0     0  \n",
       "3                 4586           61              4.0     0  \n",
       "4                  894           11              0.0     0  \n",
       "...                ...          ...              ...   ...  \n",
       "1426              1470           14              0.0     1  \n",
       "1427              1470           14              0.0     1  \n",
       "1428              6945           13              4.0     0  \n",
       "1429              1436           13              0.0     0  \n",
       "1430              2776           25              6.0     0  \n",
       "\n",
       "[1431 rows x 21 columns]"
      ]
     },
     "execution_count": 73,
     "metadata": {},
     "output_type": "execute_result"
    }
   ],
   "source": [
    "mod_date = correct_missing(mod_date, \"WHOIS_REGDATE\")\n",
    "mod_date = correct_missing(mod_date, \"WHOIS_UPDATED_DATE\")\n",
    "mod_date"
   ]
  },
  {
   "cell_type": "code",
   "execution_count": 74,
   "metadata": {},
   "outputs": [],
   "source": [
    "data = mod_date.copy()"
   ]
  },
  {
   "cell_type": "markdown",
   "metadata": {},
   "source": [
    "# Analyzing the relevance of each numerical value "
   ]
  },
  {
   "cell_type": "markdown",
   "metadata": {},
   "source": [
    "### Column 2 : URL_LENGTH"
   ]
  },
  {
   "cell_type": "markdown",
   "metadata": {},
   "source": [
    "This column gives the length of the URL"
   ]
  },
  {
   "cell_type": "code",
   "execution_count": 75,
   "metadata": {},
   "outputs": [
    {
     "name": "stdout",
     "output_type": "stream",
     "text": [
      "0    16\n",
      "1    16\n",
      "2    17\n",
      "3    17\n",
      "4    18\n",
      "Name: URL_LENGTH, dtype: int64\n",
      "Length : 1431\n"
     ]
    }
   ],
   "source": [
    "url_lengths = data[\"URL_LENGTH\"].copy()\n",
    "print(url_lengths.head())\n",
    "print(\"Length :\", len(url_lengths))"
   ]
  },
  {
   "cell_type": "code",
   "execution_count": 76,
   "metadata": {
    "scrolled": true
   },
   "outputs": [
    {
     "name": "stdout",
     "output_type": "stream",
     "text": [
      "count    1431.000000\n",
      "mean       53.990915\n",
      "std        22.773265\n",
      "min        16.000000\n",
      "25%        39.000000\n",
      "50%        49.000000\n",
      "75%        64.000000\n",
      "max       194.000000\n",
      "Name: URL_LENGTH, dtype: float64\n"
     ]
    }
   ],
   "source": [
    "print(url_lengths.describe())"
   ]
  },
  {
   "cell_type": "markdown",
   "metadata": {},
   "source": [
    "Let's see if there are some major differences between an url length from a malicious website and one from a benign website."
   ]
  },
  {
   "cell_type": "code",
   "execution_count": 77,
   "metadata": {},
   "outputs": [
    {
     "data": {
      "image/png": "[encoded data removed]",
      "text/plain": [
       "<Figure size 432x288 with 1 Axes>"
      ]
     },
     "metadata": {
      "needs_background": "light"
     },
     "output_type": "display_data"
    }
   ],
   "source": [
    "auto_boxplot(data, \"URL_LENGTH\", False)"
   ]
  },
  {
   "cell_type": "markdown",
   "metadata": {},
   "source": [
    "We see that Malicious website tend to have a longer URL value than benign website; hence, it is relevant to keep this column."
   ]
  },
  {
   "cell_type": "markdown",
   "metadata": {},
   "source": [
    "### Column 3 : NUMBER_SPECIAL_CHARACTERS"
   ]
  },
  {
   "cell_type": "markdown",
   "metadata": {},
   "source": [
    "This column describes the number of special characters identified in the URL, such as, “/”, “%”, “#”, “&”, “. “, “=”"
   ]
  },
  {
   "cell_type": "code",
   "execution_count": 78,
   "metadata": {},
   "outputs": [
    {
     "name": "stdout",
     "output_type": "stream",
     "text": [
      "0    6\n",
      "1    6\n",
      "2    6\n",
      "3    6\n",
      "4    7\n",
      "Name: NUMBER_SPECIAL_CHARACTERS, dtype: int64\n",
      "Length : 1431\n"
     ]
    }
   ],
   "source": [
    "spec_chars = data[\"NUMBER_SPECIAL_CHARACTERS\"].copy()\n",
    "print(spec_chars.head())\n",
    "print(\"Length :\", len(spec_chars))"
   ]
  },
  {
   "cell_type": "code",
   "execution_count": 79,
   "metadata": {},
   "outputs": [
    {
     "name": "stdout",
     "output_type": "stream",
     "text": [
      "count    1431.000000\n",
      "mean       10.462614\n",
      "std         3.536399\n",
      "min         6.000000\n",
      "25%         8.000000\n",
      "50%        10.000000\n",
      "75%        12.000000\n",
      "max        31.000000\n",
      "Name: NUMBER_SPECIAL_CHARACTERS, dtype: float64\n"
     ]
    }
   ],
   "source": [
    "print(spec_chars.describe())"
   ]
  },
  {
   "cell_type": "code",
   "execution_count": 80,
   "metadata": {},
   "outputs": [
    {
     "data": {
      "image/png": "[encoded data removed]",
      "text/plain": [
       "<Figure size 432x288 with 1 Axes>"
      ]
     },
     "metadata": {
      "needs_background": "light"
     },
     "output_type": "display_data"
    }
   ],
   "source": [
    "auto_boxplot(data, \"NUMBER_SPECIAL_CHARACTERS\", False)"
   ]
  },
  {
   "cell_type": "markdown",
   "metadata": {},
   "source": [
    "We see that Malicious website's URL contain more special characters than benign website. It is relevant to keep this column for our study."
   ]
  },
  {
   "cell_type": "markdown",
   "metadata": {},
   "source": [
    "### Column 6 : Content length"
   ]
  },
  {
   "cell_type": "markdown",
   "metadata": {},
   "source": [
    "This column gives the content size of the HTTP header"
   ]
  },
  {
   "cell_type": "code",
   "execution_count": 81,
   "metadata": {},
   "outputs": [
    {
     "name": "stdout",
     "output_type": "stream",
     "text": [
      "0    15087.000000\n",
      "1      324.000000\n",
      "2      162.000000\n",
      "3     5305.320635\n",
      "4     5305.000000\n",
      "Name: CONTENT_LENGTH, dtype: float64\n",
      "Length : 1431\n"
     ]
    }
   ],
   "source": [
    "cont_len = data[\"CONTENT_LENGTH\"].copy()\n",
    "print(cont_len.head())\n",
    "print(\"Length :\", len(cont_len))"
   ]
  },
  {
   "cell_type": "code",
   "execution_count": 82,
   "metadata": {},
   "outputs": [
    {
     "name": "stdout",
     "output_type": "stream",
     "text": [
      "count     1431.000000\n",
      "mean      4834.664486\n",
      "std       4660.238549\n",
      "min          9.000000\n",
      "25%        970.000000\n",
      "50%       5305.000000\n",
      "75%       5305.000000\n",
      "max      30285.000000\n",
      "Name: CONTENT_LENGTH, dtype: float64\n"
     ]
    }
   ],
   "source": [
    "print(cont_len.describe())"
   ]
  },
  {
   "cell_type": "code",
   "execution_count": 83,
   "metadata": {},
   "outputs": [
    {
     "data": {
      "image/png": "[encoded data removed]",
      "text/plain": [
       "<Figure size 432x288 with 1 Axes>"
      ]
     },
     "metadata": {
      "needs_background": "light"
     },
     "output_type": "display_data"
    }
   ],
   "source": [
    "auto_boxplot(data, \"CONTENT_LENGTH\", False)"
   ]
  },
  {
   "cell_type": "markdown",
   "metadata": {},
   "source": [
    "We see that the content length for Malicious websites is very low compared to benign websites. It is relevant to keep this column for our study."
   ]
  },
  {
   "cell_type": "markdown",
   "metadata": {},
   "source": [
    "### Column 8 : WHOIS_REGDATE"
   ]
  },
  {
   "cell_type": "markdown",
   "metadata": {},
   "source": [
    "This column provides the server registration date ; initially, it was in a date format, however, we transformed it into a numeric value as explained before"
   ]
  },
  {
   "cell_type": "code",
   "execution_count": 84,
   "metadata": {},
   "outputs": [
    {
     "name": "stdout",
     "output_type": "stream",
     "text": [
      "0     958191896.0\n",
      "1     958191896.0\n",
      "2     868500000.0\n",
      "3     849740400.0\n",
      "4    1457443800.0\n",
      "Name: WHOIS_REGDATE, dtype: object\n",
      "Length : 1431\n"
     ]
    }
   ],
   "source": [
    "regdate = data[\"WHOIS_REGDATE\"].copy()\n",
    "print(regdate.head())\n",
    "print(\"Length :\", len(regdate))"
   ]
  },
  {
   "cell_type": "code",
   "execution_count": 85,
   "metadata": {},
   "outputs": [
    {
     "name": "stdout",
     "output_type": "stream",
     "text": [
      "count          1431.0\n",
      "unique          768.0\n",
      "top       979341120.0\n",
      "freq             59.0\n",
      "Name: WHOIS_REGDATE, dtype: float64\n"
     ]
    }
   ],
   "source": [
    "print(regdate.describe())"
   ]
  },
  {
   "cell_type": "code",
   "execution_count": 86,
   "metadata": {},
   "outputs": [
    {
     "data": {
      "image/png": "[encoded data removed]",
      "text/plain": [
       "<Figure size 432x288 with 1 Axes>"
      ]
     },
     "metadata": {
      "needs_background": "light"
     },
     "output_type": "display_data"
    }
   ],
   "source": [
    "auto_boxplot(data, \"WHOIS_REGDATE\", False)"
   ]
  },
  {
   "cell_type": "markdown",
   "metadata": {},
   "source": [
    "We see that the WHOIS registration date for Malicious websites tends to be more recent than the one for benign websites. It is relevant to keep this column for our study."
   ]
  },
  {
   "cell_type": "markdown",
   "metadata": {},
   "source": [
    "### Column 9 : WHOIS_UPDATED_DATE"
   ]
  },
  {
   "cell_type": "markdown",
   "metadata": {},
   "source": [
    "This column provides the server update date ; initially, it was in a date format, however, we transformed it into a numeric value as explained before"
   ]
  },
  {
   "cell_type": "code",
   "execution_count": 87,
   "metadata": {},
   "outputs": [
    {
     "name": "stdout",
     "output_type": "stream",
     "text": [
      "0    1392814909.0\n",
      "1    1392814909.0\n",
      "2    1386546300.0\n",
      "3    1509750000.0\n",
      "4    1457577900.0\n",
      "Name: WHOIS_UPDATED_DATE, dtype: object\n",
      "Length : 1431\n"
     ]
    }
   ],
   "source": [
    "updates = data[\"WHOIS_UPDATED_DATE\"].copy()\n",
    "print(updates.head())\n",
    "print(\"Length :\", len(updates))"
   ]
  },
  {
   "cell_type": "code",
   "execution_count": 88,
   "metadata": {},
   "outputs": [
    {
     "name": "stdout",
     "output_type": "stream",
     "text": [
      "count     1.431000e+03\n",
      "unique    5.430000e+02\n",
      "top       1.449912e+09\n",
      "freq      5.900000e+01\n",
      "Name: WHOIS_UPDATED_DATE, dtype: float64\n"
     ]
    }
   ],
   "source": [
    "print(updates.describe())"
   ]
  },
  {
   "cell_type": "code",
   "execution_count": 89,
   "metadata": {},
   "outputs": [
    {
     "data": {
      "image/png": "[encoded data removed]",
      "text/plain": [
       "<Figure size 432x288 with 1 Axes>"
      ]
     },
     "metadata": {
      "needs_background": "light"
     },
     "output_type": "display_data"
    }
   ],
   "source": [
    "auto_boxplot(data, \"WHOIS_UPDATED_DATE\", False)"
   ]
  },
  {
   "cell_type": "markdown",
   "metadata": {},
   "source": [
    "We see that the WHOIS updated date for Malicious websites tends to be more concentrated around a certain value than the one for benign websites. It is relevant to keep this column for our study."
   ]
  },
  {
   "cell_type": "markdown",
   "metadata": {},
   "source": [
    "### Column 10 : TCP_CONVERSATION_EXCHANGE"
   ]
  },
  {
   "cell_type": "markdown",
   "metadata": {},
   "source": [
    "This column describes the number of TCP packets exchanged between the server and the client"
   ]
  },
  {
   "cell_type": "code",
   "execution_count": 90,
   "metadata": {},
   "outputs": [
    {
     "name": "stdout",
     "output_type": "stream",
     "text": [
      "0    17\n",
      "1    11\n",
      "2    31\n",
      "3    57\n",
      "4    11\n",
      "Name: TCP_CONVERSATION_EXCHANGE, dtype: int64\n",
      "Length : 1431\n"
     ]
    }
   ],
   "source": [
    "tcpconv = data[\"TCP_CONVERSATION_EXCHANGE\"].copy()\n",
    "print(tcpconv.head())\n",
    "print(\"Length :\", len(tcpconv))"
   ]
  },
  {
   "cell_type": "code",
   "execution_count": 91,
   "metadata": {},
   "outputs": [
    {
     "name": "stdout",
     "output_type": "stream",
     "text": [
      "count    1431.000000\n",
      "mean       15.551363\n",
      "std        10.875261\n",
      "min         1.000000\n",
      "25%        11.000000\n",
      "50%        11.000000\n",
      "75%        19.000000\n",
      "max        57.000000\n",
      "Name: TCP_CONVERSATION_EXCHANGE, dtype: float64\n"
     ]
    }
   ],
   "source": [
    "print(tcpconv.describe())"
   ]
  },
  {
   "cell_type": "code",
   "execution_count": 92,
   "metadata": {},
   "outputs": [
    {
     "data": {
      "image/png": "[encoded data removed]",
      "text/plain": [
       "<Figure size 432x288 with 1 Axes>"
      ]
     },
     "metadata": {
      "needs_background": "light"
     },
     "output_type": "display_data"
    }
   ],
   "source": [
    "auto_boxplot(data, \"TCP_CONVERSATION_EXCHANGE\", False)"
   ]
  },
  {
   "cell_type": "markdown",
   "metadata": {},
   "source": [
    "The number of packets exchange doens't change according to if it is a malicious site or a benign site, we can ignore this column."
   ]
  },
  {
   "cell_type": "markdown",
   "metadata": {},
   "source": [
    "### Column 11 : DIST_REMOTE_TCP_PORT"
   ]
  },
  {
   "cell_type": "markdown",
   "metadata": {},
   "source": [
    "This column describes the number of the ports detected and different to TCP"
   ]
  },
  {
   "cell_type": "code",
   "execution_count": 93,
   "metadata": {},
   "outputs": [
    {
     "name": "stdout",
     "output_type": "stream",
     "text": [
      "0    7\n",
      "1    2\n",
      "2    2\n",
      "3    2\n",
      "4    6\n",
      "Name: DIST_REMOTE_TCP_PORT, dtype: int64\n",
      "Length : 1431\n"
     ]
    }
   ],
   "source": [
    "nbports = data[\"DIST_REMOTE_TCP_PORT\"].copy()\n",
    "print(nbports.head())\n",
    "print(\"Length :\", len(nbports))"
   ]
  },
  {
   "cell_type": "code",
   "execution_count": 94,
   "metadata": {},
   "outputs": [
    {
     "name": "stdout",
     "output_type": "stream",
     "text": [
      "count    1431.000000\n",
      "mean        2.936408\n",
      "std         2.682397\n",
      "min         0.000000\n",
      "25%         2.000000\n",
      "50%         2.000000\n",
      "75%         3.000000\n",
      "max        15.000000\n",
      "Name: DIST_REMOTE_TCP_PORT, dtype: float64\n"
     ]
    }
   ],
   "source": [
    "print(nbports.describe())"
   ]
  },
  {
   "cell_type": "code",
   "execution_count": 95,
   "metadata": {},
   "outputs": [
    {
     "data": {
      "image/png": "[encoded data removed]",
      "text/plain": [
       "<Figure size 432x288 with 1 Axes>"
      ]
     },
     "metadata": {
      "needs_background": "light"
     },
     "output_type": "display_data"
    }
   ],
   "source": [
    "auto_boxplot(data, \"DIST_REMOTE_TCP_PORT\", False)"
   ]
  },
  {
   "cell_type": "markdown",
   "metadata": {},
   "source": [
    "It looks like Malicious website only use TCP port. This column is relevant to keep."
   ]
  },
  {
   "cell_type": "markdown",
   "metadata": {},
   "source": [
    "### Column 12 : REMOTE_IPS"
   ]
  },
  {
   "cell_type": "markdown",
   "metadata": {},
   "source": [
    "This column describes the total number of IPs connected to the honeypot"
   ]
  },
  {
   "cell_type": "code",
   "execution_count": 96,
   "metadata": {},
   "outputs": [
    {
     "name": "stdout",
     "output_type": "stream",
     "text": [
      "0    4\n",
      "1    2\n",
      "2    3\n",
      "3    5\n",
      "4    9\n",
      "Name: REMOTE_IPS, dtype: int64\n",
      "Length : 1431\n"
     ]
    }
   ],
   "source": [
    "nbips = data[\"REMOTE_IPS\"].copy()\n",
    "print(nbips.head())\n",
    "print(\"Length :\", len(nbips))"
   ]
  },
  {
   "cell_type": "code",
   "execution_count": 97,
   "metadata": {},
   "outputs": [
    {
     "name": "stdout",
     "output_type": "stream",
     "text": [
      "count    1431.000000\n",
      "mean        3.626834\n",
      "std         2.503526\n",
      "min         1.000000\n",
      "25%         2.000000\n",
      "50%         2.000000\n",
      "75%         5.000000\n",
      "max        12.000000\n",
      "Name: REMOTE_IPS, dtype: float64\n"
     ]
    }
   ],
   "source": [
    "print(nbips.describe())"
   ]
  },
  {
   "cell_type": "code",
   "execution_count": 98,
   "metadata": {},
   "outputs": [
    {
     "data": {
      "image/png": "[encoded data removed]",
      "text/plain": [
       "<Figure size 432x288 with 1 Axes>"
      ]
     },
     "metadata": {
      "needs_background": "light"
     },
     "output_type": "display_data"
    }
   ],
   "source": [
    "auto_boxplot(data, \"REMOTE_IPS\", False)"
   ]
  },
  {
   "cell_type": "markdown",
   "metadata": {},
   "source": [
    "There is a small difference between Malicious and Benign website for this criteria, we can keep it."
   ]
  },
  {
   "cell_type": "markdown",
   "metadata": {},
   "source": [
    "### Column 13 : APP_BYTES"
   ]
  },
  {
   "cell_type": "markdown",
   "metadata": {},
   "source": [
    "This column describes the number of bytes transferred"
   ]
  },
  {
   "cell_type": "code",
   "execution_count": 99,
   "metadata": {},
   "outputs": [
    {
     "name": "stdout",
     "output_type": "stream",
     "text": [
      "0    1230\n",
      "1    1237\n",
      "2    3812\n",
      "3    4278\n",
      "4     894\n",
      "Name: APP_BYTES, dtype: int64\n",
      "Length : 1431\n"
     ]
    }
   ],
   "source": [
    "nbytes = data[\"APP_BYTES\"].copy()\n",
    "print(nbytes.head())\n",
    "print(\"Length :\", len(nbytes))"
   ]
  },
  {
   "cell_type": "code",
   "execution_count": 100,
   "metadata": {},
   "outputs": [
    {
     "name": "stdout",
     "output_type": "stream",
     "text": [
      "count    1431.000000\n",
      "mean     1687.530398\n",
      "std      1200.421058\n",
      "min        54.000000\n",
      "25%      1237.000000\n",
      "50%      1237.000000\n",
      "75%      1970.000000\n",
      "max      6078.000000\n",
      "Name: APP_BYTES, dtype: float64\n"
     ]
    }
   ],
   "source": [
    "print(nbytes.describe())"
   ]
  },
  {
   "cell_type": "code",
   "execution_count": 101,
   "metadata": {},
   "outputs": [
    {
     "data": {
      "image/png": "[encoded data removed]",
      "text/plain": [
       "<Figure size 432x288 with 1 Axes>"
      ]
     },
     "metadata": {
      "needs_background": "light"
     },
     "output_type": "display_data"
    }
   ],
   "source": [
    "auto_boxplot(data, \"APP_BYTES\", False)"
   ]
  },
  {
   "cell_type": "markdown",
   "metadata": {},
   "source": [
    "These data are slightly different according to their type, we can keep the column."
   ]
  },
  {
   "cell_type": "markdown",
   "metadata": {},
   "source": [
    "### Column 14 : SOURCE_APP_PACKETS"
   ]
  },
  {
   "cell_type": "markdown",
   "metadata": {},
   "source": [
    "This column gives the number of packets sent to the server"
   ]
  },
  {
   "cell_type": "code",
   "execution_count": 102,
   "metadata": {},
   "outputs": [
    {
     "name": "stdout",
     "output_type": "stream",
     "text": [
      "0    17\n",
      "1    13\n",
      "2    39\n",
      "3    61\n",
      "4    11\n",
      "Name: SOURCE_APP_PACKETS, dtype: int64\n",
      "Length : 1431\n"
     ]
    }
   ],
   "source": [
    "npacket = data[\"SOURCE_APP_PACKETS\"].copy()\n",
    "print(npacket.head())\n",
    "print(\"Length :\", len(npacket))"
   ]
  },
  {
   "cell_type": "code",
   "execution_count": 103,
   "metadata": {},
   "outputs": [
    {
     "name": "stdout",
     "output_type": "stream",
     "text": [
      "count    1431.000000\n",
      "mean       18.638015\n",
      "std        12.750332\n",
      "min         1.000000\n",
      "25%        13.000000\n",
      "50%        13.000000\n",
      "75%        23.000000\n",
      "max        68.000000\n",
      "Name: SOURCE_APP_PACKETS, dtype: float64\n"
     ]
    }
   ],
   "source": [
    "print(npacket.describe())"
   ]
  },
  {
   "cell_type": "code",
   "execution_count": 104,
   "metadata": {},
   "outputs": [
    {
     "data": {
      "image/png": "[encoded data removed]",
      "text/plain": [
       "<Figure size 432x288 with 1 Axes>"
      ]
     },
     "metadata": {
      "needs_background": "light"
     },
     "output_type": "display_data"
    }
   ],
   "source": [
    "auto_boxplot(data,\"SOURCE_APP_PACKETS\", False )"
   ]
  },
  {
   "cell_type": "markdown",
   "metadata": {},
   "source": [
    "There only is a small difference between malicious and benign websites for this criteria. We can ignore it."
   ]
  },
  {
   "cell_type": "markdown",
   "metadata": {},
   "source": [
    "### Column 15 : REMOTE_APP_PACKETS"
   ]
  },
  {
   "cell_type": "markdown",
   "metadata": {},
   "source": [
    "This column indicates the number of packets received by the server"
   ]
  },
  {
   "cell_type": "code",
   "execution_count": 105,
   "metadata": {},
   "outputs": [
    {
     "name": "stdout",
     "output_type": "stream",
     "text": [
      "0    19\n",
      "1    13\n",
      "2    37\n",
      "3    62\n",
      "4    13\n",
      "Name: REMOTE_APP_PACKETS, dtype: int64\n",
      "Length : 1431\n"
     ]
    }
   ],
   "source": [
    "nreceivedpack = data[\"REMOTE_APP_PACKETS\"].copy()\n",
    "print(nreceivedpack.head())\n",
    "print(\"Length :\", len(nreceivedpack))"
   ]
  },
  {
   "cell_type": "code",
   "execution_count": 106,
   "metadata": {},
   "outputs": [
    {
     "name": "stdout",
     "output_type": "stream",
     "text": [
      "count    1431.000000\n",
      "mean       17.670161\n",
      "std        12.277283\n",
      "min         2.000000\n",
      "25%        13.000000\n",
      "50%        13.000000\n",
      "75%        22.000000\n",
      "max        65.000000\n",
      "Name: REMOTE_APP_PACKETS, dtype: float64\n"
     ]
    }
   ],
   "source": [
    "print(nreceivedpack.describe())"
   ]
  },
  {
   "cell_type": "code",
   "execution_count": 107,
   "metadata": {},
   "outputs": [
    {
     "data": {
      "image/png": "[encoded data removed]",
      "text/plain": [
       "<Figure size 432x288 with 1 Axes>"
      ]
     },
     "metadata": {
      "needs_background": "light"
     },
     "output_type": "display_data"
    }
   ],
   "source": [
    "auto_boxplot(data, \"REMOTE_APP_PACKETS\", False)"
   ]
  },
  {
   "cell_type": "markdown",
   "metadata": {},
   "source": [
    "There is a huge difference in the repartition of this value depending on if it is a malicious website or a benign website. Hence, this column is relevant for our study, we will keep it."
   ]
  },
  {
   "cell_type": "markdown",
   "metadata": {},
   "source": [
    "### Column 16 : SOURCE_APP_BYTES"
   ]
  },
  {
   "cell_type": "markdown",
   "metadata": {},
   "source": [
    "This column describes the total number of IPs connected to the honeypot"
   ]
  },
  {
   "cell_type": "code",
   "execution_count": 108,
   "metadata": {},
   "outputs": [
    {
     "name": "stdout",
     "output_type": "stream",
     "text": [
      "0     1265\n",
      "1     3524\n",
      "2    18784\n",
      "3     3524\n",
      "4      838\n",
      "Name: SOURCE_APP_BYTES, dtype: int64\n",
      "Length : 1431\n"
     ]
    }
   ],
   "source": [
    "nbips = data[\"SOURCE_APP_BYTES\"].copy()\n",
    "print(nbips.head())\n",
    "print(\"Length :\", len(nbips))"
   ]
  },
  {
   "cell_type": "code",
   "execution_count": 109,
   "metadata": {},
   "outputs": [
    {
     "name": "stdout",
     "output_type": "stream",
     "text": [
      "count     1431.000000\n",
      "mean      4470.861635\n",
      "std       5517.735018\n",
      "min        124.000000\n",
      "25%       1420.500000\n",
      "50%       3524.000000\n",
      "75%       3524.000000\n",
      "max      30057.000000\n",
      "Name: SOURCE_APP_BYTES, dtype: float64\n"
     ]
    }
   ],
   "source": [
    "print(nbips.describe())"
   ]
  },
  {
   "cell_type": "code",
   "execution_count": 110,
   "metadata": {},
   "outputs": [
    {
     "data": {
      "image/png": "[encoded data removed]",
      "text/plain": [
       "<Figure size 432x288 with 1 Axes>"
      ]
     },
     "metadata": {
      "needs_background": "light"
     },
     "output_type": "display_data"
    }
   ],
   "source": [
    "auto_boxplot(data, \"SOURCE_APP_BYTES\", False)"
   ]
  },
  {
   "cell_type": "markdown",
   "metadata": {},
   "source": [
    "There is a huge difference between Malicious and Benign website for this criteria, we can keep it."
   ]
  },
  {
   "cell_type": "markdown",
   "metadata": {},
   "source": [
    "### Column 17 : REMOTE_APP_BYTES"
   ]
  },
  {
   "cell_type": "markdown",
   "metadata": {},
   "source": [
    "This column describes the number of bytes received by the server"
   ]
  },
  {
   "cell_type": "code",
   "execution_count": 111,
   "metadata": {},
   "outputs": [
    {
     "name": "stdout",
     "output_type": "stream",
     "text": [
      "0    1230\n",
      "1    1436\n",
      "2    4380\n",
      "3    4586\n",
      "4     894\n",
      "Name: REMOTE_APP_BYTES, dtype: int64\n",
      "Length : 1431\n"
     ]
    }
   ],
   "source": [
    "nappreceived = data[\"REMOTE_APP_BYTES\"].copy()\n",
    "print(nappreceived.head())\n",
    "print(\"Length :\", len(nappreceived))"
   ]
  },
  {
   "cell_type": "code",
   "execution_count": 112,
   "metadata": {},
   "outputs": [
    {
     "name": "stdout",
     "output_type": "stream",
     "text": [
      "count    1431.000000\n",
      "mean     1959.674354\n",
      "std      1385.492169\n",
      "min        54.000000\n",
      "25%      1436.000000\n",
      "50%      1436.000000\n",
      "75%      2388.000000\n",
      "max      6945.000000\n",
      "Name: REMOTE_APP_BYTES, dtype: float64\n"
     ]
    }
   ],
   "source": [
    "print(nappreceived.describe())"
   ]
  },
  {
   "cell_type": "code",
   "execution_count": 113,
   "metadata": {},
   "outputs": [
    {
     "data": {
      "image/png": "[encoded data removed]",
      "text/plain": [
       "<Figure size 432x288 with 1 Axes>"
      ]
     },
     "metadata": {
      "needs_background": "light"
     },
     "output_type": "display_data"
    }
   ],
   "source": [
    "auto_boxplot(data, \"REMOTE_APP_BYTES\", False)"
   ]
  },
  {
   "cell_type": "markdown",
   "metadata": {},
   "source": [
    "There isn't a clear difference for the repartition of this value depending on if it's a malicious website or not ; hence, we can delete this column."
   ]
  },
  {
   "cell_type": "markdown",
   "metadata": {},
   "source": [
    "### Column 17 : APP_PACKETS"
   ]
  },
  {
   "cell_type": "markdown",
   "metadata": {},
   "source": [
    "This column corresponds to the total number of IP packets generated during the communication between the honeypot and the server"
   ]
  },
  {
   "cell_type": "code",
   "execution_count": 114,
   "metadata": {},
   "outputs": [
    {
     "name": "stdout",
     "output_type": "stream",
     "text": [
      "0    17\n",
      "1    13\n",
      "2    39\n",
      "3    61\n",
      "4    11\n",
      "Name: APP_PACKETS, dtype: int64\n",
      "Length : 1431\n"
     ]
    }
   ],
   "source": [
    "napp = data[\"APP_PACKETS\"].copy()\n",
    "print(napp.head())\n",
    "print(\"Length :\", len(napp))"
   ]
  },
  {
   "cell_type": "code",
   "execution_count": 115,
   "metadata": {},
   "outputs": [
    {
     "name": "stdout",
     "output_type": "stream",
     "text": [
      "count    1431.000000\n",
      "mean       18.638015\n",
      "std        12.750332\n",
      "min         1.000000\n",
      "25%        13.000000\n",
      "50%        13.000000\n",
      "75%        23.000000\n",
      "max        68.000000\n",
      "Name: APP_PACKETS, dtype: float64\n"
     ]
    }
   ],
   "source": [
    "print(napp.describe())"
   ]
  },
  {
   "cell_type": "code",
   "execution_count": 116,
   "metadata": {},
   "outputs": [
    {
     "data": {
      "image/png": "[encoded data removed]",
      "text/plain": [
       "<Figure size 432x288 with 1 Axes>"
      ]
     },
     "metadata": {
      "needs_background": "light"
     },
     "output_type": "display_data"
    }
   ],
   "source": [
    "auto_boxplot(data, \"APP_PACKETS\", False)"
   ]
  },
  {
   "cell_type": "markdown",
   "metadata": {},
   "source": [
    "There isn't a clear difference for the repartition of this value depending on if it's a malicious website or not ; hence, we can delete this column."
   ]
  },
  {
   "cell_type": "markdown",
   "metadata": {},
   "source": [
    "### Column 18 : DNS_QUERY_TIMES"
   ]
  },
  {
   "cell_type": "markdown",
   "metadata": {},
   "source": [
    " This column refers to the number of DNS packets generated during the communication between the honeypot and the server"
   ]
  },
  {
   "cell_type": "code",
   "execution_count": 117,
   "metadata": {},
   "outputs": [
    {
     "name": "stdout",
     "output_type": "stream",
     "text": [
      "0    0.0\n",
      "1    0.0\n",
      "2    8.0\n",
      "3    4.0\n",
      "4    0.0\n",
      "Name: DNS_QUERY_TIMES, dtype: float64\n",
      "Length : 1431\n"
     ]
    }
   ],
   "source": [
    "query_time = data[\"DNS_QUERY_TIMES\"].copy()\n",
    "print(query_time.head())\n",
    "print(\"Length :\", len(query_time))"
   ]
  },
  {
   "cell_type": "code",
   "execution_count": 118,
   "metadata": {},
   "outputs": [
    {
     "name": "stdout",
     "output_type": "stream",
     "text": [
      "count    1431.000000\n",
      "mean        2.214119\n",
      "std         2.789038\n",
      "min         0.000000\n",
      "25%         0.000000\n",
      "50%         0.000000\n",
      "75%         4.000000\n",
      "max        10.000000\n",
      "Name: DNS_QUERY_TIMES, dtype: float64\n"
     ]
    }
   ],
   "source": [
    "print(query_time.describe())"
   ]
  },
  {
   "cell_type": "code",
   "execution_count": 119,
   "metadata": {},
   "outputs": [
    {
     "data": {
      "image/png": "[encoded data removed]",
      "text/plain": [
       "<Figure size 432x288 with 1 Axes>"
      ]
     },
     "metadata": {
      "needs_background": "light"
     },
     "output_type": "display_data"
    }
   ],
   "source": [
    "query_time_m = data.loc[csv[\"Type\"]==1][\"DNS_QUERY_TIMES\"] # Malicious tcp packets\n",
    "query_time_b = data.loc[csv[\"Type\"]==0][\"DNS_QUERY_TIMES\"] # Benign tcp packets\n",
    "\n",
    "plt.figure()\n",
    "plt.title(\"DNS query time\")\n",
    "\n",
    "plt.boxplot([query_time_m, query_time_b], labels =[\"Malicious\", \"Benign\"], showfliers = False)\n",
    "plt.show()\n"
   ]
  },
  {
   "cell_type": "markdown",
   "metadata": {},
   "source": [
    "Malicious website tend to generate more DNS packet than benign site, hence, we will keep this column for our prediction."
   ]
  },
  {
   "cell_type": "markdown",
   "metadata": {},
   "source": [
    "## One-Hot Encoding of categorical data"
   ]
  },
  {
   "cell_type": "markdown",
   "metadata": {},
   "source": [
    "We now can one-hot encode the columns without any difficulty."
   ]
  },
  {
   "cell_type": "markdown",
   "metadata": {},
   "source": [
    "#### Example with Charsets"
   ]
  },
  {
   "cell_type": "code",
   "execution_count": 120,
   "metadata": {},
   "outputs": [],
   "source": [
    "# Creating an array containing all the possible values in the string fields\n",
    "poss = np.unique(data['CHARSET'].to_numpy())"
   ]
  },
  {
   "cell_type": "code",
   "execution_count": 121,
   "metadata": {
    "scrolled": true
   },
   "outputs": [
    {
     "name": "stdout",
     "output_type": "stream",
     "text": [
      "Ordinal array : [0, 1, 2]\n",
      "\n",
      "One hot : [[1. 0. 0.]\n",
      " [0. 1. 0.]\n",
      " [0. 0. 1.]]\n",
      "\n",
      "Dictionary : {'iso-8859': array([1., 0., 0.], dtype=float32), 'us-ascii': array([0., 1., 0.], dtype=float32), 'utf-8': array([0., 0., 1.], dtype=float32)}\n"
     ]
    }
   ],
   "source": [
    "from tensorflow.keras.utils import to_categorical\n",
    "charset_map = {} # Dictionary to keep the \"real\" values\n",
    "\n",
    "values = []\n",
    "# We first create an ordinal array with all the values\n",
    "for i, el in enumerate(poss):\n",
    "    values.append(i)\n",
    "print(\"Ordinal array :\", values)\n",
    "        \n",
    "# We then convert it to one-hot     \n",
    "one_hot = to_categorical(values)\n",
    "print(\"\\nOne hot :\", one_hot)\n",
    "        \n",
    "for i, el in enumerate(poss): \n",
    "    charset_map[el] = np.array(one_hot[i])\n",
    "\n",
    "print(\"\\nDictionary :\", charset_map)"
   ]
  },
  {
   "cell_type": "markdown",
   "metadata": {},
   "source": [
    "#### Application"
   ]
  },
  {
   "cell_type": "markdown",
   "metadata": {},
   "source": [
    "Let's create a function which we can use later to convert our categorical data into one-hot envoded data."
   ]
  },
  {
   "cell_type": "code",
   "execution_count": 122,
   "metadata": {},
   "outputs": [],
   "source": [
    "def onehot_dict(data):\n",
    "    poss = np.unique(np.array(data))\n",
    "    field_map = {} # Dictionary to keep the \"real\" values\n",
    "\n",
    "    values = []\n",
    "    # We first create an ordinal array with all the values\n",
    "    for i, el in enumerate(poss):\n",
    "        values.append(i)\n",
    "   \n",
    "    # We then convert it to one-hot     \n",
    "    one_hot = to_categorical(values)\n",
    "   \n",
    "\n",
    "    for i, el in enumerate(poss): \n",
    "        field_map[el] = np.array(one_hot[i])\n",
    "    \n",
    "    return field_map"
   ]
  },
  {
   "cell_type": "markdown",
   "metadata": {},
   "source": [
    "We convert all the values in the column into one-hot encoded values"
   ]
  },
  {
   "cell_type": "code",
   "execution_count": 123,
   "metadata": {
    "scrolled": true
   },
   "outputs": [],
   "source": [
    "def onehot_conv(data, columns):\n",
    "    mapping = {} # General dictionary for all the categories\n",
    "    res = data.copy()\n",
    "\n",
    "    for el in columns:\n",
    "        mapping[el] = onehot_dict(res[el])\n",
    "\n",
    "    for el in columns:\n",
    "        for index, row in res[el].to_frame().iterrows():\n",
    "            res.at[index, el] = mapping[el][row[el]]\n",
    "        \n",
    "    return mapping, res\n",
    "\n",
    "  \n",
    "    \n",
    "\n"
   ]
  },
  {
   "cell_type": "code",
   "execution_count": 124,
   "metadata": {},
   "outputs": [],
   "source": [
    "columns = ['CHARSET', 'SERVER', 'WHOIS_COUNTRY', 'WHOIS_STATEPRO']\n",
    "mapping, new_data = onehot_conv(data, columns)"
   ]
  },
  {
   "cell_type": "markdown",
   "metadata": {},
   "source": [
    "We have successfully created our one-hot encoded version :"
   ]
  },
  {
   "cell_type": "code",
   "execution_count": 125,
   "metadata": {},
   "outputs": [
    {
     "data": {
      "text/html": [
       "<div>\n",
       "<style scoped>\n",
       "    .dataframe tbody tr th:only-of-type {\n",
       "        vertical-align: middle;\n",
       "    }\n",
       "\n",
       "    .dataframe tbody tr th {\n",
       "        vertical-align: top;\n",
       "    }\n",
       "\n",
       "    .dataframe thead th {\n",
       "        text-align: right;\n",
       "    }\n",
       "</style>\n",
       "<table border=\"1\" class=\"dataframe\">\n",
       "  <thead>\n",
       "    <tr style=\"text-align: right;\">\n",
       "      <th></th>\n",
       "      <th>URL</th>\n",
       "      <th>URL_LENGTH</th>\n",
       "      <th>NUMBER_SPECIAL_CHARACTERS</th>\n",
       "      <th>CHARSET</th>\n",
       "      <th>SERVER</th>\n",
       "      <th>CONTENT_LENGTH</th>\n",
       "      <th>WHOIS_COUNTRY</th>\n",
       "      <th>WHOIS_STATEPRO</th>\n",
       "      <th>WHOIS_REGDATE</th>\n",
       "      <th>WHOIS_UPDATED_DATE</th>\n",
       "      <th>...</th>\n",
       "      <th>DIST_REMOTE_TCP_PORT</th>\n",
       "      <th>REMOTE_IPS</th>\n",
       "      <th>APP_BYTES</th>\n",
       "      <th>SOURCE_APP_PACKETS</th>\n",
       "      <th>REMOTE_APP_PACKETS</th>\n",
       "      <th>SOURCE_APP_BYTES</th>\n",
       "      <th>REMOTE_APP_BYTES</th>\n",
       "      <th>APP_PACKETS</th>\n",
       "      <th>DNS_QUERY_TIMES</th>\n",
       "      <th>Type</th>\n",
       "    </tr>\n",
       "  </thead>\n",
       "  <tbody>\n",
       "    <tr>\n",
       "      <th>0</th>\n",
       "      <td>B0_2314</td>\n",
       "      <td>16</td>\n",
       "      <td>6</td>\n",
       "      <td>[0.0, 0.0, 1.0]</td>\n",
       "      <td>[0.0, 0.0, 0.0, 0.0, 0.0, 0.0, 1.0, 0.0, 0.0, ...</td>\n",
       "      <td>15087.000000</td>\n",
       "      <td>[0.0, 0.0, 0.0, 0.0, 0.0, 0.0, 0.0, 0.0, 0.0, ...</td>\n",
       "      <td>[0.0, 0.0, 0.0, 0.0, 0.0, 0.0, 0.0, 0.0, 0.0, ...</td>\n",
       "      <td>958191896.0</td>\n",
       "      <td>1392814909.0</td>\n",
       "      <td>...</td>\n",
       "      <td>7</td>\n",
       "      <td>4</td>\n",
       "      <td>1230</td>\n",
       "      <td>17</td>\n",
       "      <td>19</td>\n",
       "      <td>1265</td>\n",
       "      <td>1230</td>\n",
       "      <td>17</td>\n",
       "      <td>0.0</td>\n",
       "      <td>0</td>\n",
       "    </tr>\n",
       "    <tr>\n",
       "      <th>1</th>\n",
       "      <td>B0_911</td>\n",
       "      <td>16</td>\n",
       "      <td>6</td>\n",
       "      <td>[0.0, 1.0, 0.0]</td>\n",
       "      <td>[0.0, 0.0, 0.0, 0.0, 0.0, 0.0, 0.0, 0.0, 0.0, ...</td>\n",
       "      <td>324.000000</td>\n",
       "      <td>[0.0, 0.0, 0.0, 0.0, 0.0, 0.0, 0.0, 0.0, 0.0, ...</td>\n",
       "      <td>[0.0, 0.0, 0.0, 0.0, 0.0, 0.0, 0.0, 0.0, 0.0, ...</td>\n",
       "      <td>958191896.0</td>\n",
       "      <td>1392814909.0</td>\n",
       "      <td>...</td>\n",
       "      <td>2</td>\n",
       "      <td>2</td>\n",
       "      <td>1237</td>\n",
       "      <td>13</td>\n",
       "      <td>13</td>\n",
       "      <td>3524</td>\n",
       "      <td>1436</td>\n",
       "      <td>13</td>\n",
       "      <td>0.0</td>\n",
       "      <td>0</td>\n",
       "    </tr>\n",
       "    <tr>\n",
       "      <th>2</th>\n",
       "      <td>B0_113</td>\n",
       "      <td>17</td>\n",
       "      <td>6</td>\n",
       "      <td>[1.0, 0.0, 0.0]</td>\n",
       "      <td>[0.0, 0.0, 0.0, 0.0, 0.0, 0.0, 0.0, 0.0, 0.0, ...</td>\n",
       "      <td>162.000000</td>\n",
       "      <td>[0.0, 0.0, 0.0, 0.0, 0.0, 0.0, 0.0, 0.0, 0.0, ...</td>\n",
       "      <td>[0.0, 0.0, 0.0, 0.0, 1.0, 0.0, 0.0, 0.0, 0.0, ...</td>\n",
       "      <td>868500000.0</td>\n",
       "      <td>1386546300.0</td>\n",
       "      <td>...</td>\n",
       "      <td>2</td>\n",
       "      <td>3</td>\n",
       "      <td>3812</td>\n",
       "      <td>39</td>\n",
       "      <td>37</td>\n",
       "      <td>18784</td>\n",
       "      <td>4380</td>\n",
       "      <td>39</td>\n",
       "      <td>8.0</td>\n",
       "      <td>0</td>\n",
       "    </tr>\n",
       "    <tr>\n",
       "      <th>3</th>\n",
       "      <td>B0_403</td>\n",
       "      <td>17</td>\n",
       "      <td>6</td>\n",
       "      <td>[0.0, 0.0, 1.0]</td>\n",
       "      <td>[0.0, 0.0, 0.0, 0.0, 0.0, 0.0, 1.0, 0.0, 0.0, ...</td>\n",
       "      <td>5305.320635</td>\n",
       "      <td>[0.0, 0.0, 0.0, 0.0, 0.0, 0.0, 0.0, 0.0, 0.0, ...</td>\n",
       "      <td>[0.0, 0.0, 0.0, 0.0, 0.0, 0.0, 0.0, 0.0, 0.0, ...</td>\n",
       "      <td>849740400.0</td>\n",
       "      <td>1509750000.0</td>\n",
       "      <td>...</td>\n",
       "      <td>2</td>\n",
       "      <td>5</td>\n",
       "      <td>4278</td>\n",
       "      <td>61</td>\n",
       "      <td>62</td>\n",
       "      <td>3524</td>\n",
       "      <td>4586</td>\n",
       "      <td>61</td>\n",
       "      <td>4.0</td>\n",
       "      <td>0</td>\n",
       "    </tr>\n",
       "    <tr>\n",
       "      <th>4</th>\n",
       "      <td>B0_2064</td>\n",
       "      <td>18</td>\n",
       "      <td>7</td>\n",
       "      <td>[0.0, 0.0, 1.0]</td>\n",
       "      <td>[0.0, 0.0, 0.0, 0.0, 0.0, 0.0, 0.0, 0.0, 0.0, ...</td>\n",
       "      <td>5305.000000</td>\n",
       "      <td>[0.0, 0.0, 0.0, 0.0, 0.0, 0.0, 0.0, 0.0, 0.0, ...</td>\n",
       "      <td>[0.0, 0.0, 0.0, 0.0, 0.0, 0.0, 0.0, 0.0, 0.0, ...</td>\n",
       "      <td>1457443800.0</td>\n",
       "      <td>1457577900.0</td>\n",
       "      <td>...</td>\n",
       "      <td>6</td>\n",
       "      <td>9</td>\n",
       "      <td>894</td>\n",
       "      <td>11</td>\n",
       "      <td>13</td>\n",
       "      <td>838</td>\n",
       "      <td>894</td>\n",
       "      <td>11</td>\n",
       "      <td>0.0</td>\n",
       "      <td>0</td>\n",
       "    </tr>\n",
       "    <tr>\n",
       "      <th>...</th>\n",
       "      <td>...</td>\n",
       "      <td>...</td>\n",
       "      <td>...</td>\n",
       "      <td>...</td>\n",
       "      <td>...</td>\n",
       "      <td>...</td>\n",
       "      <td>...</td>\n",
       "      <td>...</td>\n",
       "      <td>...</td>\n",
       "      <td>...</td>\n",
       "      <td>...</td>\n",
       "      <td>...</td>\n",
       "      <td>...</td>\n",
       "      <td>...</td>\n",
       "      <td>...</td>\n",
       "      <td>...</td>\n",
       "      <td>...</td>\n",
       "      <td>...</td>\n",
       "      <td>...</td>\n",
       "      <td>...</td>\n",
       "      <td>...</td>\n",
       "    </tr>\n",
       "    <tr>\n",
       "      <th>1426</th>\n",
       "      <td>M4_45</td>\n",
       "      <td>194</td>\n",
       "      <td>17</td>\n",
       "      <td>[0.0, 0.0, 1.0]</td>\n",
       "      <td>[0.0, 0.0, 0.0, 0.0, 0.0, 0.0, 1.0, 0.0, 0.0, ...</td>\n",
       "      <td>970.000000</td>\n",
       "      <td>[0.0, 0.0, 0.0, 0.0, 0.0, 0.0, 0.0, 0.0, 0.0, ...</td>\n",
       "      <td>[0.0, 0.0, 0.0, 0.0, 0.0, 0.0, 0.0, 0.0, 0.0, ...</td>\n",
       "      <td>1221602400.0</td>\n",
       "      <td>1454972400.0</td>\n",
       "      <td>...</td>\n",
       "      <td>0</td>\n",
       "      <td>2</td>\n",
       "      <td>1257</td>\n",
       "      <td>14</td>\n",
       "      <td>3</td>\n",
       "      <td>186</td>\n",
       "      <td>1470</td>\n",
       "      <td>14</td>\n",
       "      <td>0.0</td>\n",
       "      <td>1</td>\n",
       "    </tr>\n",
       "    <tr>\n",
       "      <th>1427</th>\n",
       "      <td>M4_48</td>\n",
       "      <td>194</td>\n",
       "      <td>16</td>\n",
       "      <td>[0.0, 0.0, 1.0]</td>\n",
       "      <td>[0.0, 0.0, 0.0, 0.0, 0.0, 0.0, 1.0, 0.0, 0.0, ...</td>\n",
       "      <td>970.000000</td>\n",
       "      <td>[0.0, 0.0, 0.0, 0.0, 0.0, 0.0, 0.0, 0.0, 0.0, ...</td>\n",
       "      <td>[0.0, 0.0, 0.0, 0.0, 0.0, 0.0, 0.0, 0.0, 0.0, ...</td>\n",
       "      <td>1221602400.0</td>\n",
       "      <td>1454972400.0</td>\n",
       "      <td>...</td>\n",
       "      <td>0</td>\n",
       "      <td>2</td>\n",
       "      <td>1257</td>\n",
       "      <td>14</td>\n",
       "      <td>3</td>\n",
       "      <td>186</td>\n",
       "      <td>1470</td>\n",
       "      <td>14</td>\n",
       "      <td>0.0</td>\n",
       "      <td>1</td>\n",
       "    </tr>\n",
       "    <tr>\n",
       "      <th>1428</th>\n",
       "      <td>B0_162</td>\n",
       "      <td>52</td>\n",
       "      <td>10</td>\n",
       "      <td>[0.0, 0.0, 1.0]</td>\n",
       "      <td>[0.0, 0.0, 0.0, 0.0, 0.0, 0.0, 1.0, 0.0, 0.0, ...</td>\n",
       "      <td>8904.000000</td>\n",
       "      <td>[0.0, 0.0, 0.0, 0.0, 0.0, 0.0, 0.0, 0.0, 0.0, ...</td>\n",
       "      <td>[0.0, 0.0, 0.0, 0.0, 0.0, 0.0, 0.0, 0.0, 0.0, ...</td>\n",
       "      <td>919033200.0</td>\n",
       "      <td>1436911200.0</td>\n",
       "      <td>...</td>\n",
       "      <td>2</td>\n",
       "      <td>6</td>\n",
       "      <td>1237</td>\n",
       "      <td>13</td>\n",
       "      <td>13</td>\n",
       "      <td>3524</td>\n",
       "      <td>6945</td>\n",
       "      <td>13</td>\n",
       "      <td>4.0</td>\n",
       "      <td>0</td>\n",
       "    </tr>\n",
       "    <tr>\n",
       "      <th>1429</th>\n",
       "      <td>B0_1152</td>\n",
       "      <td>52</td>\n",
       "      <td>10</td>\n",
       "      <td>[1.0, 0.0, 0.0]</td>\n",
       "      <td>[0.0, 0.0, 0.0, 0.0, 0.0, 0.0, 0.0, 0.0, 0.0, ...</td>\n",
       "      <td>5305.000000</td>\n",
       "      <td>[0.0, 0.0, 0.0, 0.0, 0.0, 0.0, 0.0, 0.0, 0.0, ...</td>\n",
       "      <td>[0.0, 0.0, 0.0, 0.0, 0.0, 0.0, 0.0, 0.0, 0.0, ...</td>\n",
       "      <td>883868400.0</td>\n",
       "      <td>1473631200.0</td>\n",
       "      <td>...</td>\n",
       "      <td>2</td>\n",
       "      <td>2</td>\n",
       "      <td>1237</td>\n",
       "      <td>13</td>\n",
       "      <td>13</td>\n",
       "      <td>3524</td>\n",
       "      <td>1436</td>\n",
       "      <td>13</td>\n",
       "      <td>0.0</td>\n",
       "      <td>0</td>\n",
       "    </tr>\n",
       "    <tr>\n",
       "      <th>1430</th>\n",
       "      <td>B0_676</td>\n",
       "      <td>52</td>\n",
       "      <td>10</td>\n",
       "      <td>[0.0, 0.0, 1.0]</td>\n",
       "      <td>[0.0, 0.0, 0.0, 0.0, 0.0, 0.0, 0.0, 0.0, 0.0, ...</td>\n",
       "      <td>24435.000000</td>\n",
       "      <td>[0.0, 0.0, 0.0, 0.0, 0.0, 0.0, 0.0, 0.0, 0.0, ...</td>\n",
       "      <td>[0.0, 0.0, 0.0, 0.0, 0.0, 0.0, 0.0, 0.0, 0.0, ...</td>\n",
       "      <td>1226617200.0</td>\n",
       "      <td>1384902000.0</td>\n",
       "      <td>...</td>\n",
       "      <td>6</td>\n",
       "      <td>11</td>\n",
       "      <td>2314</td>\n",
       "      <td>25</td>\n",
       "      <td>28</td>\n",
       "      <td>3039</td>\n",
       "      <td>2776</td>\n",
       "      <td>25</td>\n",
       "      <td>6.0</td>\n",
       "      <td>0</td>\n",
       "    </tr>\n",
       "  </tbody>\n",
       "</table>\n",
       "<p>1431 rows × 21 columns</p>\n",
       "</div>"
      ],
      "text/plain": [
       "          URL  URL_LENGTH  NUMBER_SPECIAL_CHARACTERS          CHARSET  \\\n",
       "0     B0_2314          16                          6  [0.0, 0.0, 1.0]   \n",
       "1      B0_911          16                          6  [0.0, 1.0, 0.0]   \n",
       "2      B0_113          17                          6  [1.0, 0.0, 0.0]   \n",
       "3      B0_403          17                          6  [0.0, 0.0, 1.0]   \n",
       "4     B0_2064          18                          7  [0.0, 0.0, 1.0]   \n",
       "...       ...         ...                        ...              ...   \n",
       "1426    M4_45         194                         17  [0.0, 0.0, 1.0]   \n",
       "1427    M4_48         194                         16  [0.0, 0.0, 1.0]   \n",
       "1428   B0_162          52                         10  [0.0, 0.0, 1.0]   \n",
       "1429  B0_1152          52                         10  [1.0, 0.0, 0.0]   \n",
       "1430   B0_676          52                         10  [0.0, 0.0, 1.0]   \n",
       "\n",
       "                                                 SERVER  CONTENT_LENGTH  \\\n",
       "0     [0.0, 0.0, 0.0, 0.0, 0.0, 0.0, 1.0, 0.0, 0.0, ...    15087.000000   \n",
       "1     [0.0, 0.0, 0.0, 0.0, 0.0, 0.0, 0.0, 0.0, 0.0, ...      324.000000   \n",
       "2     [0.0, 0.0, 0.0, 0.0, 0.0, 0.0, 0.0, 0.0, 0.0, ...      162.000000   \n",
       "3     [0.0, 0.0, 0.0, 0.0, 0.0, 0.0, 1.0, 0.0, 0.0, ...     5305.320635   \n",
       "4     [0.0, 0.0, 0.0, 0.0, 0.0, 0.0, 0.0, 0.0, 0.0, ...     5305.000000   \n",
       "...                                                 ...             ...   \n",
       "1426  [0.0, 0.0, 0.0, 0.0, 0.0, 0.0, 1.0, 0.0, 0.0, ...      970.000000   \n",
       "1427  [0.0, 0.0, 0.0, 0.0, 0.0, 0.0, 1.0, 0.0, 0.0, ...      970.000000   \n",
       "1428  [0.0, 0.0, 0.0, 0.0, 0.0, 0.0, 1.0, 0.0, 0.0, ...     8904.000000   \n",
       "1429  [0.0, 0.0, 0.0, 0.0, 0.0, 0.0, 0.0, 0.0, 0.0, ...     5305.000000   \n",
       "1430  [0.0, 0.0, 0.0, 0.0, 0.0, 0.0, 0.0, 0.0, 0.0, ...    24435.000000   \n",
       "\n",
       "                                          WHOIS_COUNTRY  \\\n",
       "0     [0.0, 0.0, 0.0, 0.0, 0.0, 0.0, 0.0, 0.0, 0.0, ...   \n",
       "1     [0.0, 0.0, 0.0, 0.0, 0.0, 0.0, 0.0, 0.0, 0.0, ...   \n",
       "2     [0.0, 0.0, 0.0, 0.0, 0.0, 0.0, 0.0, 0.0, 0.0, ...   \n",
       "3     [0.0, 0.0, 0.0, 0.0, 0.0, 0.0, 0.0, 0.0, 0.0, ...   \n",
       "4     [0.0, 0.0, 0.0, 0.0, 0.0, 0.0, 0.0, 0.0, 0.0, ...   \n",
       "...                                                 ...   \n",
       "1426  [0.0, 0.0, 0.0, 0.0, 0.0, 0.0, 0.0, 0.0, 0.0, ...   \n",
       "1427  [0.0, 0.0, 0.0, 0.0, 0.0, 0.0, 0.0, 0.0, 0.0, ...   \n",
       "1428  [0.0, 0.0, 0.0, 0.0, 0.0, 0.0, 0.0, 0.0, 0.0, ...   \n",
       "1429  [0.0, 0.0, 0.0, 0.0, 0.0, 0.0, 0.0, 0.0, 0.0, ...   \n",
       "1430  [0.0, 0.0, 0.0, 0.0, 0.0, 0.0, 0.0, 0.0, 0.0, ...   \n",
       "\n",
       "                                         WHOIS_STATEPRO WHOIS_REGDATE  \\\n",
       "0     [0.0, 0.0, 0.0, 0.0, 0.0, 0.0, 0.0, 0.0, 0.0, ...   958191896.0   \n",
       "1     [0.0, 0.0, 0.0, 0.0, 0.0, 0.0, 0.0, 0.0, 0.0, ...   958191896.0   \n",
       "2     [0.0, 0.0, 0.0, 0.0, 1.0, 0.0, 0.0, 0.0, 0.0, ...   868500000.0   \n",
       "3     [0.0, 0.0, 0.0, 0.0, 0.0, 0.0, 0.0, 0.0, 0.0, ...   849740400.0   \n",
       "4     [0.0, 0.0, 0.0, 0.0, 0.0, 0.0, 0.0, 0.0, 0.0, ...  1457443800.0   \n",
       "...                                                 ...           ...   \n",
       "1426  [0.0, 0.0, 0.0, 0.0, 0.0, 0.0, 0.0, 0.0, 0.0, ...  1221602400.0   \n",
       "1427  [0.0, 0.0, 0.0, 0.0, 0.0, 0.0, 0.0, 0.0, 0.0, ...  1221602400.0   \n",
       "1428  [0.0, 0.0, 0.0, 0.0, 0.0, 0.0, 0.0, 0.0, 0.0, ...   919033200.0   \n",
       "1429  [0.0, 0.0, 0.0, 0.0, 0.0, 0.0, 0.0, 0.0, 0.0, ...   883868400.0   \n",
       "1430  [0.0, 0.0, 0.0, 0.0, 0.0, 0.0, 0.0, 0.0, 0.0, ...  1226617200.0   \n",
       "\n",
       "     WHOIS_UPDATED_DATE  ...  DIST_REMOTE_TCP_PORT  REMOTE_IPS  APP_BYTES  \\\n",
       "0          1392814909.0  ...                     7           4       1230   \n",
       "1          1392814909.0  ...                     2           2       1237   \n",
       "2          1386546300.0  ...                     2           3       3812   \n",
       "3          1509750000.0  ...                     2           5       4278   \n",
       "4          1457577900.0  ...                     6           9        894   \n",
       "...                 ...  ...                   ...         ...        ...   \n",
       "1426       1454972400.0  ...                     0           2       1257   \n",
       "1427       1454972400.0  ...                     0           2       1257   \n",
       "1428       1436911200.0  ...                     2           6       1237   \n",
       "1429       1473631200.0  ...                     2           2       1237   \n",
       "1430       1384902000.0  ...                     6          11       2314   \n",
       "\n",
       "      SOURCE_APP_PACKETS  REMOTE_APP_PACKETS  SOURCE_APP_BYTES  \\\n",
       "0                     17                  19              1265   \n",
       "1                     13                  13              3524   \n",
       "2                     39                  37             18784   \n",
       "3                     61                  62              3524   \n",
       "4                     11                  13               838   \n",
       "...                  ...                 ...               ...   \n",
       "1426                  14                   3               186   \n",
       "1427                  14                   3               186   \n",
       "1428                  13                  13              3524   \n",
       "1429                  13                  13              3524   \n",
       "1430                  25                  28              3039   \n",
       "\n",
       "      REMOTE_APP_BYTES  APP_PACKETS  DNS_QUERY_TIMES  Type  \n",
       "0                 1230           17              0.0     0  \n",
       "1                 1436           13              0.0     0  \n",
       "2                 4380           39              8.0     0  \n",
       "3                 4586           61              4.0     0  \n",
       "4                  894           11              0.0     0  \n",
       "...                ...          ...              ...   ...  \n",
       "1426              1470           14              0.0     1  \n",
       "1427              1470           14              0.0     1  \n",
       "1428              6945           13              4.0     0  \n",
       "1429              1436           13              0.0     0  \n",
       "1430              2776           25              6.0     0  \n",
       "\n",
       "[1431 rows x 21 columns]"
      ]
     },
     "execution_count": 125,
     "metadata": {},
     "output_type": "execute_result"
    }
   ],
   "source": [
    "new_data"
   ]
  },
  {
   "cell_type": "code",
   "execution_count": 126,
   "metadata": {},
   "outputs": [],
   "source": [
    "data = new_data.copy()"
   ]
  },
  {
   "cell_type": "markdown",
   "metadata": {},
   "source": [
    "## Selecting useful columns"
   ]
  },
  {
   "cell_type": "markdown",
   "metadata": {},
   "source": [
    "As we have seen above, some columns should be deleted as they are not very useful to predict the type of the website."
   ]
  },
  {
   "cell_type": "code",
   "execution_count": 127,
   "metadata": {},
   "outputs": [
    {
     "data": {
      "text/plain": [
       "Index(['URL', 'URL_LENGTH', 'NUMBER_SPECIAL_CHARACTERS', 'CHARSET', 'SERVER',\n",
       "       'CONTENT_LENGTH', 'WHOIS_COUNTRY', 'WHOIS_STATEPRO', 'WHOIS_REGDATE',\n",
       "       'WHOIS_UPDATED_DATE', 'TCP_CONVERSATION_EXCHANGE',\n",
       "       'DIST_REMOTE_TCP_PORT', 'REMOTE_IPS', 'APP_BYTES', 'SOURCE_APP_PACKETS',\n",
       "       'REMOTE_APP_PACKETS', 'SOURCE_APP_BYTES', 'REMOTE_APP_BYTES',\n",
       "       'APP_PACKETS', 'DNS_QUERY_TIMES', 'Type'],\n",
       "      dtype='object')"
      ]
     },
     "execution_count": 127,
     "metadata": {},
     "output_type": "execute_result"
    }
   ],
   "source": [
    "data.columns"
   ]
  },
  {
   "cell_type": "code",
   "execution_count": 128,
   "metadata": {},
   "outputs": [],
   "source": [
    "col2delete = ['URL', 'CHARSET', 'TCP_CONVERSATION_EXCHANGE', 'SOURCE_APP_PACKETS', 'REMOTE_APP_BYTES', 'APP_PACKETS']"
   ]
  },
  {
   "cell_type": "code",
   "execution_count": 129,
   "metadata": {
    "scrolled": true
   },
   "outputs": [],
   "source": [
    "final_data = data.copy()"
   ]
  },
  {
   "cell_type": "code",
   "execution_count": 130,
   "metadata": {},
   "outputs": [],
   "source": [
    "data = final_data.drop(columns=col2delete).copy()"
   ]
  },
  {
   "cell_type": "markdown",
   "metadata": {},
   "source": [
    "# II - Predictive models"
   ]
  },
  {
   "cell_type": "code",
   "execution_count": 131,
   "metadata": {
    "scrolled": true
   },
   "outputs": [
    {
     "data": {
      "text/html": [
       "<div>\n",
       "<style scoped>\n",
       "    .dataframe tbody tr th:only-of-type {\n",
       "        vertical-align: middle;\n",
       "    }\n",
       "\n",
       "    .dataframe tbody tr th {\n",
       "        vertical-align: top;\n",
       "    }\n",
       "\n",
       "    .dataframe thead th {\n",
       "        text-align: right;\n",
       "    }\n",
       "</style>\n",
       "<table border=\"1\" class=\"dataframe\">\n",
       "  <thead>\n",
       "    <tr style=\"text-align: right;\">\n",
       "      <th></th>\n",
       "      <th>URL_LENGTH</th>\n",
       "      <th>NUMBER_SPECIAL_CHARACTERS</th>\n",
       "      <th>SERVER</th>\n",
       "      <th>CONTENT_LENGTH</th>\n",
       "      <th>WHOIS_COUNTRY</th>\n",
       "      <th>WHOIS_STATEPRO</th>\n",
       "      <th>WHOIS_REGDATE</th>\n",
       "      <th>WHOIS_UPDATED_DATE</th>\n",
       "      <th>DIST_REMOTE_TCP_PORT</th>\n",
       "      <th>REMOTE_IPS</th>\n",
       "      <th>APP_BYTES</th>\n",
       "      <th>REMOTE_APP_PACKETS</th>\n",
       "      <th>SOURCE_APP_BYTES</th>\n",
       "      <th>DNS_QUERY_TIMES</th>\n",
       "      <th>Type</th>\n",
       "    </tr>\n",
       "  </thead>\n",
       "  <tbody>\n",
       "    <tr>\n",
       "      <th>0</th>\n",
       "      <td>16</td>\n",
       "      <td>6</td>\n",
       "      <td>[0.0, 0.0, 0.0, 0.0, 0.0, 0.0, 1.0, 0.0, 0.0, ...</td>\n",
       "      <td>15087.000000</td>\n",
       "      <td>[0.0, 0.0, 0.0, 0.0, 0.0, 0.0, 0.0, 0.0, 0.0, ...</td>\n",
       "      <td>[0.0, 0.0, 0.0, 0.0, 0.0, 0.0, 0.0, 0.0, 0.0, ...</td>\n",
       "      <td>958191896.0</td>\n",
       "      <td>1392814909.0</td>\n",
       "      <td>7</td>\n",
       "      <td>4</td>\n",
       "      <td>1230</td>\n",
       "      <td>19</td>\n",
       "      <td>1265</td>\n",
       "      <td>0.0</td>\n",
       "      <td>0</td>\n",
       "    </tr>\n",
       "    <tr>\n",
       "      <th>1</th>\n",
       "      <td>16</td>\n",
       "      <td>6</td>\n",
       "      <td>[0.0, 0.0, 0.0, 0.0, 0.0, 0.0, 0.0, 0.0, 0.0, ...</td>\n",
       "      <td>324.000000</td>\n",
       "      <td>[0.0, 0.0, 0.0, 0.0, 0.0, 0.0, 0.0, 0.0, 0.0, ...</td>\n",
       "      <td>[0.0, 0.0, 0.0, 0.0, 0.0, 0.0, 0.0, 0.0, 0.0, ...</td>\n",
       "      <td>958191896.0</td>\n",
       "      <td>1392814909.0</td>\n",
       "      <td>2</td>\n",
       "      <td>2</td>\n",
       "      <td>1237</td>\n",
       "      <td>13</td>\n",
       "      <td>3524</td>\n",
       "      <td>0.0</td>\n",
       "      <td>0</td>\n",
       "    </tr>\n",
       "    <tr>\n",
       "      <th>2</th>\n",
       "      <td>17</td>\n",
       "      <td>6</td>\n",
       "      <td>[0.0, 0.0, 0.0, 0.0, 0.0, 0.0, 0.0, 0.0, 0.0, ...</td>\n",
       "      <td>162.000000</td>\n",
       "      <td>[0.0, 0.0, 0.0, 0.0, 0.0, 0.0, 0.0, 0.0, 0.0, ...</td>\n",
       "      <td>[0.0, 0.0, 0.0, 0.0, 1.0, 0.0, 0.0, 0.0, 0.0, ...</td>\n",
       "      <td>868500000.0</td>\n",
       "      <td>1386546300.0</td>\n",
       "      <td>2</td>\n",
       "      <td>3</td>\n",
       "      <td>3812</td>\n",
       "      <td>37</td>\n",
       "      <td>18784</td>\n",
       "      <td>8.0</td>\n",
       "      <td>0</td>\n",
       "    </tr>\n",
       "    <tr>\n",
       "      <th>3</th>\n",
       "      <td>17</td>\n",
       "      <td>6</td>\n",
       "      <td>[0.0, 0.0, 0.0, 0.0, 0.0, 0.0, 1.0, 0.0, 0.0, ...</td>\n",
       "      <td>5305.320635</td>\n",
       "      <td>[0.0, 0.0, 0.0, 0.0, 0.0, 0.0, 0.0, 0.0, 0.0, ...</td>\n",
       "      <td>[0.0, 0.0, 0.0, 0.0, 0.0, 0.0, 0.0, 0.0, 0.0, ...</td>\n",
       "      <td>849740400.0</td>\n",
       "      <td>1509750000.0</td>\n",
       "      <td>2</td>\n",
       "      <td>5</td>\n",
       "      <td>4278</td>\n",
       "      <td>62</td>\n",
       "      <td>3524</td>\n",
       "      <td>4.0</td>\n",
       "      <td>0</td>\n",
       "    </tr>\n",
       "    <tr>\n",
       "      <th>4</th>\n",
       "      <td>18</td>\n",
       "      <td>7</td>\n",
       "      <td>[0.0, 0.0, 0.0, 0.0, 0.0, 0.0, 0.0, 0.0, 0.0, ...</td>\n",
       "      <td>5305.000000</td>\n",
       "      <td>[0.0, 0.0, 0.0, 0.0, 0.0, 0.0, 0.0, 0.0, 0.0, ...</td>\n",
       "      <td>[0.0, 0.0, 0.0, 0.0, 0.0, 0.0, 0.0, 0.0, 0.0, ...</td>\n",
       "      <td>1457443800.0</td>\n",
       "      <td>1457577900.0</td>\n",
       "      <td>6</td>\n",
       "      <td>9</td>\n",
       "      <td>894</td>\n",
       "      <td>13</td>\n",
       "      <td>838</td>\n",
       "      <td>0.0</td>\n",
       "      <td>0</td>\n",
       "    </tr>\n",
       "    <tr>\n",
       "      <th>...</th>\n",
       "      <td>...</td>\n",
       "      <td>...</td>\n",
       "      <td>...</td>\n",
       "      <td>...</td>\n",
       "      <td>...</td>\n",
       "      <td>...</td>\n",
       "      <td>...</td>\n",
       "      <td>...</td>\n",
       "      <td>...</td>\n",
       "      <td>...</td>\n",
       "      <td>...</td>\n",
       "      <td>...</td>\n",
       "      <td>...</td>\n",
       "      <td>...</td>\n",
       "      <td>...</td>\n",
       "    </tr>\n",
       "    <tr>\n",
       "      <th>1426</th>\n",
       "      <td>194</td>\n",
       "      <td>17</td>\n",
       "      <td>[0.0, 0.0, 0.0, 0.0, 0.0, 0.0, 1.0, 0.0, 0.0, ...</td>\n",
       "      <td>970.000000</td>\n",
       "      <td>[0.0, 0.0, 0.0, 0.0, 0.0, 0.0, 0.0, 0.0, 0.0, ...</td>\n",
       "      <td>[0.0, 0.0, 0.0, 0.0, 0.0, 0.0, 0.0, 0.0, 0.0, ...</td>\n",
       "      <td>1221602400.0</td>\n",
       "      <td>1454972400.0</td>\n",
       "      <td>0</td>\n",
       "      <td>2</td>\n",
       "      <td>1257</td>\n",
       "      <td>3</td>\n",
       "      <td>186</td>\n",
       "      <td>0.0</td>\n",
       "      <td>1</td>\n",
       "    </tr>\n",
       "    <tr>\n",
       "      <th>1427</th>\n",
       "      <td>194</td>\n",
       "      <td>16</td>\n",
       "      <td>[0.0, 0.0, 0.0, 0.0, 0.0, 0.0, 1.0, 0.0, 0.0, ...</td>\n",
       "      <td>970.000000</td>\n",
       "      <td>[0.0, 0.0, 0.0, 0.0, 0.0, 0.0, 0.0, 0.0, 0.0, ...</td>\n",
       "      <td>[0.0, 0.0, 0.0, 0.0, 0.0, 0.0, 0.0, 0.0, 0.0, ...</td>\n",
       "      <td>1221602400.0</td>\n",
       "      <td>1454972400.0</td>\n",
       "      <td>0</td>\n",
       "      <td>2</td>\n",
       "      <td>1257</td>\n",
       "      <td>3</td>\n",
       "      <td>186</td>\n",
       "      <td>0.0</td>\n",
       "      <td>1</td>\n",
       "    </tr>\n",
       "    <tr>\n",
       "      <th>1428</th>\n",
       "      <td>52</td>\n",
       "      <td>10</td>\n",
       "      <td>[0.0, 0.0, 0.0, 0.0, 0.0, 0.0, 1.0, 0.0, 0.0, ...</td>\n",
       "      <td>8904.000000</td>\n",
       "      <td>[0.0, 0.0, 0.0, 0.0, 0.0, 0.0, 0.0, 0.0, 0.0, ...</td>\n",
       "      <td>[0.0, 0.0, 0.0, 0.0, 0.0, 0.0, 0.0, 0.0, 0.0, ...</td>\n",
       "      <td>919033200.0</td>\n",
       "      <td>1436911200.0</td>\n",
       "      <td>2</td>\n",
       "      <td>6</td>\n",
       "      <td>1237</td>\n",
       "      <td>13</td>\n",
       "      <td>3524</td>\n",
       "      <td>4.0</td>\n",
       "      <td>0</td>\n",
       "    </tr>\n",
       "    <tr>\n",
       "      <th>1429</th>\n",
       "      <td>52</td>\n",
       "      <td>10</td>\n",
       "      <td>[0.0, 0.0, 0.0, 0.0, 0.0, 0.0, 0.0, 0.0, 0.0, ...</td>\n",
       "      <td>5305.000000</td>\n",
       "      <td>[0.0, 0.0, 0.0, 0.0, 0.0, 0.0, 0.0, 0.0, 0.0, ...</td>\n",
       "      <td>[0.0, 0.0, 0.0, 0.0, 0.0, 0.0, 0.0, 0.0, 0.0, ...</td>\n",
       "      <td>883868400.0</td>\n",
       "      <td>1473631200.0</td>\n",
       "      <td>2</td>\n",
       "      <td>2</td>\n",
       "      <td>1237</td>\n",
       "      <td>13</td>\n",
       "      <td>3524</td>\n",
       "      <td>0.0</td>\n",
       "      <td>0</td>\n",
       "    </tr>\n",
       "    <tr>\n",
       "      <th>1430</th>\n",
       "      <td>52</td>\n",
       "      <td>10</td>\n",
       "      <td>[0.0, 0.0, 0.0, 0.0, 0.0, 0.0, 0.0, 0.0, 0.0, ...</td>\n",
       "      <td>24435.000000</td>\n",
       "      <td>[0.0, 0.0, 0.0, 0.0, 0.0, 0.0, 0.0, 0.0, 0.0, ...</td>\n",
       "      <td>[0.0, 0.0, 0.0, 0.0, 0.0, 0.0, 0.0, 0.0, 0.0, ...</td>\n",
       "      <td>1226617200.0</td>\n",
       "      <td>1384902000.0</td>\n",
       "      <td>6</td>\n",
       "      <td>11</td>\n",
       "      <td>2314</td>\n",
       "      <td>28</td>\n",
       "      <td>3039</td>\n",
       "      <td>6.0</td>\n",
       "      <td>0</td>\n",
       "    </tr>\n",
       "  </tbody>\n",
       "</table>\n",
       "<p>1431 rows × 15 columns</p>\n",
       "</div>"
      ],
      "text/plain": [
       "      URL_LENGTH  NUMBER_SPECIAL_CHARACTERS  \\\n",
       "0             16                          6   \n",
       "1             16                          6   \n",
       "2             17                          6   \n",
       "3             17                          6   \n",
       "4             18                          7   \n",
       "...          ...                        ...   \n",
       "1426         194                         17   \n",
       "1427         194                         16   \n",
       "1428          52                         10   \n",
       "1429          52                         10   \n",
       "1430          52                         10   \n",
       "\n",
       "                                                 SERVER  CONTENT_LENGTH  \\\n",
       "0     [0.0, 0.0, 0.0, 0.0, 0.0, 0.0, 1.0, 0.0, 0.0, ...    15087.000000   \n",
       "1     [0.0, 0.0, 0.0, 0.0, 0.0, 0.0, 0.0, 0.0, 0.0, ...      324.000000   \n",
       "2     [0.0, 0.0, 0.0, 0.0, 0.0, 0.0, 0.0, 0.0, 0.0, ...      162.000000   \n",
       "3     [0.0, 0.0, 0.0, 0.0, 0.0, 0.0, 1.0, 0.0, 0.0, ...     5305.320635   \n",
       "4     [0.0, 0.0, 0.0, 0.0, 0.0, 0.0, 0.0, 0.0, 0.0, ...     5305.000000   \n",
       "...                                                 ...             ...   \n",
       "1426  [0.0, 0.0, 0.0, 0.0, 0.0, 0.0, 1.0, 0.0, 0.0, ...      970.000000   \n",
       "1427  [0.0, 0.0, 0.0, 0.0, 0.0, 0.0, 1.0, 0.0, 0.0, ...      970.000000   \n",
       "1428  [0.0, 0.0, 0.0, 0.0, 0.0, 0.0, 1.0, 0.0, 0.0, ...     8904.000000   \n",
       "1429  [0.0, 0.0, 0.0, 0.0, 0.0, 0.0, 0.0, 0.0, 0.0, ...     5305.000000   \n",
       "1430  [0.0, 0.0, 0.0, 0.0, 0.0, 0.0, 0.0, 0.0, 0.0, ...    24435.000000   \n",
       "\n",
       "                                          WHOIS_COUNTRY  \\\n",
       "0     [0.0, 0.0, 0.0, 0.0, 0.0, 0.0, 0.0, 0.0, 0.0, ...   \n",
       "1     [0.0, 0.0, 0.0, 0.0, 0.0, 0.0, 0.0, 0.0, 0.0, ...   \n",
       "2     [0.0, 0.0, 0.0, 0.0, 0.0, 0.0, 0.0, 0.0, 0.0, ...   \n",
       "3     [0.0, 0.0, 0.0, 0.0, 0.0, 0.0, 0.0, 0.0, 0.0, ...   \n",
       "4     [0.0, 0.0, 0.0, 0.0, 0.0, 0.0, 0.0, 0.0, 0.0, ...   \n",
       "...                                                 ...   \n",
       "1426  [0.0, 0.0, 0.0, 0.0, 0.0, 0.0, 0.0, 0.0, 0.0, ...   \n",
       "1427  [0.0, 0.0, 0.0, 0.0, 0.0, 0.0, 0.0, 0.0, 0.0, ...   \n",
       "1428  [0.0, 0.0, 0.0, 0.0, 0.0, 0.0, 0.0, 0.0, 0.0, ...   \n",
       "1429  [0.0, 0.0, 0.0, 0.0, 0.0, 0.0, 0.0, 0.0, 0.0, ...   \n",
       "1430  [0.0, 0.0, 0.0, 0.0, 0.0, 0.0, 0.0, 0.0, 0.0, ...   \n",
       "\n",
       "                                         WHOIS_STATEPRO WHOIS_REGDATE  \\\n",
       "0     [0.0, 0.0, 0.0, 0.0, 0.0, 0.0, 0.0, 0.0, 0.0, ...   958191896.0   \n",
       "1     [0.0, 0.0, 0.0, 0.0, 0.0, 0.0, 0.0, 0.0, 0.0, ...   958191896.0   \n",
       "2     [0.0, 0.0, 0.0, 0.0, 1.0, 0.0, 0.0, 0.0, 0.0, ...   868500000.0   \n",
       "3     [0.0, 0.0, 0.0, 0.0, 0.0, 0.0, 0.0, 0.0, 0.0, ...   849740400.0   \n",
       "4     [0.0, 0.0, 0.0, 0.0, 0.0, 0.0, 0.0, 0.0, 0.0, ...  1457443800.0   \n",
       "...                                                 ...           ...   \n",
       "1426  [0.0, 0.0, 0.0, 0.0, 0.0, 0.0, 0.0, 0.0, 0.0, ...  1221602400.0   \n",
       "1427  [0.0, 0.0, 0.0, 0.0, 0.0, 0.0, 0.0, 0.0, 0.0, ...  1221602400.0   \n",
       "1428  [0.0, 0.0, 0.0, 0.0, 0.0, 0.0, 0.0, 0.0, 0.0, ...   919033200.0   \n",
       "1429  [0.0, 0.0, 0.0, 0.0, 0.0, 0.0, 0.0, 0.0, 0.0, ...   883868400.0   \n",
       "1430  [0.0, 0.0, 0.0, 0.0, 0.0, 0.0, 0.0, 0.0, 0.0, ...  1226617200.0   \n",
       "\n",
       "     WHOIS_UPDATED_DATE  DIST_REMOTE_TCP_PORT  REMOTE_IPS  APP_BYTES  \\\n",
       "0          1392814909.0                     7           4       1230   \n",
       "1          1392814909.0                     2           2       1237   \n",
       "2          1386546300.0                     2           3       3812   \n",
       "3          1509750000.0                     2           5       4278   \n",
       "4          1457577900.0                     6           9        894   \n",
       "...                 ...                   ...         ...        ...   \n",
       "1426       1454972400.0                     0           2       1257   \n",
       "1427       1454972400.0                     0           2       1257   \n",
       "1428       1436911200.0                     2           6       1237   \n",
       "1429       1473631200.0                     2           2       1237   \n",
       "1430       1384902000.0                     6          11       2314   \n",
       "\n",
       "      REMOTE_APP_PACKETS  SOURCE_APP_BYTES  DNS_QUERY_TIMES  Type  \n",
       "0                     19              1265              0.0     0  \n",
       "1                     13              3524              0.0     0  \n",
       "2                     37             18784              8.0     0  \n",
       "3                     62              3524              4.0     0  \n",
       "4                     13               838              0.0     0  \n",
       "...                  ...               ...              ...   ...  \n",
       "1426                   3               186              0.0     1  \n",
       "1427                   3               186              0.0     1  \n",
       "1428                  13              3524              4.0     0  \n",
       "1429                  13              3524              0.0     0  \n",
       "1430                  28              3039              6.0     0  \n",
       "\n",
       "[1431 rows x 15 columns]"
      ]
     },
     "execution_count": 131,
     "metadata": {},
     "output_type": "execute_result"
    }
   ],
   "source": [
    "data"
   ]
  },
  {
   "cell_type": "code",
   "execution_count": 132,
   "metadata": {},
   "outputs": [],
   "source": [
    "X = data.copy().drop(columns=[\"Type\"]).values.tolist()\n",
    "y = data.copy()[\"Type\"]"
   ]
  },
  {
   "cell_type": "markdown",
   "metadata": {},
   "source": [
    "We need to put each row into a single list to input it to a model."
   ]
  },
  {
   "cell_type": "code",
   "execution_count": 133,
   "metadata": {},
   "outputs": [],
   "source": [
    "new_X = []\n",
    "for row in X:\n",
    "    new_row = []\n",
    "    for el in row:\n",
    "        if type(el) == type(np.array([])) :\n",
    "            for subel in el:\n",
    "                new_row.append(subel)\n",
    "        else:\n",
    "            new_row.append(el)\n",
    "    new_X.append(np.array(new_row))\n",
    "    \n",
    "new_X = np.array(new_X)"
   ]
  },
  {
   "cell_type": "markdown",
   "metadata": {},
   "source": [
    "Let's create a function that return the test accuracy over n tries using cross-validation."
   ]
  },
  {
   "cell_type": "code",
   "execution_count": 134,
   "metadata": {},
   "outputs": [],
   "source": [
    "from sklearn.model_selection import train_test_split\n",
    "def n_tries(model, X, y, n):\n",
    "    n_accuracies = 0\n",
    "    for i in range(n):\n",
    "        X_train, X_test, y_train, y_test = train_test_split(X, y, test_size=0.33, shuffle=True)\n",
    "        model.fit(X_train, y_train)\n",
    "        n_accuracies += model.score(X_test, y_test)\n",
    "    return n_accuracies/n"
   ]
  },
  {
   "cell_type": "markdown",
   "metadata": {},
   "source": [
    "## A - Logistic Regression"
   ]
  },
  {
   "cell_type": "markdown",
   "metadata": {},
   "source": [
    "Let's start by the simplest model of classification : logistic regression."
   ]
  },
  {
   "cell_type": "code",
   "execution_count": 135,
   "metadata": {},
   "outputs": [],
   "source": [
    "from sklearn.linear_model import LogisticRegression\n",
    "\n",
    "LR = LogisticRegression(random_state=0)"
   ]
  },
  {
   "cell_type": "code",
   "execution_count": 136,
   "metadata": {},
   "outputs": [
    {
     "data": {
      "text/plain": [
       "0.8811416490486259"
      ]
     },
     "execution_count": 136,
     "metadata": {},
     "output_type": "execute_result"
    }
   ],
   "source": [
    "n_tries(LR, new_X, y, 100)"
   ]
  },
  {
   "cell_type": "markdown",
   "metadata": {},
   "source": [
    "## B - KNN Classification"
   ]
  },
  {
   "cell_type": "markdown",
   "metadata": {},
   "source": [
    "The clear seperation between malicious and benign websites makes our data nonlinear\n",
    "Hence, KNN is an easy and efficient algorithm to use, although it costs a lot of time and memory"
   ]
  },
  {
   "cell_type": "markdown",
   "metadata": {},
   "source": [
    "KNN chooses N neighbours, calculates the distance to each of them, takes the n nearest neighboor and classify\n",
    "the item at stake according to the most represented categories among these neighbours"
   ]
  },
  {
   "cell_type": "code",
   "execution_count": 137,
   "metadata": {},
   "outputs": [],
   "source": [
    "from sklearn.neighbors import KNeighborsClassifier\n"
   ]
  },
  {
   "cell_type": "code",
   "execution_count": 164,
   "metadata": {},
   "outputs": [
    {
     "data": {
      "text/plain": [
       "[<matplotlib.lines.Line2D at 0x7fc261245bb0>]"
      ]
     },
     "execution_count": 164,
     "metadata": {},
     "output_type": "execute_result"
    },
    {
     "data": {
      "image/png": "[encoded data removed]",
      "text/plain": [
       "<Figure size 432x288 with 1 Axes>"
      ]
     },
     "metadata": {
      "needs_background": "light"
     },
     "output_type": "display_data"
    }
   ],
   "source": [
    "lst = []\n",
    "acc = []\n",
    "for k in range(1,30):\n",
    "    KNN = KNeighborsClassifier(n_neighbors=k)\n",
    "    acc.append(n_tries(KNN, new_X, y, 10))\n",
    "    lst.append(k)\n",
    "    \n",
    "plt.plot(lst, acc)"
   ]
  },
  {
   "cell_type": "markdown",
   "metadata": {},
   "source": [
    "We get a great accuracy with k = 3."
   ]
  },
  {
   "cell_type": "code",
   "execution_count": 165,
   "metadata": {},
   "outputs": [
    {
     "data": {
      "text/plain": [
       "0.9395348837209303"
      ]
     },
     "execution_count": 165,
     "metadata": {},
     "output_type": "execute_result"
    }
   ],
   "source": [
    "KNN = KNeighborsClassifier(n_neighbors=3)\n",
    "n_tries(KNN, new_X, y, 10)"
   ]
  },
  {
   "cell_type": "markdown",
   "metadata": {},
   "source": [
    "## C - Linear Discriminant Analysis"
   ]
  },
  {
   "cell_type": "markdown",
   "metadata": {},
   "source": [
    "Malicious and Benign websites are well-separated with the columns we kept.\n",
    "Hence, as we have seen during our lecture, the parameter estimated for the logistic regression model are unstable.\n",
    "That's why we prefer using Linear discriminant analysis."
   ]
  },
  {
   "cell_type": "code",
   "execution_count": 174,
   "metadata": {},
   "outputs": [],
   "source": [
    "from sklearn.discriminant_analysis import LinearDiscriminantAnalysis\n",
    "\n",
    "LDA = LinearDiscriminantAnalysis()"
   ]
  },
  {
   "cell_type": "code",
   "execution_count": 175,
   "metadata": {},
   "outputs": [
    {
     "data": {
      "text/plain": [
       "0.9676532769556024"
      ]
     },
     "execution_count": 175,
     "metadata": {},
     "output_type": "execute_result"
    }
   ],
   "source": [
    "n_tries(LDA, new_X,y, 10)"
   ]
  },
  {
   "cell_type": "markdown",
   "metadata": {},
   "source": [
    "We get pretty good accuracy with Linear Discriminant Analysis. It is our best model so far, and compute faster than KNN !"
   ]
  },
  {
   "cell_type": "markdown",
   "metadata": {},
   "source": [
    "## D - Dense Neural Networks"
   ]
  },
  {
   "cell_type": "markdown",
   "metadata": {},
   "source": [
    "<img style=\"height:300px;\" src= \"https://miro.medium.com/max/1400/1*XPThP6QC5VkeG3VzI0FhIQ.png\">"
   ]
  },
  {
   "cell_type": "markdown",
   "metadata": {},
   "source": [
    "We can try to use Neural Networks to predict the type of a website. Neural networks are composed of layers of interconnected neurons that perform very simple linear combinations. Overall, this technique can make prediction over a huge number of data and is often used nowadays."
   ]
  },
  {
   "cell_type": "code",
   "execution_count": 139,
   "metadata": {},
   "outputs": [],
   "source": [
    "import matplotlib.pyplot as plt\n",
    "def show_acc(history):\n",
    "    acc = history.history['acc']\n",
    "    val_acc = history.history['val_acc']\n",
    "    loss = history.history['loss']\n",
    "    val_loss = history.history['val_loss']\n",
    "    print(\"Train accuracy :\", history.history['acc'][-1])\n",
    "    print(\"Test accuracy  :\", history.history['val_acc'][-1])\n",
    "    epochs = range(len(acc))\n",
    "\n",
    "    plt.plot(epochs, acc, 'b', label='Training acc')\n",
    "    plt.plot(epochs, val_acc, 'm', label='Testing acc')\n",
    "    plt.title('Training and testing accuracy')\n",
    "    plt.legend()\n",
    "\n",
    "    plt.figure()\n",
    "    \n",
    "    \n",
    "    \n",
    "    plt.plot(epochs, loss, 'b', label='Training loss')\n",
    "    plt.plot(epochs, val_loss, 'm', label='Testing loss')\n",
    "    plt.title('Training and test loss')\n",
    "    plt.legend()\n",
    "\n",
    "    plt.show()\n",
    "    \n",
    "    "
   ]
  },
  {
   "cell_type": "code",
   "execution_count": 140,
   "metadata": {},
   "outputs": [
    {
     "name": "stdout",
     "output_type": "stream",
     "text": [
      "Train accuracy : 0.8810020685195923\n",
      "Test accuracy  : 0.9048625826835632\n"
     ]
    },
    {
     "data": {
      "image/png": "[encoded data removed]",
      "text/plain": [
       "<Figure size 432x288 with 1 Axes>"
      ]
     },
     "metadata": {
      "needs_background": "light"
     },
     "output_type": "display_data"
    },
    {
     "data": {
      "image/png": "[encoded data removed]",
      "text/plain": [
       "<Figure size 432x288 with 1 Axes>"
      ]
     },
     "metadata": {
      "needs_background": "light"
     },
     "output_type": "display_data"
    }
   ],
   "source": [
    "from keras import layers\n",
    "from keras import models\n",
    "from keras import optimizers\n",
    "import tensorflow as tf\n",
    "\n",
    "train, test, train_labels, test_labels = train_test_split(new_X, to_categorical(y), test_size=0.33, shuffle=True)\n",
    "\n",
    "model = models.Sequential()\n",
    "model.add(layers.Flatten())\n",
    "\n",
    "model.add(layers.Dense(8,activation='relu'))\n",
    "model.add(layers.Dense(16,activation='relu'))\n",
    "model.add(layers.Dropout(.2)) # Regularisation by dropout to reduce overfitting\n",
    "    \n",
    "model.add(layers.Dense(32,activation='relu'))\n",
    "model.add(layers.Dense(2,activation='sigmoid'))\n",
    "    \n",
    "model.compile(loss='binary_crossentropy', optimizer='adam', metrics=['acc']) \n",
    "# binary_crossentropy is caracteristic to binary classifications\n",
    "\n",
    "    \n",
    "    \n",
    "# On entraîne le modèle sur les données précedemment prétraitées \n",
    "# et on teste les performances du modèle sur le batch de test. \n",
    "history = model.fit(train, train_labels, epochs = 40, \n",
    "                        validation_data=(test, test_labels), \n",
    "                        verbose=0, #On masque les progress bars\n",
    "                        )\n",
    "                        \n",
    "show_acc(history)"
   ]
  },
  {
   "cell_type": "markdown",
   "metadata": {},
   "source": [
    "As we can see, using neural networks is maybe not the best way to predict the type of the website here. Indeed, it takes a long time to train this type of model. Furthermore, the accuracy is not really outstanding. LDA did a better job on this."
   ]
  },
  {
   "cell_type": "markdown",
   "metadata": {},
   "source": [
    "### => We keep LDA as our model, it did the better job and compute in a little time compared to KNN or NN."
   ]
  },
  {
   "cell_type": "code",
   "execution_count": 189,
   "metadata": {},
   "outputs": [
    {
     "data": {
      "text/plain": [
       "LinearDiscriminantAnalysis()"
      ]
     },
     "execution_count": 189,
     "metadata": {},
     "output_type": "execute_result"
    }
   ],
   "source": [
    "from sklearn.discriminant_analysis import LinearDiscriminantAnalysis\n",
    "\n",
    "model = LinearDiscriminantAnalysis()\n",
    "model.fit(new_X, y)"
   ]
  },
  {
   "cell_type": "markdown",
   "metadata": {},
   "source": [
    "# III - Preprocessing the test set"
   ]
  },
  {
   "cell_type": "markdown",
   "metadata": {},
   "source": [
    "The test set is printed below"
   ]
  },
  {
   "cell_type": "code",
   "execution_count": 141,
   "metadata": {},
   "outputs": [
    {
     "data": {
      "text/html": [
       "<div>\n",
       "<style scoped>\n",
       "    .dataframe tbody tr th:only-of-type {\n",
       "        vertical-align: middle;\n",
       "    }\n",
       "\n",
       "    .dataframe tbody tr th {\n",
       "        vertical-align: top;\n",
       "    }\n",
       "\n",
       "    .dataframe thead th {\n",
       "        text-align: right;\n",
       "    }\n",
       "</style>\n",
       "<table border=\"1\" class=\"dataframe\">\n",
       "  <thead>\n",
       "    <tr style=\"text-align: right;\">\n",
       "      <th></th>\n",
       "      <th>URL</th>\n",
       "      <th>URL_LENGTH</th>\n",
       "      <th>NUMBER_SPECIAL_CHARACTERS</th>\n",
       "      <th>CHARSET</th>\n",
       "      <th>SERVER</th>\n",
       "      <th>CONTENT_LENGTH</th>\n",
       "      <th>WHOIS_COUNTRY</th>\n",
       "      <th>WHOIS_STATEPRO</th>\n",
       "      <th>WHOIS_REGDATE</th>\n",
       "      <th>WHOIS_UPDATED_DATE</th>\n",
       "      <th>...</th>\n",
       "      <th>DIST_REMOTE_TCP_PORT</th>\n",
       "      <th>REMOTE_IPS</th>\n",
       "      <th>APP_BYTES</th>\n",
       "      <th>SOURCE_APP_PACKETS</th>\n",
       "      <th>REMOTE_APP_PACKETS</th>\n",
       "      <th>SOURCE_APP_BYTES</th>\n",
       "      <th>REMOTE_APP_BYTES</th>\n",
       "      <th>APP_PACKETS</th>\n",
       "      <th>DNS_QUERY_TIMES</th>\n",
       "      <th>Type</th>\n",
       "    </tr>\n",
       "  </thead>\n",
       "  <tbody>\n",
       "    <tr>\n",
       "      <th>0</th>\n",
       "      <td>M4_22</td>\n",
       "      <td>100</td>\n",
       "      <td>20</td>\n",
       "      <td>UTF-8</td>\n",
       "      <td>Apache</td>\n",
       "      <td>NaN</td>\n",
       "      <td>ES</td>\n",
       "      <td>Barcelona</td>\n",
       "      <td>17/09/2008 0:00</td>\n",
       "      <td>2/09/2016 0:00</td>\n",
       "      <td>...</td>\n",
       "      <td>0</td>\n",
       "      <td>0</td>\n",
       "      <td>0</td>\n",
       "      <td>0</td>\n",
       "      <td>3</td>\n",
       "      <td>186</td>\n",
       "      <td>0</td>\n",
       "      <td>0</td>\n",
       "      <td>0.0</td>\n",
       "      <td>1</td>\n",
       "    </tr>\n",
       "    <tr>\n",
       "      <th>1</th>\n",
       "      <td>B0_402</td>\n",
       "      <td>50</td>\n",
       "      <td>11</td>\n",
       "      <td>ISO-8859-1</td>\n",
       "      <td>None</td>\n",
       "      <td>1819.0</td>\n",
       "      <td>US</td>\n",
       "      <td>CA</td>\n",
       "      <td>2/11/2002 0:00</td>\n",
       "      <td>2/02/2017 0:00</td>\n",
       "      <td>...</td>\n",
       "      <td>27</td>\n",
       "      <td>5</td>\n",
       "      <td>5203</td>\n",
       "      <td>41</td>\n",
       "      <td>44</td>\n",
       "      <td>13097</td>\n",
       "      <td>5803</td>\n",
       "      <td>41</td>\n",
       "      <td>8.0</td>\n",
       "      <td>0</td>\n",
       "    </tr>\n",
       "    <tr>\n",
       "      <th>2</th>\n",
       "      <td>B0_438</td>\n",
       "      <td>28</td>\n",
       "      <td>7</td>\n",
       "      <td>UTF-8</td>\n",
       "      <td>GSE</td>\n",
       "      <td>6666.0</td>\n",
       "      <td>US</td>\n",
       "      <td>CA</td>\n",
       "      <td>31/07/2000 0:00</td>\n",
       "      <td>29/06/2016 0:00</td>\n",
       "      <td>...</td>\n",
       "      <td>5</td>\n",
       "      <td>11</td>\n",
       "      <td>6311</td>\n",
       "      <td>70</td>\n",
       "      <td>64</td>\n",
       "      <td>63634</td>\n",
       "      <td>6633</td>\n",
       "      <td>70</td>\n",
       "      <td>4.0</td>\n",
       "      <td>0</td>\n",
       "    </tr>\n",
       "    <tr>\n",
       "      <th>3</th>\n",
       "      <td>B0_759</td>\n",
       "      <td>43</td>\n",
       "      <td>7</td>\n",
       "      <td>UTF-8</td>\n",
       "      <td>GSE</td>\n",
       "      <td>20592.0</td>\n",
       "      <td>US</td>\n",
       "      <td>CA</td>\n",
       "      <td>31/07/2000 0:00</td>\n",
       "      <td>29/06/2016 0:00</td>\n",
       "      <td>...</td>\n",
       "      <td>5</td>\n",
       "      <td>13</td>\n",
       "      <td>6081</td>\n",
       "      <td>69</td>\n",
       "      <td>71</td>\n",
       "      <td>63457</td>\n",
       "      <td>6463</td>\n",
       "      <td>69</td>\n",
       "      <td>4.0</td>\n",
       "      <td>0</td>\n",
       "    </tr>\n",
       "    <tr>\n",
       "      <th>4</th>\n",
       "      <td>B0_280</td>\n",
       "      <td>47</td>\n",
       "      <td>11</td>\n",
       "      <td>utf-8</td>\n",
       "      <td>Apache/2.2.15 (Red Hat)</td>\n",
       "      <td>NaN</td>\n",
       "      <td>None</td>\n",
       "      <td>None</td>\n",
       "      <td>None</td>\n",
       "      <td>None</td>\n",
       "      <td>...</td>\n",
       "      <td>1</td>\n",
       "      <td>7</td>\n",
       "      <td>1552</td>\n",
       "      <td>21</td>\n",
       "      <td>20</td>\n",
       "      <td>2790</td>\n",
       "      <td>2000</td>\n",
       "      <td>21</td>\n",
       "      <td>6.0</td>\n",
       "      <td>0</td>\n",
       "    </tr>\n",
       "    <tr>\n",
       "      <th>...</th>\n",
       "      <td>...</td>\n",
       "      <td>...</td>\n",
       "      <td>...</td>\n",
       "      <td>...</td>\n",
       "      <td>...</td>\n",
       "      <td>...</td>\n",
       "      <td>...</td>\n",
       "      <td>...</td>\n",
       "      <td>...</td>\n",
       "      <td>...</td>\n",
       "      <td>...</td>\n",
       "      <td>...</td>\n",
       "      <td>...</td>\n",
       "      <td>...</td>\n",
       "      <td>...</td>\n",
       "      <td>...</td>\n",
       "      <td>...</td>\n",
       "      <td>...</td>\n",
       "      <td>...</td>\n",
       "      <td>...</td>\n",
       "      <td>...</td>\n",
       "    </tr>\n",
       "    <tr>\n",
       "      <th>345</th>\n",
       "      <td>B0_583</td>\n",
       "      <td>141</td>\n",
       "      <td>24</td>\n",
       "      <td>UTF-8</td>\n",
       "      <td>ATS</td>\n",
       "      <td>NaN</td>\n",
       "      <td>US</td>\n",
       "      <td>CA</td>\n",
       "      <td>18/01/1995 0:00</td>\n",
       "      <td>26/08/2015 0:00</td>\n",
       "      <td>...</td>\n",
       "      <td>7</td>\n",
       "      <td>6</td>\n",
       "      <td>3925</td>\n",
       "      <td>39</td>\n",
       "      <td>35</td>\n",
       "      <td>21489</td>\n",
       "      <td>4535</td>\n",
       "      <td>39</td>\n",
       "      <td>8.0</td>\n",
       "      <td>0</td>\n",
       "    </tr>\n",
       "    <tr>\n",
       "      <th>346</th>\n",
       "      <td>M0_99</td>\n",
       "      <td>48</td>\n",
       "      <td>14</td>\n",
       "      <td>UTF-8</td>\n",
       "      <td>Apache</td>\n",
       "      <td>NaN</td>\n",
       "      <td>CZ</td>\n",
       "      <td>PRAHA</td>\n",
       "      <td>7/10/2006 0:00</td>\n",
       "      <td>7/03/2017 0:00</td>\n",
       "      <td>...</td>\n",
       "      <td>0</td>\n",
       "      <td>1</td>\n",
       "      <td>3450</td>\n",
       "      <td>50</td>\n",
       "      <td>51</td>\n",
       "      <td>66124</td>\n",
       "      <td>3602</td>\n",
       "      <td>50</td>\n",
       "      <td>2.0</td>\n",
       "      <td>1</td>\n",
       "    </tr>\n",
       "    <tr>\n",
       "      <th>347</th>\n",
       "      <td>B0_2224</td>\n",
       "      <td>25</td>\n",
       "      <td>6</td>\n",
       "      <td>UTF-8</td>\n",
       "      <td>LiteSpeed</td>\n",
       "      <td>NaN</td>\n",
       "      <td>None</td>\n",
       "      <td>None</td>\n",
       "      <td>27/01/2005 0:00</td>\n",
       "      <td>15/11/2013 0:00</td>\n",
       "      <td>...</td>\n",
       "      <td>5</td>\n",
       "      <td>2</td>\n",
       "      <td>564</td>\n",
       "      <td>6</td>\n",
       "      <td>7</td>\n",
       "      <td>442</td>\n",
       "      <td>564</td>\n",
       "      <td>6</td>\n",
       "      <td>0.0</td>\n",
       "      <td>0</td>\n",
       "    </tr>\n",
       "    <tr>\n",
       "      <th>348</th>\n",
       "      <td>B0_494</td>\n",
       "      <td>88</td>\n",
       "      <td>15</td>\n",
       "      <td>UTF-8</td>\n",
       "      <td>Apache</td>\n",
       "      <td>NaN</td>\n",
       "      <td>None</td>\n",
       "      <td>None</td>\n",
       "      <td>25/03/2010 0:00</td>\n",
       "      <td>25/03/2017 0:00</td>\n",
       "      <td>...</td>\n",
       "      <td>3</td>\n",
       "      <td>4</td>\n",
       "      <td>1346</td>\n",
       "      <td>15</td>\n",
       "      <td>16</td>\n",
       "      <td>1725</td>\n",
       "      <td>1670</td>\n",
       "      <td>15</td>\n",
       "      <td>4.0</td>\n",
       "      <td>0</td>\n",
       "    </tr>\n",
       "    <tr>\n",
       "      <th>349</th>\n",
       "      <td>B0_926</td>\n",
       "      <td>47</td>\n",
       "      <td>9</td>\n",
       "      <td>ISO-8859-1</td>\n",
       "      <td>None</td>\n",
       "      <td>675.0</td>\n",
       "      <td>US</td>\n",
       "      <td>California</td>\n",
       "      <td>28/11/1999 0:00</td>\n",
       "      <td>9/09/2013 0:00</td>\n",
       "      <td>...</td>\n",
       "      <td>0</td>\n",
       "      <td>0</td>\n",
       "      <td>0</td>\n",
       "      <td>0</td>\n",
       "      <td>0</td>\n",
       "      <td>0</td>\n",
       "      <td>0</td>\n",
       "      <td>0</td>\n",
       "      <td>0.0</td>\n",
       "      <td>0</td>\n",
       "    </tr>\n",
       "  </tbody>\n",
       "</table>\n",
       "<p>350 rows × 21 columns</p>\n",
       "</div>"
      ],
      "text/plain": [
       "         URL  URL_LENGTH  NUMBER_SPECIAL_CHARACTERS     CHARSET  \\\n",
       "0      M4_22         100                         20       UTF-8   \n",
       "1     B0_402          50                         11  ISO-8859-1   \n",
       "2     B0_438          28                          7       UTF-8   \n",
       "3     B0_759          43                          7       UTF-8   \n",
       "4     B0_280          47                         11       utf-8   \n",
       "..       ...         ...                        ...         ...   \n",
       "345   B0_583         141                         24       UTF-8   \n",
       "346    M0_99          48                         14       UTF-8   \n",
       "347  B0_2224          25                          6       UTF-8   \n",
       "348   B0_494          88                         15       UTF-8   \n",
       "349   B0_926          47                          9  ISO-8859-1   \n",
       "\n",
       "                      SERVER  CONTENT_LENGTH WHOIS_COUNTRY WHOIS_STATEPRO  \\\n",
       "0                     Apache             NaN            ES      Barcelona   \n",
       "1                       None          1819.0            US             CA   \n",
       "2                        GSE          6666.0            US             CA   \n",
       "3                        GSE         20592.0            US             CA   \n",
       "4    Apache/2.2.15 (Red Hat)             NaN          None           None   \n",
       "..                       ...             ...           ...            ...   \n",
       "345                      ATS             NaN            US             CA   \n",
       "346                   Apache             NaN            CZ          PRAHA   \n",
       "347                LiteSpeed             NaN          None           None   \n",
       "348                   Apache             NaN          None           None   \n",
       "349                     None           675.0            US     California   \n",
       "\n",
       "       WHOIS_REGDATE WHOIS_UPDATED_DATE  ...  DIST_REMOTE_TCP_PORT  \\\n",
       "0    17/09/2008 0:00     2/09/2016 0:00  ...                     0   \n",
       "1     2/11/2002 0:00     2/02/2017 0:00  ...                    27   \n",
       "2    31/07/2000 0:00    29/06/2016 0:00  ...                     5   \n",
       "3    31/07/2000 0:00    29/06/2016 0:00  ...                     5   \n",
       "4               None               None  ...                     1   \n",
       "..               ...                ...  ...                   ...   \n",
       "345  18/01/1995 0:00    26/08/2015 0:00  ...                     7   \n",
       "346   7/10/2006 0:00     7/03/2017 0:00  ...                     0   \n",
       "347  27/01/2005 0:00    15/11/2013 0:00  ...                     5   \n",
       "348  25/03/2010 0:00    25/03/2017 0:00  ...                     3   \n",
       "349  28/11/1999 0:00     9/09/2013 0:00  ...                     0   \n",
       "\n",
       "     REMOTE_IPS  APP_BYTES  SOURCE_APP_PACKETS  REMOTE_APP_PACKETS  \\\n",
       "0             0          0                   0                   3   \n",
       "1             5       5203                  41                  44   \n",
       "2            11       6311                  70                  64   \n",
       "3            13       6081                  69                  71   \n",
       "4             7       1552                  21                  20   \n",
       "..          ...        ...                 ...                 ...   \n",
       "345           6       3925                  39                  35   \n",
       "346           1       3450                  50                  51   \n",
       "347           2        564                   6                   7   \n",
       "348           4       1346                  15                  16   \n",
       "349           0          0                   0                   0   \n",
       "\n",
       "     SOURCE_APP_BYTES  REMOTE_APP_BYTES  APP_PACKETS  DNS_QUERY_TIMES  Type  \n",
       "0                 186                 0            0              0.0     1  \n",
       "1               13097              5803           41              8.0     0  \n",
       "2               63634              6633           70              4.0     0  \n",
       "3               63457              6463           69              4.0     0  \n",
       "4                2790              2000           21              6.0     0  \n",
       "..                ...               ...          ...              ...   ...  \n",
       "345             21489              4535           39              8.0     0  \n",
       "346             66124              3602           50              2.0     1  \n",
       "347               442               564            6              0.0     0  \n",
       "348              1725              1670           15              4.0     0  \n",
       "349                 0                 0            0              0.0     0  \n",
       "\n",
       "[350 rows x 21 columns]"
      ]
     },
     "execution_count": 141,
     "metadata": {},
     "output_type": "execute_result"
    }
   ],
   "source": [
    "csv_test"
   ]
  },
  {
   "cell_type": "markdown",
   "metadata": {},
   "source": [
    "### In our analysis, we decided that the following columns could be ignored"
   ]
  },
  {
   "cell_type": "markdown",
   "metadata": {},
   "source": [
    "'URL', \n",
    "'CHARSET', \n",
    "'TCP_CONVERSATION_EXCHANGE', \n",
    "'SOURCE_APP_PACKETS', \n",
    "'REMOTE_APP_BYTES', \n",
    "'APP_PACKETS'\n",
    "\n",
    "Let's create a copy of our test set without these columns"
   ]
  },
  {
   "cell_type": "code",
   "execution_count": 142,
   "metadata": {},
   "outputs": [],
   "source": [
    "test_nan=csv_test.copy()"
   ]
  },
  {
   "cell_type": "code",
   "execution_count": 143,
   "metadata": {},
   "outputs": [
    {
     "name": "stdout",
     "output_type": "stream",
     "text": [
      "15\n",
      "21\n"
     ]
    }
   ],
   "source": [
    "todrop=['URL','CHARSET','TCP_CONVERSATION_EXCHANGE','SOURCE_APP_PACKETS','REMOTE_APP_BYTES','APP_PACKETS']\n",
    "test_nan=test_nan.drop(columns=todrop)\n",
    "print(len(test_nan.columns))\n",
    "print(len(csv_test.columns))"
   ]
  },
  {
   "cell_type": "markdown",
   "metadata": {},
   "source": [
    "Our columns have been succesfully deleted. Among the remaining columns, let's see how many numerical column we have"
   ]
  },
  {
   "cell_type": "code",
   "execution_count": 144,
   "metadata": {},
   "outputs": [
    {
     "name": "stdout",
     "output_type": "stream",
     "text": [
      "10\n"
     ]
    }
   ],
   "source": [
    "# Getting the numerical columns\n",
    "from pandas.api.types import is_numeric_dtype\n",
    "num_col_test = []\n",
    "\n",
    "for el in test_nan.columns:\n",
    "    if is_numeric_dtype(test_nan[el]):\n",
    "        num_col_test.append(el)\n",
    "print(len(num_col_test))"
   ]
  },
  {
   "cell_type": "markdown",
   "metadata": {},
   "source": [
    "#### Processing numerical columns"
   ]
  },
  {
   "cell_type": "code",
   "execution_count": 145,
   "metadata": {},
   "outputs": [],
   "source": [
    "import math\n",
    "def correct_nan_test(data, column):\n",
    "    count = 0\n",
    "    for index, row in data.iterrows():    \n",
    "        x = row[column]\n",
    "        \n",
    "        if math.isnan(x) or x==0:\n",
    "            count += 1\n",
    "            data.at[index,column]= data[column].mean()\n",
    "\n",
    "    print(\"Done on\", str(column) + \".\", count, \"nan processed.\")\n",
    "    return data"
   ]
  },
  {
   "cell_type": "markdown",
   "metadata": {},
   "source": [
    "We will apply this process on all the numerical columns of our test set except the Type column"
   ]
  },
  {
   "cell_type": "code",
   "execution_count": 146,
   "metadata": {},
   "outputs": [
    {
     "name": "stdout",
     "output_type": "stream",
     "text": [
      "Done on URL_LENGTH. 0 nan processed.\n",
      "Done on NUMBER_SPECIAL_CHARACTERS. 0 nan processed.\n",
      "Done on CONTENT_LENGTH. 169 nan processed.\n",
      "Done on DIST_REMOTE_TCP_PORT. 189 nan processed.\n",
      "Done on REMOTE_IPS. 140 nan processed.\n",
      "Done on APP_BYTES. 140 nan processed.\n",
      "Done on REMOTE_APP_PACKETS. 116 nan processed.\n",
      "Done on SOURCE_APP_BYTES. 116 nan processed.\n",
      "Done on DNS_QUERY_TIMES. 203 nan processed.\n"
     ]
    },
    {
     "data": {
      "text/plain": [
       "<bound method NDFrame.head of      URL_LENGTH  NUMBER_SPECIAL_CHARACTERS                   SERVER  \\\n",
       "0           100                         20                   Apache   \n",
       "1            50                         11                     None   \n",
       "2            28                          7                      GSE   \n",
       "3            43                          7                      GSE   \n",
       "4            47                         11  Apache/2.2.15 (Red Hat)   \n",
       "..          ...                        ...                      ...   \n",
       "345         141                         24                      ATS   \n",
       "346          48                         14                   Apache   \n",
       "347          25                          6                LiteSpeed   \n",
       "348          88                         15                   Apache   \n",
       "349          47                          9                     None   \n",
       "\n",
       "     CONTENT_LENGTH WHOIS_COUNTRY WHOIS_STATEPRO    WHOIS_REGDATE  \\\n",
       "0      15319.311475            ES      Barcelona  17/09/2008 0:00   \n",
       "1       1819.000000            US             CA   2/11/2002 0:00   \n",
       "2       6666.000000            US             CA  31/07/2000 0:00   \n",
       "3      20592.000000            US             CA  31/07/2000 0:00   \n",
       "4      15319.311475          None           None             None   \n",
       "..              ...           ...            ...              ...   \n",
       "345    15428.926706            US             CA  18/01/1995 0:00   \n",
       "346    15428.926706            CZ          PRAHA   7/10/2006 0:00   \n",
       "347    15428.926706          None           None  27/01/2005 0:00   \n",
       "348    15428.926706          None           None  25/03/2010 0:00   \n",
       "349      675.000000            US     California  28/11/1999 0:00   \n",
       "\n",
       "    WHOIS_UPDATED_DATE  DIST_REMOTE_TCP_PORT  REMOTE_IPS  APP_BYTES  \\\n",
       "0       2/09/2016 0:00                     4           3       1873   \n",
       "1       2/02/2017 0:00                    27           5       5203   \n",
       "2      29/06/2016 0:00                     5          11       6311   \n",
       "3      29/06/2016 0:00                     5          13       6081   \n",
       "4                 None                     1           7       1552   \n",
       "..                 ...                   ...         ...        ...   \n",
       "345    26/08/2015 0:00                     7           6       3925   \n",
       "346     7/03/2017 0:00                     7           1       3450   \n",
       "347    15/11/2013 0:00                     5           2        564   \n",
       "348    25/03/2017 0:00                     3           4       1346   \n",
       "349     9/09/2013 0:00                     7           4       2785   \n",
       "\n",
       "     REMOTE_APP_PACKETS  SOURCE_APP_BYTES  DNS_QUERY_TIMES  Type  \n",
       "0                     3               186         2.171429     1  \n",
       "1                    44             13097         8.000000     0  \n",
       "2                    64             63634         4.000000     0  \n",
       "3                    71             63457         4.000000     0  \n",
       "4                    20              2790         6.000000     0  \n",
       "..                  ...               ...              ...   ...  \n",
       "345                  35             21489         8.000000     0  \n",
       "346                  51             66124         2.000000     1  \n",
       "347                   7               442         3.853000     0  \n",
       "348                  16              1725         4.000000     0  \n",
       "349                  29             29737         3.864009     0  \n",
       "\n",
       "[350 rows x 15 columns]>"
      ]
     },
     "execution_count": 146,
     "metadata": {},
     "output_type": "execute_result"
    }
   ],
   "source": [
    "for el in num_col_test:\n",
    "    if (el != \"Type\"):\n",
    "        test_nan = correct_nan_test(test_nan, el)  \n",
    "        \n",
    "test_nan.head"
   ]
  },
  {
   "cell_type": "markdown",
   "metadata": {},
   "source": [
    "#### Processing categorical values"
   ]
  },
  {
   "cell_type": "markdown",
   "metadata": {},
   "source": [
    "The following functions will be useful to process our categorical columns."
   ]
  },
  {
   "cell_type": "code",
   "execution_count": 147,
   "metadata": {},
   "outputs": [],
   "source": [
    "\"\"\" The function below returns, for a given categorical column, the list of the most repeated value \n",
    "no matter if it is malicious or benign\"\"\"\n",
    "def mostrepeatedtest(data, column,n):\n",
    "    value=data[column].value_counts()[:n].index.tolist()\n",
    "    return value\n",
    "   \n",
    "\"\"\" The function below replaces the None of a column for which we calculated the most repeated value \n",
    "beforehand thanks to the previous function\"\"\"\n",
    "def correct_Nonetest(data, column,value):\n",
    "    count=0\n",
    "    if(value[0]=='None' or value[0]=='none'):\n",
    "        most_freq=value[1]\n",
    "    else:\n",
    "        most_freq=value[0]\n",
    "    \n",
    "    for index, row in data.iterrows():\n",
    "        x = row[column]\n",
    "        if x=='None'or x=='none':\n",
    "            count= count+1\n",
    "            data.at[index,column]= most_freq\n",
    "    print(\"Done on \", str(column) + \".\", count, \" None processed.\" )\n",
    "    return data"
   ]
  },
  {
   "cell_type": "markdown",
   "metadata": {},
   "source": [
    "Let's recall which are our categorical columns :"
   ]
  },
  {
   "cell_type": "code",
   "execution_count": 148,
   "metadata": {},
   "outputs": [
    {
     "name": "stdout",
     "output_type": "stream",
     "text": [
      "['SERVER', 'WHOIS_COUNTRY', 'WHOIS_STATEPRO', 'WHOIS_REGDATE', 'WHOIS_UPDATED_DATE']\n"
     ]
    }
   ],
   "source": [
    "# Visualizing all the categorical columns\n",
    "cat_col_test = []\n",
    "for el in test_nan.columns:\n",
    "    if is_numeric_dtype(test_nan[el])==False:\n",
    "        cat_col_test.append(el)  \n",
    "print(cat_col_test)"
   ]
  },
  {
   "cell_type": "markdown",
   "metadata": {},
   "source": [
    "#### Column Server"
   ]
  },
  {
   "cell_type": "code",
   "execution_count": 149,
   "metadata": {},
   "outputs": [
    {
     "name": "stdout",
     "output_type": "stream",
     "text": [
      "0                       Apache\n",
      "1                         None\n",
      "2                          GSE\n",
      "3                          GSE\n",
      "4      Apache/2.2.15 (Red Hat)\n",
      "                ...           \n",
      "345                        ATS\n",
      "346                     Apache\n",
      "347                  LiteSpeed\n",
      "348                     Apache\n",
      "349                       None\n",
      "Name: SERVER, Length: 350, dtype: object\n"
     ]
    }
   ],
   "source": [
    "Servertest = csv_test[\"SERVER\"].copy()\n",
    "print(Servertest)"
   ]
  },
  {
   "cell_type": "code",
   "execution_count": 150,
   "metadata": {},
   "outputs": [
    {
     "data": {
      "text/plain": [
       "0         Apache\n",
       "1           None\n",
       "2            GSE\n",
       "3            GSE\n",
       "4         Apache\n",
       "         ...    \n",
       "345          ATS\n",
       "346       Apache\n",
       "347    LiteSpeed\n",
       "348       Apache\n",
       "349         None\n",
       "Name: SERVER, Length: 350, dtype: object"
      ]
     },
     "execution_count": 150,
     "metadata": {},
     "output_type": "execute_result"
    }
   ],
   "source": [
    "columnserver(test_nan)['SERVER']"
   ]
  },
  {
   "cell_type": "code",
   "execution_count": 151,
   "metadata": {},
   "outputs": [
    {
     "name": "stdout",
     "output_type": "stream",
     "text": [
      "Done on  SERVER. 47  None processed.\n"
     ]
    },
    {
     "data": {
      "text/plain": [
       "<bound method NDFrame.head of 0         Apache\n",
       "1         Apache\n",
       "2            GSE\n",
       "3            GSE\n",
       "4         Apache\n",
       "         ...    \n",
       "345          ATS\n",
       "346       Apache\n",
       "347    LiteSpeed\n",
       "348       Apache\n",
       "349       Apache\n",
       "Name: SERVER, Length: 350, dtype: object>"
      ]
     },
     "execution_count": 151,
     "metadata": {},
     "output_type": "execute_result"
    }
   ],
   "source": [
    "filler=mostrepeatedtest(test_nan,'SERVER',2)\n",
    "test_nan = correct_Nonetest(test_nan, 'SERVER',filler) \n",
    "test_nan['SERVER'].head"
   ]
  },
  {
   "cell_type": "markdown",
   "metadata": {},
   "source": [
    "#### Column WHOIS_COUNTRY"
   ]
  },
  {
   "cell_type": "code",
   "execution_count": 152,
   "metadata": {},
   "outputs": [
    {
     "name": "stdout",
     "output_type": "stream",
     "text": [
      "0        ES\n",
      "1        US\n",
      "2        US\n",
      "3        US\n",
      "4      None\n",
      "       ... \n",
      "345      US\n",
      "346      CZ\n",
      "347    None\n",
      "348    None\n",
      "349      US\n",
      "Name: WHOIS_COUNTRY, Length: 350, dtype: object\n"
     ]
    }
   ],
   "source": [
    "Whoiscountry = csv_test[\"WHOIS_COUNTRY\"].copy()\n",
    "print(Whoiscountry)"
   ]
  },
  {
   "cell_type": "markdown",
   "metadata": {},
   "source": [
    "We prepocess our column thanks to the function we created for our model's preprocessing"
   ]
  },
  {
   "cell_type": "code",
   "execution_count": 153,
   "metadata": {},
   "outputs": [
    {
     "data": {
      "text/plain": [
       "0        ES\n",
       "1        US\n",
       "2        US\n",
       "3        US\n",
       "4      None\n",
       "       ... \n",
       "345      US\n",
       "346      CZ\n",
       "347    None\n",
       "348    None\n",
       "349      US\n",
       "Name: WHOIS_COUNTRY, Length: 350, dtype: object"
      ]
     },
     "execution_count": 153,
     "metadata": {},
     "output_type": "execute_result"
    }
   ],
   "source": [
    "columncountries(test_nan)['WHOIS_COUNTRY']"
   ]
  },
  {
   "cell_type": "markdown",
   "metadata": {},
   "source": [
    "We fill all the None with the most repeated value of our test set"
   ]
  },
  {
   "cell_type": "code",
   "execution_count": 154,
   "metadata": {},
   "outputs": [
    {
     "name": "stdout",
     "output_type": "stream",
     "text": [
      "Done on  WHOIS_COUNTRY. 95  None processed.\n"
     ]
    },
    {
     "data": {
      "text/plain": [
       "<bound method NDFrame.head of 0      ES\n",
       "1      US\n",
       "2      US\n",
       "3      US\n",
       "4      US\n",
       "       ..\n",
       "345    US\n",
       "346    CZ\n",
       "347    US\n",
       "348    US\n",
       "349    US\n",
       "Name: WHOIS_COUNTRY, Length: 350, dtype: object>"
      ]
     },
     "execution_count": 154,
     "metadata": {},
     "output_type": "execute_result"
    }
   ],
   "source": [
    "filler=mostrepeatedtest(test_nan,'WHOIS_COUNTRY',2)\n",
    "test_nan = correct_Nonetest(test_nan, 'WHOIS_COUNTRY',filler) \n",
    "test_nan['WHOIS_COUNTRY'].head"
   ]
  },
  {
   "cell_type": "code",
   "execution_count": null,
   "metadata": {},
   "outputs": [],
   "source": []
  },
  {
   "cell_type": "markdown",
   "metadata": {},
   "source": [
    "#### Column WHOIS_STATEPRO"
   ]
  },
  {
   "cell_type": "code",
   "execution_count": 155,
   "metadata": {},
   "outputs": [
    {
     "name": "stdout",
     "output_type": "stream",
     "text": [
      "0       Barcelona\n",
      "1              CA\n",
      "2              CA\n",
      "3              CA\n",
      "4            None\n",
      "          ...    \n",
      "345            CA\n",
      "346         PRAHA\n",
      "347          None\n",
      "348          None\n",
      "349    California\n",
      "Name: WHOIS_STATEPRO, Length: 350, dtype: object\n"
     ]
    }
   ],
   "source": [
    "Whoistate = csv_test[\"WHOIS_STATEPRO\"].copy()\n",
    "print(Whoistate)"
   ]
  },
  {
   "cell_type": "markdown",
   "metadata": {},
   "source": [
    "We prepocess our column thanks to the function we created for our model's preprocessing"
   ]
  },
  {
   "cell_type": "code",
   "execution_count": 156,
   "metadata": {},
   "outputs": [
    {
     "data": {
      "text/plain": [
       "0       BARCELONA\n",
       "1              CA\n",
       "2              CA\n",
       "3              CA\n",
       "4            None\n",
       "          ...    \n",
       "345            CA\n",
       "346         PRAHA\n",
       "347          None\n",
       "348          None\n",
       "349    CALIFORNIA\n",
       "Name: WHOIS_STATEPRO, Length: 350, dtype: object"
      ]
     },
     "execution_count": 156,
     "metadata": {},
     "output_type": "execute_result"
    }
   ],
   "source": [
    "columnstatepro(test_nan)['WHOIS_STATEPRO']"
   ]
  },
  {
   "cell_type": "markdown",
   "metadata": {},
   "source": [
    "We fill all the None with the most repeated value of our test set"
   ]
  },
  {
   "cell_type": "code",
   "execution_count": 157,
   "metadata": {},
   "outputs": [
    {
     "name": "stdout",
     "output_type": "stream",
     "text": [
      "Done on  WHOIS_STATEPRO. 102  None processed.\n"
     ]
    },
    {
     "data": {
      "text/plain": [
       "<bound method NDFrame.head of 0       Barcelona\n",
       "1              CA\n",
       "2              CA\n",
       "3              CA\n",
       "4              CA\n",
       "          ...    \n",
       "345            CA\n",
       "346         PRAHA\n",
       "347            CA\n",
       "348            CA\n",
       "349    California\n",
       "Name: WHOIS_STATEPRO, Length: 350, dtype: object>"
      ]
     },
     "execution_count": 157,
     "metadata": {},
     "output_type": "execute_result"
    }
   ],
   "source": [
    "filler=mostrepeatedtest(test_nan,'WHOIS_STATEPRO',2)\n",
    "test_nan = correct_Nonetest(test_nan, 'WHOIS_STATEPRO',filler) \n",
    "test_nan['WHOIS_STATEPRO'].head"
   ]
  },
  {
   "cell_type": "markdown",
   "metadata": {},
   "source": [
    "#### Column WHOIS_REGDATE' and 'WHOIS_UPDATED_DATE'"
   ]
  },
  {
   "cell_type": "code",
   "execution_count": 158,
   "metadata": {},
   "outputs": [
    {
     "data": {
      "text/plain": [
       "0      17/09/2008 0:00\n",
       "1       2/11/2002 0:00\n",
       "2      31/07/2000 0:00\n",
       "3      31/07/2000 0:00\n",
       "4                 None\n",
       "            ...       \n",
       "345    18/01/1995 0:00\n",
       "346     7/10/2006 0:00\n",
       "347    27/01/2005 0:00\n",
       "348    25/03/2010 0:00\n",
       "349    28/11/1999 0:00\n",
       "Name: WHOIS_REGDATE, Length: 350, dtype: object"
      ]
     },
     "execution_count": 158,
     "metadata": {},
     "output_type": "execute_result"
    }
   ],
   "source": [
    "test_nan['WHOIS_REGDATE']"
   ]
  },
  {
   "cell_type": "markdown",
   "metadata": {},
   "source": [
    "For these 2 columns, we will transform dates into floats so that we will treat it like numerical columns"
   ]
  },
  {
   "cell_type": "code",
   "execution_count": 159,
   "metadata": {},
   "outputs": [],
   "source": [
    "for index, row in test_nan.iterrows():\n",
    "    x = row[\"WHOIS_REGDATE\"]\n",
    "    if x!=\"None\":\n",
    "        test_nan.loc[index, \"WHOIS_REGDATE\"] = date2float(x)\n",
    "    else:\n",
    "        test_nan.loc[index, \"WHOIS_REGDATE\"] = 0.0\n",
    "        \n",
    "    x = row[\"WHOIS_UPDATED_DATE\"]\n",
    "    if x!=\"None\":\n",
    "        test_nan.loc[index, \"WHOIS_UPDATED_DATE\"] = date2float(x)\n",
    "    \n",
    "    else:\n",
    "        test_nan.loc[index, \"WHOIS_UPDATED_DATE\"] = 0.0"
   ]
  },
  {
   "cell_type": "code",
   "execution_count": 160,
   "metadata": {},
   "outputs": [
    {
     "data": {
      "text/plain": [
       "0      1221602400.0\n",
       "1      1013382000.0\n",
       "2       964994400.0\n",
       "3       964994400.0\n",
       "4               0.0\n",
       "           ...     \n",
       "345     790383600.0\n",
       "346    1152482400.0\n",
       "347    1106780400.0\n",
       "348    1269471600.0\n",
       "349     943743600.0\n",
       "Name: WHOIS_REGDATE, Length: 350, dtype: object"
      ]
     },
     "execution_count": 160,
     "metadata": {},
     "output_type": "execute_result"
    }
   ],
   "source": [
    "test_nan['WHOIS_REGDATE']"
   ]
  },
  {
   "cell_type": "markdown",
   "metadata": {},
   "source": [
    "Dates are now floats, we can fix the none just like for a numerical value"
   ]
  },
  {
   "cell_type": "code",
   "execution_count": 161,
   "metadata": {},
   "outputs": [
    {
     "name": "stdout",
     "output_type": "stream",
     "text": [
      "Done on WHOIS_REGDATE. 38 nan processed.\n",
      "Done on WHOIS_UPDATED_DATE. 43 nan processed.\n"
     ]
    }
   ],
   "source": [
    "test_nan = correct_nan_test(test_nan, 'WHOIS_REGDATE')\n",
    "test_nan = correct_nan_test(test_nan, 'WHOIS_UPDATED_DATE')"
   ]
  },
  {
   "cell_type": "code",
   "execution_count": 162,
   "metadata": {},
   "outputs": [
    {
     "data": {
      "text/html": [
       "<div>\n",
       "<style scoped>\n",
       "    .dataframe tbody tr th:only-of-type {\n",
       "        vertical-align: middle;\n",
       "    }\n",
       "\n",
       "    .dataframe tbody tr th {\n",
       "        vertical-align: top;\n",
       "    }\n",
       "\n",
       "    .dataframe thead th {\n",
       "        text-align: right;\n",
       "    }\n",
       "</style>\n",
       "<table border=\"1\" class=\"dataframe\">\n",
       "  <thead>\n",
       "    <tr style=\"text-align: right;\">\n",
       "      <th></th>\n",
       "      <th>URL_LENGTH</th>\n",
       "      <th>NUMBER_SPECIAL_CHARACTERS</th>\n",
       "      <th>SERVER</th>\n",
       "      <th>CONTENT_LENGTH</th>\n",
       "      <th>WHOIS_COUNTRY</th>\n",
       "      <th>WHOIS_STATEPRO</th>\n",
       "      <th>WHOIS_REGDATE</th>\n",
       "      <th>WHOIS_UPDATED_DATE</th>\n",
       "      <th>DIST_REMOTE_TCP_PORT</th>\n",
       "      <th>REMOTE_IPS</th>\n",
       "      <th>APP_BYTES</th>\n",
       "      <th>REMOTE_APP_PACKETS</th>\n",
       "      <th>SOURCE_APP_BYTES</th>\n",
       "      <th>DNS_QUERY_TIMES</th>\n",
       "      <th>Type</th>\n",
       "    </tr>\n",
       "  </thead>\n",
       "  <tbody>\n",
       "    <tr>\n",
       "      <th>0</th>\n",
       "      <td>100</td>\n",
       "      <td>20</td>\n",
       "      <td>Apache</td>\n",
       "      <td>15319.311475</td>\n",
       "      <td>ES</td>\n",
       "      <td>Barcelona</td>\n",
       "      <td>1221602400.0</td>\n",
       "      <td>1454972400.0</td>\n",
       "      <td>4</td>\n",
       "      <td>3</td>\n",
       "      <td>1873</td>\n",
       "      <td>3</td>\n",
       "      <td>186</td>\n",
       "      <td>2.171429</td>\n",
       "      <td>1</td>\n",
       "    </tr>\n",
       "    <tr>\n",
       "      <th>1</th>\n",
       "      <td>50</td>\n",
       "      <td>11</td>\n",
       "      <td>Apache</td>\n",
       "      <td>1819.000000</td>\n",
       "      <td>US</td>\n",
       "      <td>CA</td>\n",
       "      <td>1013382000.0</td>\n",
       "      <td>1485990000.0</td>\n",
       "      <td>27</td>\n",
       "      <td>5</td>\n",
       "      <td>5203</td>\n",
       "      <td>44</td>\n",
       "      <td>13097</td>\n",
       "      <td>8.000000</td>\n",
       "      <td>0</td>\n",
       "    </tr>\n",
       "    <tr>\n",
       "      <th>2</th>\n",
       "      <td>28</td>\n",
       "      <td>7</td>\n",
       "      <td>GSE</td>\n",
       "      <td>6666.000000</td>\n",
       "      <td>US</td>\n",
       "      <td>CA</td>\n",
       "      <td>964994400.0</td>\n",
       "      <td>1467151200.0</td>\n",
       "      <td>5</td>\n",
       "      <td>11</td>\n",
       "      <td>6311</td>\n",
       "      <td>64</td>\n",
       "      <td>63634</td>\n",
       "      <td>4.000000</td>\n",
       "      <td>0</td>\n",
       "    </tr>\n",
       "    <tr>\n",
       "      <th>3</th>\n",
       "      <td>43</td>\n",
       "      <td>7</td>\n",
       "      <td>GSE</td>\n",
       "      <td>20592.000000</td>\n",
       "      <td>US</td>\n",
       "      <td>CA</td>\n",
       "      <td>964994400.0</td>\n",
       "      <td>1467151200.0</td>\n",
       "      <td>5</td>\n",
       "      <td>13</td>\n",
       "      <td>6081</td>\n",
       "      <td>71</td>\n",
       "      <td>63457</td>\n",
       "      <td>4.000000</td>\n",
       "      <td>0</td>\n",
       "    </tr>\n",
       "    <tr>\n",
       "      <th>4</th>\n",
       "      <td>47</td>\n",
       "      <td>11</td>\n",
       "      <td>Apache</td>\n",
       "      <td>15319.311475</td>\n",
       "      <td>US</td>\n",
       "      <td>CA</td>\n",
       "      <td>896780723.657143</td>\n",
       "      <td>1277948428.457143</td>\n",
       "      <td>1</td>\n",
       "      <td>7</td>\n",
       "      <td>1552</td>\n",
       "      <td>20</td>\n",
       "      <td>2790</td>\n",
       "      <td>6.000000</td>\n",
       "      <td>0</td>\n",
       "    </tr>\n",
       "    <tr>\n",
       "      <th>...</th>\n",
       "      <td>...</td>\n",
       "      <td>...</td>\n",
       "      <td>...</td>\n",
       "      <td>...</td>\n",
       "      <td>...</td>\n",
       "      <td>...</td>\n",
       "      <td>...</td>\n",
       "      <td>...</td>\n",
       "      <td>...</td>\n",
       "      <td>...</td>\n",
       "      <td>...</td>\n",
       "      <td>...</td>\n",
       "      <td>...</td>\n",
       "      <td>...</td>\n",
       "      <td>...</td>\n",
       "    </tr>\n",
       "    <tr>\n",
       "      <th>345</th>\n",
       "      <td>141</td>\n",
       "      <td>24</td>\n",
       "      <td>ATS</td>\n",
       "      <td>15428.926706</td>\n",
       "      <td>US</td>\n",
       "      <td>CA</td>\n",
       "      <td>790383600.0</td>\n",
       "      <td>1440540000.0</td>\n",
       "      <td>7</td>\n",
       "      <td>6</td>\n",
       "      <td>3925</td>\n",
       "      <td>35</td>\n",
       "      <td>21489</td>\n",
       "      <td>8.000000</td>\n",
       "      <td>0</td>\n",
       "    </tr>\n",
       "    <tr>\n",
       "      <th>346</th>\n",
       "      <td>48</td>\n",
       "      <td>14</td>\n",
       "      <td>Apache</td>\n",
       "      <td>15428.926706</td>\n",
       "      <td>CZ</td>\n",
       "      <td>PRAHA</td>\n",
       "      <td>1152482400.0</td>\n",
       "      <td>1499032800.0</td>\n",
       "      <td>7</td>\n",
       "      <td>1</td>\n",
       "      <td>3450</td>\n",
       "      <td>51</td>\n",
       "      <td>66124</td>\n",
       "      <td>2.000000</td>\n",
       "      <td>1</td>\n",
       "    </tr>\n",
       "    <tr>\n",
       "      <th>347</th>\n",
       "      <td>25</td>\n",
       "      <td>6</td>\n",
       "      <td>LiteSpeed</td>\n",
       "      <td>15428.926706</td>\n",
       "      <td>US</td>\n",
       "      <td>CA</td>\n",
       "      <td>1106780400.0</td>\n",
       "      <td>1384470000.0</td>\n",
       "      <td>5</td>\n",
       "      <td>2</td>\n",
       "      <td>564</td>\n",
       "      <td>7</td>\n",
       "      <td>442</td>\n",
       "      <td>3.853000</td>\n",
       "      <td>0</td>\n",
       "    </tr>\n",
       "    <tr>\n",
       "      <th>348</th>\n",
       "      <td>88</td>\n",
       "      <td>15</td>\n",
       "      <td>Apache</td>\n",
       "      <td>15428.926706</td>\n",
       "      <td>US</td>\n",
       "      <td>CA</td>\n",
       "      <td>1269471600.0</td>\n",
       "      <td>1490396400.0</td>\n",
       "      <td>3</td>\n",
       "      <td>4</td>\n",
       "      <td>1346</td>\n",
       "      <td>16</td>\n",
       "      <td>1725</td>\n",
       "      <td>4.000000</td>\n",
       "      <td>0</td>\n",
       "    </tr>\n",
       "    <tr>\n",
       "      <th>349</th>\n",
       "      <td>47</td>\n",
       "      <td>9</td>\n",
       "      <td>Apache</td>\n",
       "      <td>675.000000</td>\n",
       "      <td>US</td>\n",
       "      <td>California</td>\n",
       "      <td>943743600.0</td>\n",
       "      <td>1378677600.0</td>\n",
       "      <td>7</td>\n",
       "      <td>4</td>\n",
       "      <td>2785</td>\n",
       "      <td>29</td>\n",
       "      <td>29737</td>\n",
       "      <td>3.864009</td>\n",
       "      <td>0</td>\n",
       "    </tr>\n",
       "  </tbody>\n",
       "</table>\n",
       "<p>350 rows × 15 columns</p>\n",
       "</div>"
      ],
      "text/plain": [
       "     URL_LENGTH  NUMBER_SPECIAL_CHARACTERS     SERVER  CONTENT_LENGTH  \\\n",
       "0           100                         20     Apache    15319.311475   \n",
       "1            50                         11     Apache     1819.000000   \n",
       "2            28                          7        GSE     6666.000000   \n",
       "3            43                          7        GSE    20592.000000   \n",
       "4            47                         11     Apache    15319.311475   \n",
       "..          ...                        ...        ...             ...   \n",
       "345         141                         24        ATS    15428.926706   \n",
       "346          48                         14     Apache    15428.926706   \n",
       "347          25                          6  LiteSpeed    15428.926706   \n",
       "348          88                         15     Apache    15428.926706   \n",
       "349          47                          9     Apache      675.000000   \n",
       "\n",
       "    WHOIS_COUNTRY WHOIS_STATEPRO     WHOIS_REGDATE WHOIS_UPDATED_DATE  \\\n",
       "0              ES      Barcelona      1221602400.0       1454972400.0   \n",
       "1              US             CA      1013382000.0       1485990000.0   \n",
       "2              US             CA       964994400.0       1467151200.0   \n",
       "3              US             CA       964994400.0       1467151200.0   \n",
       "4              US             CA  896780723.657143  1277948428.457143   \n",
       "..            ...            ...               ...                ...   \n",
       "345            US             CA       790383600.0       1440540000.0   \n",
       "346            CZ          PRAHA      1152482400.0       1499032800.0   \n",
       "347            US             CA      1106780400.0       1384470000.0   \n",
       "348            US             CA      1269471600.0       1490396400.0   \n",
       "349            US     California       943743600.0       1378677600.0   \n",
       "\n",
       "     DIST_REMOTE_TCP_PORT  REMOTE_IPS  APP_BYTES  REMOTE_APP_PACKETS  \\\n",
       "0                       4           3       1873                   3   \n",
       "1                      27           5       5203                  44   \n",
       "2                       5          11       6311                  64   \n",
       "3                       5          13       6081                  71   \n",
       "4                       1           7       1552                  20   \n",
       "..                    ...         ...        ...                 ...   \n",
       "345                     7           6       3925                  35   \n",
       "346                     7           1       3450                  51   \n",
       "347                     5           2        564                   7   \n",
       "348                     3           4       1346                  16   \n",
       "349                     7           4       2785                  29   \n",
       "\n",
       "     SOURCE_APP_BYTES  DNS_QUERY_TIMES  Type  \n",
       "0                 186         2.171429     1  \n",
       "1               13097         8.000000     0  \n",
       "2               63634         4.000000     0  \n",
       "3               63457         4.000000     0  \n",
       "4                2790         6.000000     0  \n",
       "..                ...              ...   ...  \n",
       "345             21489         8.000000     0  \n",
       "346             66124         2.000000     1  \n",
       "347               442         3.853000     0  \n",
       "348              1725         4.000000     0  \n",
       "349             29737         3.864009     0  \n",
       "\n",
       "[350 rows x 15 columns]"
      ]
     },
     "execution_count": 162,
     "metadata": {},
     "output_type": "execute_result"
    }
   ],
   "source": [
    "test_nan"
   ]
  },
  {
   "cell_type": "markdown",
   "metadata": {},
   "source": [
    "## One-Hot Encoding of categorical data"
   ]
  },
  {
   "cell_type": "markdown",
   "metadata": {},
   "source": [
    "We now can one-hot encode the columns without any difficulty."
   ]
  },
  {
   "cell_type": "markdown",
   "metadata": {},
   "source": [
    "#### Application"
   ]
  },
  {
   "cell_type": "markdown",
   "metadata": {},
   "source": [
    "Let's create a function which we can use later to convert our categorical data into one-hot envoded data."
   ]
  },
  {
   "cell_type": "markdown",
   "metadata": {},
   "source": [
    "We convert all the values in the column into one-hot encoded values"
   ]
  },
  {
   "cell_type": "code",
   "execution_count": 180,
   "metadata": {
    "scrolled": true
   },
   "outputs": [],
   "source": [
    "def onehot_conv_test(data, columns, mapping):\n",
    "    res = data.copy()\n",
    "\n",
    "\n",
    "    for el in columns:\n",
    "        for index, row in res[el].to_frame().iterrows():\n",
    "            res.at[index, el] = mapping[el][row[el]]\n",
    "        \n",
    "    return res"
   ]
  },
  {
   "cell_type": "code",
   "execution_count": 182,
   "metadata": {},
   "outputs": [],
   "source": [
    "columns = ['SERVER', 'WHOIS_COUNTRY', 'WHOIS_STATEPRO']\n",
    "new_data = onehot_conv_test(test_nan, columns, mapping)"
   ]
  },
  {
   "cell_type": "markdown",
   "metadata": {},
   "source": [
    "We have successfully created our one-hot encoded version :"
   ]
  },
  {
   "cell_type": "code",
   "execution_count": 183,
   "metadata": {},
   "outputs": [
    {
     "data": {
      "text/html": [
       "<div>\n",
       "<style scoped>\n",
       "    .dataframe tbody tr th:only-of-type {\n",
       "        vertical-align: middle;\n",
       "    }\n",
       "\n",
       "    .dataframe tbody tr th {\n",
       "        vertical-align: top;\n",
       "    }\n",
       "\n",
       "    .dataframe thead th {\n",
       "        text-align: right;\n",
       "    }\n",
       "</style>\n",
       "<table border=\"1\" class=\"dataframe\">\n",
       "  <thead>\n",
       "    <tr style=\"text-align: right;\">\n",
       "      <th></th>\n",
       "      <th>URL_LENGTH</th>\n",
       "      <th>NUMBER_SPECIAL_CHARACTERS</th>\n",
       "      <th>SERVER</th>\n",
       "      <th>CONTENT_LENGTH</th>\n",
       "      <th>WHOIS_COUNTRY</th>\n",
       "      <th>WHOIS_STATEPRO</th>\n",
       "      <th>WHOIS_REGDATE</th>\n",
       "      <th>WHOIS_UPDATED_DATE</th>\n",
       "      <th>DIST_REMOTE_TCP_PORT</th>\n",
       "      <th>REMOTE_IPS</th>\n",
       "      <th>APP_BYTES</th>\n",
       "      <th>REMOTE_APP_PACKETS</th>\n",
       "      <th>SOURCE_APP_BYTES</th>\n",
       "      <th>DNS_QUERY_TIMES</th>\n",
       "      <th>Type</th>\n",
       "    </tr>\n",
       "  </thead>\n",
       "  <tbody>\n",
       "    <tr>\n",
       "      <th>0</th>\n",
       "      <td>100</td>\n",
       "      <td>20</td>\n",
       "      <td>[0.0, 0.0, 0.0, 0.0, 0.0, 0.0, 1.0, 0.0, 0.0, ...</td>\n",
       "      <td>15319.311475</td>\n",
       "      <td>[0.0, 0.0, 0.0, 0.0, 0.0, 0.0, 0.0, 0.0, 0.0, ...</td>\n",
       "      <td>[0.0, 0.0, 0.0, 0.0, 0.0, 0.0, 0.0, 0.0, 0.0, ...</td>\n",
       "      <td>1221602400.0</td>\n",
       "      <td>1454972400.0</td>\n",
       "      <td>4</td>\n",
       "      <td>3</td>\n",
       "      <td>1873</td>\n",
       "      <td>3</td>\n",
       "      <td>186</td>\n",
       "      <td>2.171429</td>\n",
       "      <td>1</td>\n",
       "    </tr>\n",
       "    <tr>\n",
       "      <th>1</th>\n",
       "      <td>50</td>\n",
       "      <td>11</td>\n",
       "      <td>[0.0, 0.0, 0.0, 0.0, 0.0, 0.0, 1.0, 0.0, 0.0, ...</td>\n",
       "      <td>1819.000000</td>\n",
       "      <td>[0.0, 0.0, 0.0, 0.0, 0.0, 0.0, 0.0, 0.0, 0.0, ...</td>\n",
       "      <td>[0.0, 0.0, 0.0, 0.0, 0.0, 0.0, 0.0, 0.0, 0.0, ...</td>\n",
       "      <td>1013382000.0</td>\n",
       "      <td>1485990000.0</td>\n",
       "      <td>27</td>\n",
       "      <td>5</td>\n",
       "      <td>5203</td>\n",
       "      <td>44</td>\n",
       "      <td>13097</td>\n",
       "      <td>8.000000</td>\n",
       "      <td>0</td>\n",
       "    </tr>\n",
       "    <tr>\n",
       "      <th>2</th>\n",
       "      <td>28</td>\n",
       "      <td>7</td>\n",
       "      <td>[0.0, 0.0, 0.0, 0.0, 0.0, 0.0, 0.0, 0.0, 0.0, ...</td>\n",
       "      <td>6666.000000</td>\n",
       "      <td>[0.0, 0.0, 0.0, 0.0, 0.0, 0.0, 0.0, 0.0, 0.0, ...</td>\n",
       "      <td>[0.0, 0.0, 0.0, 0.0, 0.0, 0.0, 0.0, 0.0, 0.0, ...</td>\n",
       "      <td>964994400.0</td>\n",
       "      <td>1467151200.0</td>\n",
       "      <td>5</td>\n",
       "      <td>11</td>\n",
       "      <td>6311</td>\n",
       "      <td>64</td>\n",
       "      <td>63634</td>\n",
       "      <td>4.000000</td>\n",
       "      <td>0</td>\n",
       "    </tr>\n",
       "    <tr>\n",
       "      <th>3</th>\n",
       "      <td>43</td>\n",
       "      <td>7</td>\n",
       "      <td>[0.0, 0.0, 0.0, 0.0, 0.0, 0.0, 0.0, 0.0, 0.0, ...</td>\n",
       "      <td>20592.000000</td>\n",
       "      <td>[0.0, 0.0, 0.0, 0.0, 0.0, 0.0, 0.0, 0.0, 0.0, ...</td>\n",
       "      <td>[0.0, 0.0, 0.0, 0.0, 0.0, 0.0, 0.0, 0.0, 0.0, ...</td>\n",
       "      <td>964994400.0</td>\n",
       "      <td>1467151200.0</td>\n",
       "      <td>5</td>\n",
       "      <td>13</td>\n",
       "      <td>6081</td>\n",
       "      <td>71</td>\n",
       "      <td>63457</td>\n",
       "      <td>4.000000</td>\n",
       "      <td>0</td>\n",
       "    </tr>\n",
       "    <tr>\n",
       "      <th>4</th>\n",
       "      <td>47</td>\n",
       "      <td>11</td>\n",
       "      <td>[0.0, 0.0, 0.0, 0.0, 0.0, 0.0, 1.0, 0.0, 0.0, ...</td>\n",
       "      <td>15319.311475</td>\n",
       "      <td>[0.0, 0.0, 0.0, 0.0, 0.0, 0.0, 0.0, 0.0, 0.0, ...</td>\n",
       "      <td>[0.0, 0.0, 0.0, 0.0, 0.0, 0.0, 0.0, 0.0, 0.0, ...</td>\n",
       "      <td>896780723.657143</td>\n",
       "      <td>1277948428.457143</td>\n",
       "      <td>1</td>\n",
       "      <td>7</td>\n",
       "      <td>1552</td>\n",
       "      <td>20</td>\n",
       "      <td>2790</td>\n",
       "      <td>6.000000</td>\n",
       "      <td>0</td>\n",
       "    </tr>\n",
       "    <tr>\n",
       "      <th>...</th>\n",
       "      <td>...</td>\n",
       "      <td>...</td>\n",
       "      <td>...</td>\n",
       "      <td>...</td>\n",
       "      <td>...</td>\n",
       "      <td>...</td>\n",
       "      <td>...</td>\n",
       "      <td>...</td>\n",
       "      <td>...</td>\n",
       "      <td>...</td>\n",
       "      <td>...</td>\n",
       "      <td>...</td>\n",
       "      <td>...</td>\n",
       "      <td>...</td>\n",
       "      <td>...</td>\n",
       "    </tr>\n",
       "    <tr>\n",
       "      <th>345</th>\n",
       "      <td>141</td>\n",
       "      <td>24</td>\n",
       "      <td>[0.0, 0.0, 1.0, 0.0, 0.0, 0.0, 0.0, 0.0, 0.0, ...</td>\n",
       "      <td>15428.926706</td>\n",
       "      <td>[0.0, 0.0, 0.0, 0.0, 0.0, 0.0, 0.0, 0.0, 0.0, ...</td>\n",
       "      <td>[0.0, 0.0, 0.0, 0.0, 0.0, 0.0, 0.0, 0.0, 0.0, ...</td>\n",
       "      <td>790383600.0</td>\n",
       "      <td>1440540000.0</td>\n",
       "      <td>7</td>\n",
       "      <td>6</td>\n",
       "      <td>3925</td>\n",
       "      <td>35</td>\n",
       "      <td>21489</td>\n",
       "      <td>8.000000</td>\n",
       "      <td>0</td>\n",
       "    </tr>\n",
       "    <tr>\n",
       "      <th>346</th>\n",
       "      <td>48</td>\n",
       "      <td>14</td>\n",
       "      <td>[0.0, 0.0, 0.0, 0.0, 0.0, 0.0, 1.0, 0.0, 0.0, ...</td>\n",
       "      <td>15428.926706</td>\n",
       "      <td>[0.0, 0.0, 0.0, 0.0, 0.0, 0.0, 0.0, 0.0, 0.0, ...</td>\n",
       "      <td>[0.0, 0.0, 0.0, 0.0, 0.0, 0.0, 0.0, 0.0, 0.0, ...</td>\n",
       "      <td>1152482400.0</td>\n",
       "      <td>1499032800.0</td>\n",
       "      <td>7</td>\n",
       "      <td>1</td>\n",
       "      <td>3450</td>\n",
       "      <td>51</td>\n",
       "      <td>66124</td>\n",
       "      <td>2.000000</td>\n",
       "      <td>1</td>\n",
       "    </tr>\n",
       "    <tr>\n",
       "      <th>347</th>\n",
       "      <td>25</td>\n",
       "      <td>6</td>\n",
       "      <td>[0.0, 0.0, 0.0, 0.0, 0.0, 0.0, 0.0, 0.0, 0.0, ...</td>\n",
       "      <td>15428.926706</td>\n",
       "      <td>[0.0, 0.0, 0.0, 0.0, 0.0, 0.0, 0.0, 0.0, 0.0, ...</td>\n",
       "      <td>[0.0, 0.0, 0.0, 0.0, 0.0, 0.0, 0.0, 0.0, 0.0, ...</td>\n",
       "      <td>1106780400.0</td>\n",
       "      <td>1384470000.0</td>\n",
       "      <td>5</td>\n",
       "      <td>2</td>\n",
       "      <td>564</td>\n",
       "      <td>7</td>\n",
       "      <td>442</td>\n",
       "      <td>3.853000</td>\n",
       "      <td>0</td>\n",
       "    </tr>\n",
       "    <tr>\n",
       "      <th>348</th>\n",
       "      <td>88</td>\n",
       "      <td>15</td>\n",
       "      <td>[0.0, 0.0, 0.0, 0.0, 0.0, 0.0, 1.0, 0.0, 0.0, ...</td>\n",
       "      <td>15428.926706</td>\n",
       "      <td>[0.0, 0.0, 0.0, 0.0, 0.0, 0.0, 0.0, 0.0, 0.0, ...</td>\n",
       "      <td>[0.0, 0.0, 0.0, 0.0, 0.0, 0.0, 0.0, 0.0, 0.0, ...</td>\n",
       "      <td>1269471600.0</td>\n",
       "      <td>1490396400.0</td>\n",
       "      <td>3</td>\n",
       "      <td>4</td>\n",
       "      <td>1346</td>\n",
       "      <td>16</td>\n",
       "      <td>1725</td>\n",
       "      <td>4.000000</td>\n",
       "      <td>0</td>\n",
       "    </tr>\n",
       "    <tr>\n",
       "      <th>349</th>\n",
       "      <td>47</td>\n",
       "      <td>9</td>\n",
       "      <td>[0.0, 0.0, 0.0, 0.0, 0.0, 0.0, 1.0, 0.0, 0.0, ...</td>\n",
       "      <td>675.000000</td>\n",
       "      <td>[0.0, 0.0, 0.0, 0.0, 0.0, 0.0, 0.0, 0.0, 0.0, ...</td>\n",
       "      <td>[0.0, 0.0, 0.0, 0.0, 0.0, 0.0, 0.0, 0.0, 0.0, ...</td>\n",
       "      <td>943743600.0</td>\n",
       "      <td>1378677600.0</td>\n",
       "      <td>7</td>\n",
       "      <td>4</td>\n",
       "      <td>2785</td>\n",
       "      <td>29</td>\n",
       "      <td>29737</td>\n",
       "      <td>3.864009</td>\n",
       "      <td>0</td>\n",
       "    </tr>\n",
       "  </tbody>\n",
       "</table>\n",
       "<p>350 rows × 15 columns</p>\n",
       "</div>"
      ],
      "text/plain": [
       "     URL_LENGTH  NUMBER_SPECIAL_CHARACTERS  \\\n",
       "0           100                         20   \n",
       "1            50                         11   \n",
       "2            28                          7   \n",
       "3            43                          7   \n",
       "4            47                         11   \n",
       "..          ...                        ...   \n",
       "345         141                         24   \n",
       "346          48                         14   \n",
       "347          25                          6   \n",
       "348          88                         15   \n",
       "349          47                          9   \n",
       "\n",
       "                                                SERVER  CONTENT_LENGTH  \\\n",
       "0    [0.0, 0.0, 0.0, 0.0, 0.0, 0.0, 1.0, 0.0, 0.0, ...    15319.311475   \n",
       "1    [0.0, 0.0, 0.0, 0.0, 0.0, 0.0, 1.0, 0.0, 0.0, ...     1819.000000   \n",
       "2    [0.0, 0.0, 0.0, 0.0, 0.0, 0.0, 0.0, 0.0, 0.0, ...     6666.000000   \n",
       "3    [0.0, 0.0, 0.0, 0.0, 0.0, 0.0, 0.0, 0.0, 0.0, ...    20592.000000   \n",
       "4    [0.0, 0.0, 0.0, 0.0, 0.0, 0.0, 1.0, 0.0, 0.0, ...    15319.311475   \n",
       "..                                                 ...             ...   \n",
       "345  [0.0, 0.0, 1.0, 0.0, 0.0, 0.0, 0.0, 0.0, 0.0, ...    15428.926706   \n",
       "346  [0.0, 0.0, 0.0, 0.0, 0.0, 0.0, 1.0, 0.0, 0.0, ...    15428.926706   \n",
       "347  [0.0, 0.0, 0.0, 0.0, 0.0, 0.0, 0.0, 0.0, 0.0, ...    15428.926706   \n",
       "348  [0.0, 0.0, 0.0, 0.0, 0.0, 0.0, 1.0, 0.0, 0.0, ...    15428.926706   \n",
       "349  [0.0, 0.0, 0.0, 0.0, 0.0, 0.0, 1.0, 0.0, 0.0, ...      675.000000   \n",
       "\n",
       "                                         WHOIS_COUNTRY  \\\n",
       "0    [0.0, 0.0, 0.0, 0.0, 0.0, 0.0, 0.0, 0.0, 0.0, ...   \n",
       "1    [0.0, 0.0, 0.0, 0.0, 0.0, 0.0, 0.0, 0.0, 0.0, ...   \n",
       "2    [0.0, 0.0, 0.0, 0.0, 0.0, 0.0, 0.0, 0.0, 0.0, ...   \n",
       "3    [0.0, 0.0, 0.0, 0.0, 0.0, 0.0, 0.0, 0.0, 0.0, ...   \n",
       "4    [0.0, 0.0, 0.0, 0.0, 0.0, 0.0, 0.0, 0.0, 0.0, ...   \n",
       "..                                                 ...   \n",
       "345  [0.0, 0.0, 0.0, 0.0, 0.0, 0.0, 0.0, 0.0, 0.0, ...   \n",
       "346  [0.0, 0.0, 0.0, 0.0, 0.0, 0.0, 0.0, 0.0, 0.0, ...   \n",
       "347  [0.0, 0.0, 0.0, 0.0, 0.0, 0.0, 0.0, 0.0, 0.0, ...   \n",
       "348  [0.0, 0.0, 0.0, 0.0, 0.0, 0.0, 0.0, 0.0, 0.0, ...   \n",
       "349  [0.0, 0.0, 0.0, 0.0, 0.0, 0.0, 0.0, 0.0, 0.0, ...   \n",
       "\n",
       "                                        WHOIS_STATEPRO     WHOIS_REGDATE  \\\n",
       "0    [0.0, 0.0, 0.0, 0.0, 0.0, 0.0, 0.0, 0.0, 0.0, ...      1221602400.0   \n",
       "1    [0.0, 0.0, 0.0, 0.0, 0.0, 0.0, 0.0, 0.0, 0.0, ...      1013382000.0   \n",
       "2    [0.0, 0.0, 0.0, 0.0, 0.0, 0.0, 0.0, 0.0, 0.0, ...       964994400.0   \n",
       "3    [0.0, 0.0, 0.0, 0.0, 0.0, 0.0, 0.0, 0.0, 0.0, ...       964994400.0   \n",
       "4    [0.0, 0.0, 0.0, 0.0, 0.0, 0.0, 0.0, 0.0, 0.0, ...  896780723.657143   \n",
       "..                                                 ...               ...   \n",
       "345  [0.0, 0.0, 0.0, 0.0, 0.0, 0.0, 0.0, 0.0, 0.0, ...       790383600.0   \n",
       "346  [0.0, 0.0, 0.0, 0.0, 0.0, 0.0, 0.0, 0.0, 0.0, ...      1152482400.0   \n",
       "347  [0.0, 0.0, 0.0, 0.0, 0.0, 0.0, 0.0, 0.0, 0.0, ...      1106780400.0   \n",
       "348  [0.0, 0.0, 0.0, 0.0, 0.0, 0.0, 0.0, 0.0, 0.0, ...      1269471600.0   \n",
       "349  [0.0, 0.0, 0.0, 0.0, 0.0, 0.0, 0.0, 0.0, 0.0, ...       943743600.0   \n",
       "\n",
       "    WHOIS_UPDATED_DATE  DIST_REMOTE_TCP_PORT  REMOTE_IPS  APP_BYTES  \\\n",
       "0         1454972400.0                     4           3       1873   \n",
       "1         1485990000.0                    27           5       5203   \n",
       "2         1467151200.0                     5          11       6311   \n",
       "3         1467151200.0                     5          13       6081   \n",
       "4    1277948428.457143                     1           7       1552   \n",
       "..                 ...                   ...         ...        ...   \n",
       "345       1440540000.0                     7           6       3925   \n",
       "346       1499032800.0                     7           1       3450   \n",
       "347       1384470000.0                     5           2        564   \n",
       "348       1490396400.0                     3           4       1346   \n",
       "349       1378677600.0                     7           4       2785   \n",
       "\n",
       "     REMOTE_APP_PACKETS  SOURCE_APP_BYTES  DNS_QUERY_TIMES  Type  \n",
       "0                     3               186         2.171429     1  \n",
       "1                    44             13097         8.000000     0  \n",
       "2                    64             63634         4.000000     0  \n",
       "3                    71             63457         4.000000     0  \n",
       "4                    20              2790         6.000000     0  \n",
       "..                  ...               ...              ...   ...  \n",
       "345                  35             21489         8.000000     0  \n",
       "346                  51             66124         2.000000     1  \n",
       "347                   7               442         3.853000     0  \n",
       "348                  16              1725         4.000000     0  \n",
       "349                  29             29737         3.864009     0  \n",
       "\n",
       "[350 rows x 15 columns]"
      ]
     },
     "execution_count": 183,
     "metadata": {},
     "output_type": "execute_result"
    }
   ],
   "source": [
    "new_data"
   ]
  },
  {
   "cell_type": "code",
   "execution_count": 184,
   "metadata": {},
   "outputs": [],
   "source": [
    "data_test = new_data.copy()"
   ]
  },
  {
   "cell_type": "code",
   "execution_count": null,
   "metadata": {},
   "outputs": [],
   "source": []
  },
  {
   "cell_type": "code",
   "execution_count": 190,
   "metadata": {},
   "outputs": [],
   "source": [
    "X_test = data_test.copy().drop(columns=[\"Type\"]).values.tolist()\n",
    "y_test = data_test[\"Type\"]"
   ]
  },
  {
   "cell_type": "markdown",
   "metadata": {},
   "source": [
    "We need to put each row into a single list to input it to a model."
   ]
  },
  {
   "cell_type": "code",
   "execution_count": 191,
   "metadata": {},
   "outputs": [],
   "source": [
    "new_X_test = []\n",
    "for row in X_test:\n",
    "    new_row = []\n",
    "    for el in row:\n",
    "        if type(el) == type(np.array([])) :\n",
    "            for subel in el:\n",
    "                new_row.append(subel)\n",
    "        else:\n",
    "            new_row.append(el)\n",
    "    new_X_test.append(np.array(new_row))\n",
    "    \n",
    "new_X_test = np.array(new_X_test)"
   ]
  },
  {
   "cell_type": "code",
   "execution_count": 193,
   "metadata": {},
   "outputs": [
    {
     "data": {
      "text/plain": [
       "0.9114285714285715"
      ]
     },
     "execution_count": 193,
     "metadata": {},
     "output_type": "execute_result"
    }
   ],
   "source": [
    "model.score(new_X_test, y_test)"
   ]
  },
  {
   "cell_type": "code",
   "execution_count": 195,
   "metadata": {},
   "outputs": [
    {
     "data": {
      "text/plain": [
       "350"
      ]
     },
     "execution_count": 195,
     "metadata": {},
     "output_type": "execute_result"
    }
   ],
   "source": [
    "model.predict(new_X_test)"
   ]
  },
  {
   "cell_type": "code",
   "execution_count": 197,
   "metadata": {},
   "outputs": [],
   "source": [
    "test_csv = pd.read_csv(\"test.csv\")"
   ]
  },
  {
   "cell_type": "code",
   "execution_count": 198,
   "metadata": {},
   "outputs": [
    {
     "data": {
      "text/html": [
       "<div>\n",
       "<style scoped>\n",
       "    .dataframe tbody tr th:only-of-type {\n",
       "        vertical-align: middle;\n",
       "    }\n",
       "\n",
       "    .dataframe tbody tr th {\n",
       "        vertical-align: top;\n",
       "    }\n",
       "\n",
       "    .dataframe thead th {\n",
       "        text-align: right;\n",
       "    }\n",
       "</style>\n",
       "<table border=\"1\" class=\"dataframe\">\n",
       "  <thead>\n",
       "    <tr style=\"text-align: right;\">\n",
       "      <th></th>\n",
       "      <th>URL</th>\n",
       "      <th>URL_LENGTH</th>\n",
       "      <th>NUMBER_SPECIAL_CHARACTERS</th>\n",
       "      <th>CHARSET</th>\n",
       "      <th>SERVER</th>\n",
       "      <th>CONTENT_LENGTH</th>\n",
       "      <th>WHOIS_COUNTRY</th>\n",
       "      <th>WHOIS_STATEPRO</th>\n",
       "      <th>WHOIS_REGDATE</th>\n",
       "      <th>WHOIS_UPDATED_DATE</th>\n",
       "      <th>TCP_CONVERSATION_EXCHANGE</th>\n",
       "      <th>DIST_REMOTE_TCP_PORT</th>\n",
       "      <th>REMOTE_IPS</th>\n",
       "      <th>APP_BYTES</th>\n",
       "      <th>SOURCE_APP_PACKETS</th>\n",
       "      <th>REMOTE_APP_PACKETS</th>\n",
       "      <th>SOURCE_APP_BYTES</th>\n",
       "      <th>REMOTE_APP_BYTES</th>\n",
       "      <th>APP_PACKETS</th>\n",
       "      <th>DNS_QUERY_TIMES</th>\n",
       "    </tr>\n",
       "  </thead>\n",
       "  <tbody>\n",
       "    <tr>\n",
       "      <th>0</th>\n",
       "      <td>M4_22</td>\n",
       "      <td>100</td>\n",
       "      <td>20</td>\n",
       "      <td>UTF-8</td>\n",
       "      <td>Apache</td>\n",
       "      <td>NaN</td>\n",
       "      <td>ES</td>\n",
       "      <td>Barcelona</td>\n",
       "      <td>17/09/2008 0:00</td>\n",
       "      <td>2/09/2016 0:00</td>\n",
       "      <td>0</td>\n",
       "      <td>0</td>\n",
       "      <td>0</td>\n",
       "      <td>0</td>\n",
       "      <td>0</td>\n",
       "      <td>3</td>\n",
       "      <td>186</td>\n",
       "      <td>0</td>\n",
       "      <td>0</td>\n",
       "      <td>0.0</td>\n",
       "    </tr>\n",
       "    <tr>\n",
       "      <th>1</th>\n",
       "      <td>B0_402</td>\n",
       "      <td>50</td>\n",
       "      <td>11</td>\n",
       "      <td>ISO-8859-1</td>\n",
       "      <td>None</td>\n",
       "      <td>1819.0</td>\n",
       "      <td>US</td>\n",
       "      <td>CA</td>\n",
       "      <td>2/11/2002 0:00</td>\n",
       "      <td>2/02/2017 0:00</td>\n",
       "      <td>33</td>\n",
       "      <td>27</td>\n",
       "      <td>5</td>\n",
       "      <td>5203</td>\n",
       "      <td>41</td>\n",
       "      <td>44</td>\n",
       "      <td>13097</td>\n",
       "      <td>5803</td>\n",
       "      <td>41</td>\n",
       "      <td>8.0</td>\n",
       "    </tr>\n",
       "    <tr>\n",
       "      <th>2</th>\n",
       "      <td>B0_438</td>\n",
       "      <td>28</td>\n",
       "      <td>7</td>\n",
       "      <td>UTF-8</td>\n",
       "      <td>GSE</td>\n",
       "      <td>6666.0</td>\n",
       "      <td>US</td>\n",
       "      <td>CA</td>\n",
       "      <td>31/07/2000 0:00</td>\n",
       "      <td>29/06/2016 0:00</td>\n",
       "      <td>66</td>\n",
       "      <td>5</td>\n",
       "      <td>11</td>\n",
       "      <td>6311</td>\n",
       "      <td>70</td>\n",
       "      <td>64</td>\n",
       "      <td>63634</td>\n",
       "      <td>6633</td>\n",
       "      <td>70</td>\n",
       "      <td>4.0</td>\n",
       "    </tr>\n",
       "    <tr>\n",
       "      <th>3</th>\n",
       "      <td>B0_759</td>\n",
       "      <td>43</td>\n",
       "      <td>7</td>\n",
       "      <td>UTF-8</td>\n",
       "      <td>GSE</td>\n",
       "      <td>20592.0</td>\n",
       "      <td>US</td>\n",
       "      <td>CA</td>\n",
       "      <td>31/07/2000 0:00</td>\n",
       "      <td>29/06/2016 0:00</td>\n",
       "      <td>64</td>\n",
       "      <td>5</td>\n",
       "      <td>13</td>\n",
       "      <td>6081</td>\n",
       "      <td>69</td>\n",
       "      <td>71</td>\n",
       "      <td>63457</td>\n",
       "      <td>6463</td>\n",
       "      <td>69</td>\n",
       "      <td>4.0</td>\n",
       "    </tr>\n",
       "    <tr>\n",
       "      <th>4</th>\n",
       "      <td>B0_280</td>\n",
       "      <td>47</td>\n",
       "      <td>11</td>\n",
       "      <td>utf-8</td>\n",
       "      <td>Apache/2.2.15 (Red Hat)</td>\n",
       "      <td>NaN</td>\n",
       "      <td>None</td>\n",
       "      <td>None</td>\n",
       "      <td>None</td>\n",
       "      <td>None</td>\n",
       "      <td>15</td>\n",
       "      <td>1</td>\n",
       "      <td>7</td>\n",
       "      <td>1552</td>\n",
       "      <td>21</td>\n",
       "      <td>20</td>\n",
       "      <td>2790</td>\n",
       "      <td>2000</td>\n",
       "      <td>21</td>\n",
       "      <td>6.0</td>\n",
       "    </tr>\n",
       "    <tr>\n",
       "      <th>...</th>\n",
       "      <td>...</td>\n",
       "      <td>...</td>\n",
       "      <td>...</td>\n",
       "      <td>...</td>\n",
       "      <td>...</td>\n",
       "      <td>...</td>\n",
       "      <td>...</td>\n",
       "      <td>...</td>\n",
       "      <td>...</td>\n",
       "      <td>...</td>\n",
       "      <td>...</td>\n",
       "      <td>...</td>\n",
       "      <td>...</td>\n",
       "      <td>...</td>\n",
       "      <td>...</td>\n",
       "      <td>...</td>\n",
       "      <td>...</td>\n",
       "      <td>...</td>\n",
       "      <td>...</td>\n",
       "      <td>...</td>\n",
       "    </tr>\n",
       "    <tr>\n",
       "      <th>345</th>\n",
       "      <td>B0_583</td>\n",
       "      <td>141</td>\n",
       "      <td>24</td>\n",
       "      <td>UTF-8</td>\n",
       "      <td>ATS</td>\n",
       "      <td>NaN</td>\n",
       "      <td>US</td>\n",
       "      <td>CA</td>\n",
       "      <td>18/01/1995 0:00</td>\n",
       "      <td>26/08/2015 0:00</td>\n",
       "      <td>31</td>\n",
       "      <td>7</td>\n",
       "      <td>6</td>\n",
       "      <td>3925</td>\n",
       "      <td>39</td>\n",
       "      <td>35</td>\n",
       "      <td>21489</td>\n",
       "      <td>4535</td>\n",
       "      <td>39</td>\n",
       "      <td>8.0</td>\n",
       "    </tr>\n",
       "    <tr>\n",
       "      <th>346</th>\n",
       "      <td>M0_99</td>\n",
       "      <td>48</td>\n",
       "      <td>14</td>\n",
       "      <td>UTF-8</td>\n",
       "      <td>Apache</td>\n",
       "      <td>NaN</td>\n",
       "      <td>CZ</td>\n",
       "      <td>PRAHA</td>\n",
       "      <td>7/10/2006 0:00</td>\n",
       "      <td>7/03/2017 0:00</td>\n",
       "      <td>48</td>\n",
       "      <td>0</td>\n",
       "      <td>1</td>\n",
       "      <td>3450</td>\n",
       "      <td>50</td>\n",
       "      <td>51</td>\n",
       "      <td>66124</td>\n",
       "      <td>3602</td>\n",
       "      <td>50</td>\n",
       "      <td>2.0</td>\n",
       "    </tr>\n",
       "    <tr>\n",
       "      <th>347</th>\n",
       "      <td>B0_2224</td>\n",
       "      <td>25</td>\n",
       "      <td>6</td>\n",
       "      <td>UTF-8</td>\n",
       "      <td>LiteSpeed</td>\n",
       "      <td>NaN</td>\n",
       "      <td>None</td>\n",
       "      <td>None</td>\n",
       "      <td>27/01/2005 0:00</td>\n",
       "      <td>15/11/2013 0:00</td>\n",
       "      <td>6</td>\n",
       "      <td>5</td>\n",
       "      <td>2</td>\n",
       "      <td>564</td>\n",
       "      <td>6</td>\n",
       "      <td>7</td>\n",
       "      <td>442</td>\n",
       "      <td>564</td>\n",
       "      <td>6</td>\n",
       "      <td>0.0</td>\n",
       "    </tr>\n",
       "    <tr>\n",
       "      <th>348</th>\n",
       "      <td>B0_494</td>\n",
       "      <td>88</td>\n",
       "      <td>15</td>\n",
       "      <td>UTF-8</td>\n",
       "      <td>Apache</td>\n",
       "      <td>NaN</td>\n",
       "      <td>None</td>\n",
       "      <td>None</td>\n",
       "      <td>25/03/2010 0:00</td>\n",
       "      <td>25/03/2017 0:00</td>\n",
       "      <td>11</td>\n",
       "      <td>3</td>\n",
       "      <td>4</td>\n",
       "      <td>1346</td>\n",
       "      <td>15</td>\n",
       "      <td>16</td>\n",
       "      <td>1725</td>\n",
       "      <td>1670</td>\n",
       "      <td>15</td>\n",
       "      <td>4.0</td>\n",
       "    </tr>\n",
       "    <tr>\n",
       "      <th>349</th>\n",
       "      <td>B0_926</td>\n",
       "      <td>47</td>\n",
       "      <td>9</td>\n",
       "      <td>ISO-8859-1</td>\n",
       "      <td>None</td>\n",
       "      <td>675.0</td>\n",
       "      <td>US</td>\n",
       "      <td>California</td>\n",
       "      <td>28/11/1999 0:00</td>\n",
       "      <td>9/09/2013 0:00</td>\n",
       "      <td>0</td>\n",
       "      <td>0</td>\n",
       "      <td>0</td>\n",
       "      <td>0</td>\n",
       "      <td>0</td>\n",
       "      <td>0</td>\n",
       "      <td>0</td>\n",
       "      <td>0</td>\n",
       "      <td>0</td>\n",
       "      <td>0.0</td>\n",
       "    </tr>\n",
       "  </tbody>\n",
       "</table>\n",
       "<p>350 rows × 20 columns</p>\n",
       "</div>"
      ],
      "text/plain": [
       "         URL  URL_LENGTH  NUMBER_SPECIAL_CHARACTERS     CHARSET  \\\n",
       "0      M4_22         100                         20       UTF-8   \n",
       "1     B0_402          50                         11  ISO-8859-1   \n",
       "2     B0_438          28                          7       UTF-8   \n",
       "3     B0_759          43                          7       UTF-8   \n",
       "4     B0_280          47                         11       utf-8   \n",
       "..       ...         ...                        ...         ...   \n",
       "345   B0_583         141                         24       UTF-8   \n",
       "346    M0_99          48                         14       UTF-8   \n",
       "347  B0_2224          25                          6       UTF-8   \n",
       "348   B0_494          88                         15       UTF-8   \n",
       "349   B0_926          47                          9  ISO-8859-1   \n",
       "\n",
       "                      SERVER  CONTENT_LENGTH WHOIS_COUNTRY WHOIS_STATEPRO  \\\n",
       "0                     Apache             NaN            ES      Barcelona   \n",
       "1                       None          1819.0            US             CA   \n",
       "2                        GSE          6666.0            US             CA   \n",
       "3                        GSE         20592.0            US             CA   \n",
       "4    Apache/2.2.15 (Red Hat)             NaN          None           None   \n",
       "..                       ...             ...           ...            ...   \n",
       "345                      ATS             NaN            US             CA   \n",
       "346                   Apache             NaN            CZ          PRAHA   \n",
       "347                LiteSpeed             NaN          None           None   \n",
       "348                   Apache             NaN          None           None   \n",
       "349                     None           675.0            US     California   \n",
       "\n",
       "       WHOIS_REGDATE WHOIS_UPDATED_DATE  TCP_CONVERSATION_EXCHANGE  \\\n",
       "0    17/09/2008 0:00     2/09/2016 0:00                          0   \n",
       "1     2/11/2002 0:00     2/02/2017 0:00                         33   \n",
       "2    31/07/2000 0:00    29/06/2016 0:00                         66   \n",
       "3    31/07/2000 0:00    29/06/2016 0:00                         64   \n",
       "4               None               None                         15   \n",
       "..               ...                ...                        ...   \n",
       "345  18/01/1995 0:00    26/08/2015 0:00                         31   \n",
       "346   7/10/2006 0:00     7/03/2017 0:00                         48   \n",
       "347  27/01/2005 0:00    15/11/2013 0:00                          6   \n",
       "348  25/03/2010 0:00    25/03/2017 0:00                         11   \n",
       "349  28/11/1999 0:00     9/09/2013 0:00                          0   \n",
       "\n",
       "     DIST_REMOTE_TCP_PORT  REMOTE_IPS  APP_BYTES  SOURCE_APP_PACKETS  \\\n",
       "0                       0           0          0                   0   \n",
       "1                      27           5       5203                  41   \n",
       "2                       5          11       6311                  70   \n",
       "3                       5          13       6081                  69   \n",
       "4                       1           7       1552                  21   \n",
       "..                    ...         ...        ...                 ...   \n",
       "345                     7           6       3925                  39   \n",
       "346                     0           1       3450                  50   \n",
       "347                     5           2        564                   6   \n",
       "348                     3           4       1346                  15   \n",
       "349                     0           0          0                   0   \n",
       "\n",
       "     REMOTE_APP_PACKETS  SOURCE_APP_BYTES  REMOTE_APP_BYTES  APP_PACKETS  \\\n",
       "0                     3               186                 0            0   \n",
       "1                    44             13097              5803           41   \n",
       "2                    64             63634              6633           70   \n",
       "3                    71             63457              6463           69   \n",
       "4                    20              2790              2000           21   \n",
       "..                  ...               ...               ...          ...   \n",
       "345                  35             21489              4535           39   \n",
       "346                  51             66124              3602           50   \n",
       "347                   7               442               564            6   \n",
       "348                  16              1725              1670           15   \n",
       "349                   0                 0                 0            0   \n",
       "\n",
       "     DNS_QUERY_TIMES  \n",
       "0                0.0  \n",
       "1                8.0  \n",
       "2                4.0  \n",
       "3                4.0  \n",
       "4                6.0  \n",
       "..               ...  \n",
       "345              8.0  \n",
       "346              2.0  \n",
       "347              0.0  \n",
       "348              4.0  \n",
       "349              0.0  \n",
       "\n",
       "[350 rows x 20 columns]"
      ]
     },
     "execution_count": 198,
     "metadata": {},
     "output_type": "execute_result"
    }
   ],
   "source": [
    "test_csv"
   ]
  },
  {
   "cell_type": "code",
   "execution_count": 199,
   "metadata": {},
   "outputs": [],
   "source": [
    "test_csv[\"Type\"] = model.predict(new_X_test)"
   ]
  },
  {
   "cell_type": "code",
   "execution_count": 200,
   "metadata": {},
   "outputs": [
    {
     "data": {
      "text/html": [
       "<div>\n",
       "<style scoped>\n",
       "    .dataframe tbody tr th:only-of-type {\n",
       "        vertical-align: middle;\n",
       "    }\n",
       "\n",
       "    .dataframe tbody tr th {\n",
       "        vertical-align: top;\n",
       "    }\n",
       "\n",
       "    .dataframe thead th {\n",
       "        text-align: right;\n",
       "    }\n",
       "</style>\n",
       "<table border=\"1\" class=\"dataframe\">\n",
       "  <thead>\n",
       "    <tr style=\"text-align: right;\">\n",
       "      <th></th>\n",
       "      <th>URL</th>\n",
       "      <th>URL_LENGTH</th>\n",
       "      <th>NUMBER_SPECIAL_CHARACTERS</th>\n",
       "      <th>CHARSET</th>\n",
       "      <th>SERVER</th>\n",
       "      <th>CONTENT_LENGTH</th>\n",
       "      <th>WHOIS_COUNTRY</th>\n",
       "      <th>WHOIS_STATEPRO</th>\n",
       "      <th>WHOIS_REGDATE</th>\n",
       "      <th>WHOIS_UPDATED_DATE</th>\n",
       "      <th>...</th>\n",
       "      <th>DIST_REMOTE_TCP_PORT</th>\n",
       "      <th>REMOTE_IPS</th>\n",
       "      <th>APP_BYTES</th>\n",
       "      <th>SOURCE_APP_PACKETS</th>\n",
       "      <th>REMOTE_APP_PACKETS</th>\n",
       "      <th>SOURCE_APP_BYTES</th>\n",
       "      <th>REMOTE_APP_BYTES</th>\n",
       "      <th>APP_PACKETS</th>\n",
       "      <th>DNS_QUERY_TIMES</th>\n",
       "      <th>Type</th>\n",
       "    </tr>\n",
       "  </thead>\n",
       "  <tbody>\n",
       "    <tr>\n",
       "      <th>0</th>\n",
       "      <td>M4_22</td>\n",
       "      <td>100</td>\n",
       "      <td>20</td>\n",
       "      <td>UTF-8</td>\n",
       "      <td>Apache</td>\n",
       "      <td>NaN</td>\n",
       "      <td>ES</td>\n",
       "      <td>Barcelona</td>\n",
       "      <td>17/09/2008 0:00</td>\n",
       "      <td>2/09/2016 0:00</td>\n",
       "      <td>...</td>\n",
       "      <td>0</td>\n",
       "      <td>0</td>\n",
       "      <td>0</td>\n",
       "      <td>0</td>\n",
       "      <td>3</td>\n",
       "      <td>186</td>\n",
       "      <td>0</td>\n",
       "      <td>0</td>\n",
       "      <td>0.0</td>\n",
       "      <td>1</td>\n",
       "    </tr>\n",
       "    <tr>\n",
       "      <th>1</th>\n",
       "      <td>B0_402</td>\n",
       "      <td>50</td>\n",
       "      <td>11</td>\n",
       "      <td>ISO-8859-1</td>\n",
       "      <td>None</td>\n",
       "      <td>1819.0</td>\n",
       "      <td>US</td>\n",
       "      <td>CA</td>\n",
       "      <td>2/11/2002 0:00</td>\n",
       "      <td>2/02/2017 0:00</td>\n",
       "      <td>...</td>\n",
       "      <td>27</td>\n",
       "      <td>5</td>\n",
       "      <td>5203</td>\n",
       "      <td>41</td>\n",
       "      <td>44</td>\n",
       "      <td>13097</td>\n",
       "      <td>5803</td>\n",
       "      <td>41</td>\n",
       "      <td>8.0</td>\n",
       "      <td>0</td>\n",
       "    </tr>\n",
       "    <tr>\n",
       "      <th>2</th>\n",
       "      <td>B0_438</td>\n",
       "      <td>28</td>\n",
       "      <td>7</td>\n",
       "      <td>UTF-8</td>\n",
       "      <td>GSE</td>\n",
       "      <td>6666.0</td>\n",
       "      <td>US</td>\n",
       "      <td>CA</td>\n",
       "      <td>31/07/2000 0:00</td>\n",
       "      <td>29/06/2016 0:00</td>\n",
       "      <td>...</td>\n",
       "      <td>5</td>\n",
       "      <td>11</td>\n",
       "      <td>6311</td>\n",
       "      <td>70</td>\n",
       "      <td>64</td>\n",
       "      <td>63634</td>\n",
       "      <td>6633</td>\n",
       "      <td>70</td>\n",
       "      <td>4.0</td>\n",
       "      <td>0</td>\n",
       "    </tr>\n",
       "    <tr>\n",
       "      <th>3</th>\n",
       "      <td>B0_759</td>\n",
       "      <td>43</td>\n",
       "      <td>7</td>\n",
       "      <td>UTF-8</td>\n",
       "      <td>GSE</td>\n",
       "      <td>20592.0</td>\n",
       "      <td>US</td>\n",
       "      <td>CA</td>\n",
       "      <td>31/07/2000 0:00</td>\n",
       "      <td>29/06/2016 0:00</td>\n",
       "      <td>...</td>\n",
       "      <td>5</td>\n",
       "      <td>13</td>\n",
       "      <td>6081</td>\n",
       "      <td>69</td>\n",
       "      <td>71</td>\n",
       "      <td>63457</td>\n",
       "      <td>6463</td>\n",
       "      <td>69</td>\n",
       "      <td>4.0</td>\n",
       "      <td>0</td>\n",
       "    </tr>\n",
       "    <tr>\n",
       "      <th>4</th>\n",
       "      <td>B0_280</td>\n",
       "      <td>47</td>\n",
       "      <td>11</td>\n",
       "      <td>utf-8</td>\n",
       "      <td>Apache/2.2.15 (Red Hat)</td>\n",
       "      <td>NaN</td>\n",
       "      <td>None</td>\n",
       "      <td>None</td>\n",
       "      <td>None</td>\n",
       "      <td>None</td>\n",
       "      <td>...</td>\n",
       "      <td>1</td>\n",
       "      <td>7</td>\n",
       "      <td>1552</td>\n",
       "      <td>21</td>\n",
       "      <td>20</td>\n",
       "      <td>2790</td>\n",
       "      <td>2000</td>\n",
       "      <td>21</td>\n",
       "      <td>6.0</td>\n",
       "      <td>0</td>\n",
       "    </tr>\n",
       "    <tr>\n",
       "      <th>...</th>\n",
       "      <td>...</td>\n",
       "      <td>...</td>\n",
       "      <td>...</td>\n",
       "      <td>...</td>\n",
       "      <td>...</td>\n",
       "      <td>...</td>\n",
       "      <td>...</td>\n",
       "      <td>...</td>\n",
       "      <td>...</td>\n",
       "      <td>...</td>\n",
       "      <td>...</td>\n",
       "      <td>...</td>\n",
       "      <td>...</td>\n",
       "      <td>...</td>\n",
       "      <td>...</td>\n",
       "      <td>...</td>\n",
       "      <td>...</td>\n",
       "      <td>...</td>\n",
       "      <td>...</td>\n",
       "      <td>...</td>\n",
       "      <td>...</td>\n",
       "    </tr>\n",
       "    <tr>\n",
       "      <th>345</th>\n",
       "      <td>B0_583</td>\n",
       "      <td>141</td>\n",
       "      <td>24</td>\n",
       "      <td>UTF-8</td>\n",
       "      <td>ATS</td>\n",
       "      <td>NaN</td>\n",
       "      <td>US</td>\n",
       "      <td>CA</td>\n",
       "      <td>18/01/1995 0:00</td>\n",
       "      <td>26/08/2015 0:00</td>\n",
       "      <td>...</td>\n",
       "      <td>7</td>\n",
       "      <td>6</td>\n",
       "      <td>3925</td>\n",
       "      <td>39</td>\n",
       "      <td>35</td>\n",
       "      <td>21489</td>\n",
       "      <td>4535</td>\n",
       "      <td>39</td>\n",
       "      <td>8.0</td>\n",
       "      <td>0</td>\n",
       "    </tr>\n",
       "    <tr>\n",
       "      <th>346</th>\n",
       "      <td>M0_99</td>\n",
       "      <td>48</td>\n",
       "      <td>14</td>\n",
       "      <td>UTF-8</td>\n",
       "      <td>Apache</td>\n",
       "      <td>NaN</td>\n",
       "      <td>CZ</td>\n",
       "      <td>PRAHA</td>\n",
       "      <td>7/10/2006 0:00</td>\n",
       "      <td>7/03/2017 0:00</td>\n",
       "      <td>...</td>\n",
       "      <td>0</td>\n",
       "      <td>1</td>\n",
       "      <td>3450</td>\n",
       "      <td>50</td>\n",
       "      <td>51</td>\n",
       "      <td>66124</td>\n",
       "      <td>3602</td>\n",
       "      <td>50</td>\n",
       "      <td>2.0</td>\n",
       "      <td>1</td>\n",
       "    </tr>\n",
       "    <tr>\n",
       "      <th>347</th>\n",
       "      <td>B0_2224</td>\n",
       "      <td>25</td>\n",
       "      <td>6</td>\n",
       "      <td>UTF-8</td>\n",
       "      <td>LiteSpeed</td>\n",
       "      <td>NaN</td>\n",
       "      <td>None</td>\n",
       "      <td>None</td>\n",
       "      <td>27/01/2005 0:00</td>\n",
       "      <td>15/11/2013 0:00</td>\n",
       "      <td>...</td>\n",
       "      <td>5</td>\n",
       "      <td>2</td>\n",
       "      <td>564</td>\n",
       "      <td>6</td>\n",
       "      <td>7</td>\n",
       "      <td>442</td>\n",
       "      <td>564</td>\n",
       "      <td>6</td>\n",
       "      <td>0.0</td>\n",
       "      <td>0</td>\n",
       "    </tr>\n",
       "    <tr>\n",
       "      <th>348</th>\n",
       "      <td>B0_494</td>\n",
       "      <td>88</td>\n",
       "      <td>15</td>\n",
       "      <td>UTF-8</td>\n",
       "      <td>Apache</td>\n",
       "      <td>NaN</td>\n",
       "      <td>None</td>\n",
       "      <td>None</td>\n",
       "      <td>25/03/2010 0:00</td>\n",
       "      <td>25/03/2017 0:00</td>\n",
       "      <td>...</td>\n",
       "      <td>3</td>\n",
       "      <td>4</td>\n",
       "      <td>1346</td>\n",
       "      <td>15</td>\n",
       "      <td>16</td>\n",
       "      <td>1725</td>\n",
       "      <td>1670</td>\n",
       "      <td>15</td>\n",
       "      <td>4.0</td>\n",
       "      <td>0</td>\n",
       "    </tr>\n",
       "    <tr>\n",
       "      <th>349</th>\n",
       "      <td>B0_926</td>\n",
       "      <td>47</td>\n",
       "      <td>9</td>\n",
       "      <td>ISO-8859-1</td>\n",
       "      <td>None</td>\n",
       "      <td>675.0</td>\n",
       "      <td>US</td>\n",
       "      <td>California</td>\n",
       "      <td>28/11/1999 0:00</td>\n",
       "      <td>9/09/2013 0:00</td>\n",
       "      <td>...</td>\n",
       "      <td>0</td>\n",
       "      <td>0</td>\n",
       "      <td>0</td>\n",
       "      <td>0</td>\n",
       "      <td>0</td>\n",
       "      <td>0</td>\n",
       "      <td>0</td>\n",
       "      <td>0</td>\n",
       "      <td>0.0</td>\n",
       "      <td>0</td>\n",
       "    </tr>\n",
       "  </tbody>\n",
       "</table>\n",
       "<p>350 rows × 21 columns</p>\n",
       "</div>"
      ],
      "text/plain": [
       "         URL  URL_LENGTH  NUMBER_SPECIAL_CHARACTERS     CHARSET  \\\n",
       "0      M4_22         100                         20       UTF-8   \n",
       "1     B0_402          50                         11  ISO-8859-1   \n",
       "2     B0_438          28                          7       UTF-8   \n",
       "3     B0_759          43                          7       UTF-8   \n",
       "4     B0_280          47                         11       utf-8   \n",
       "..       ...         ...                        ...         ...   \n",
       "345   B0_583         141                         24       UTF-8   \n",
       "346    M0_99          48                         14       UTF-8   \n",
       "347  B0_2224          25                          6       UTF-8   \n",
       "348   B0_494          88                         15       UTF-8   \n",
       "349   B0_926          47                          9  ISO-8859-1   \n",
       "\n",
       "                      SERVER  CONTENT_LENGTH WHOIS_COUNTRY WHOIS_STATEPRO  \\\n",
       "0                     Apache             NaN            ES      Barcelona   \n",
       "1                       None          1819.0            US             CA   \n",
       "2                        GSE          6666.0            US             CA   \n",
       "3                        GSE         20592.0            US             CA   \n",
       "4    Apache/2.2.15 (Red Hat)             NaN          None           None   \n",
       "..                       ...             ...           ...            ...   \n",
       "345                      ATS             NaN            US             CA   \n",
       "346                   Apache             NaN            CZ          PRAHA   \n",
       "347                LiteSpeed             NaN          None           None   \n",
       "348                   Apache             NaN          None           None   \n",
       "349                     None           675.0            US     California   \n",
       "\n",
       "       WHOIS_REGDATE WHOIS_UPDATED_DATE  ...  DIST_REMOTE_TCP_PORT  \\\n",
       "0    17/09/2008 0:00     2/09/2016 0:00  ...                     0   \n",
       "1     2/11/2002 0:00     2/02/2017 0:00  ...                    27   \n",
       "2    31/07/2000 0:00    29/06/2016 0:00  ...                     5   \n",
       "3    31/07/2000 0:00    29/06/2016 0:00  ...                     5   \n",
       "4               None               None  ...                     1   \n",
       "..               ...                ...  ...                   ...   \n",
       "345  18/01/1995 0:00    26/08/2015 0:00  ...                     7   \n",
       "346   7/10/2006 0:00     7/03/2017 0:00  ...                     0   \n",
       "347  27/01/2005 0:00    15/11/2013 0:00  ...                     5   \n",
       "348  25/03/2010 0:00    25/03/2017 0:00  ...                     3   \n",
       "349  28/11/1999 0:00     9/09/2013 0:00  ...                     0   \n",
       "\n",
       "     REMOTE_IPS  APP_BYTES  SOURCE_APP_PACKETS  REMOTE_APP_PACKETS  \\\n",
       "0             0          0                   0                   3   \n",
       "1             5       5203                  41                  44   \n",
       "2            11       6311                  70                  64   \n",
       "3            13       6081                  69                  71   \n",
       "4             7       1552                  21                  20   \n",
       "..          ...        ...                 ...                 ...   \n",
       "345           6       3925                  39                  35   \n",
       "346           1       3450                  50                  51   \n",
       "347           2        564                   6                   7   \n",
       "348           4       1346                  15                  16   \n",
       "349           0          0                   0                   0   \n",
       "\n",
       "     SOURCE_APP_BYTES  REMOTE_APP_BYTES  APP_PACKETS  DNS_QUERY_TIMES  Type  \n",
       "0                 186                 0            0              0.0     1  \n",
       "1               13097              5803           41              8.0     0  \n",
       "2               63634              6633           70              4.0     0  \n",
       "3               63457              6463           69              4.0     0  \n",
       "4                2790              2000           21              6.0     0  \n",
       "..                ...               ...          ...              ...   ...  \n",
       "345             21489              4535           39              8.0     0  \n",
       "346             66124              3602           50              2.0     1  \n",
       "347               442               564            6              0.0     0  \n",
       "348              1725              1670           15              4.0     0  \n",
       "349                 0                 0            0              0.0     0  \n",
       "\n",
       "[350 rows x 21 columns]"
      ]
     },
     "execution_count": 200,
     "metadata": {},
     "output_type": "execute_result"
    }
   ],
   "source": [
    "test_csv"
   ]
  },
  {
   "cell_type": "code",
   "execution_count": 202,
   "metadata": {},
   "outputs": [],
   "source": [
    "test_csv.to_csv('predict.csv', index=False)"
   ]
  },
  {
   "cell_type": "code",
   "execution_count": null,
   "metadata": {},
   "outputs": [],
   "source": []
  }
 ],
 "metadata": {
  "kernelspec": {
   "display_name": "Python 3",
   "language": "python",
   "name": "python3"
  },
  "language_info": {
   "codemirror_mode": {
    "name": "ipython",
    "version": 3
   },
   "file_extension": ".py",
   "mimetype": "text/x-python",
   "name": "python",
   "nbconvert_exporter": "python",
   "pygments_lexer": "ipython3",
   "version": "3.8.5"
  }
 },
 "nbformat": 4,
 "nbformat_minor": 4
}
